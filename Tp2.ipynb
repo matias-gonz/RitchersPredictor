{
  "nbformat": 4,
  "nbformat_minor": 0,
  "metadata": {
    "colab": {
      "name": "Tp2.ipynb",
      "provenance": [],
      "collapsed_sections": []
    },
    "kernelspec": {
      "name": "python3",
      "display_name": "Python 3"
    },
    "language_info": {
      "name": "python"
    }
  },
  "cells": [
    {
      "cell_type": "code",
      "metadata": {
        "id": "6BIXqo1kXmD4",
        "colab": {
          "base_uri": "https://localhost:8080/"
        },
        "outputId": "28ab0b5b-0f7c-495f-97b5-04726f5d747b"
      },
      "source": [
        "import pandas as pd\n",
        "import numpy as np\n",
        "import matplotlib.pyplot as plt\n",
        "import seaborn as sns\n",
        "\n",
        "%matplotlib inline\n",
        "\n",
        "plt.style.use('default') # haciendo los graficos un poco mas bonitos en matplotlib\n",
        "#plt.rcParams['figure.figsize'] = (20, 10)\n",
        "\n",
        "sns.set(style=\"whitegrid\") # seteando tipo de grid en seaborn\n",
        "\n",
        "pd.options.display.float_format = '{:20,.2f}'.format # suprimimos la notacion cientifica en los outputs\n",
        "\n",
        "import warnings\n",
        "warnings.filterwarnings('ignore')\n",
        "\n",
        "import xgboost as xgb\n",
        "from sklearn.ensemble import RandomForestRegressor\n",
        "from sklearn.metrics import mean_squared_error\n",
        "from sklearn import tree\n",
        "from sklearn.preprocessing import OneHotEncoder\n",
        "!pip install --upgrade scikit-learn\n",
        "from pydrive.auth import GoogleAuth\n",
        "from pydrive.drive import GoogleDrive\n",
        "from google.colab import auth\n",
        "from oauth2client.client import GoogleCredentials\n",
        "auth.authenticate_user()\n",
        "gauth = GoogleAuth()\n",
        "gauth.credentials = GoogleCredentials.get_application_default()\n",
        "drive = GoogleDrive(gauth)\n",
        "id='1Xcx51Afb_Mzw56BCaF0wVu8eGFZWJhcZ'\n",
        "id2='1F45NhouvIGHdsXLwZ2wU9rZAc16XL8Ls'\n",
        "\n",
        "downloaded = drive.CreateFile({'id': id})\n",
        "downloaded.GetContentFile('train_values.csv')\n",
        "downloaded2 = drive.CreateFile({'id': id2})\n",
        "downloaded2.GetContentFile('train_labels.csv')\n",
        "\n",
        "id3 = \"1kKWIYGdPMNp0wv66ZNxAayuWNuh1t7_v\"\n",
        "downloaded3 = drive.CreateFile({'id': id3})\n",
        "downloaded3.GetContentFile('test_values.csv')\n",
        "id4 = \"1grCPZ3WFSR4T8dRyV8J5CrO_w1psASYT\"\n",
        "downloaded4 = drive.CreateFile({'id': id4})\n",
        "downloaded4.GetContentFile('submission_format.csv')"
      ],
      "execution_count": null,
      "outputs": [
        {
          "output_type": "stream",
          "text": [
            "Requirement already satisfied: scikit-learn in /usr/local/lib/python3.7/dist-packages (0.24.2)\n",
            "Requirement already satisfied: joblib>=0.11 in /usr/local/lib/python3.7/dist-packages (from scikit-learn) (1.0.1)\n",
            "Requirement already satisfied: threadpoolctl>=2.0.0 in /usr/local/lib/python3.7/dist-packages (from scikit-learn) (2.2.0)\n",
            "Requirement already satisfied: scipy>=0.19.1 in /usr/local/lib/python3.7/dist-packages (from scikit-learn) (1.4.1)\n",
            "Requirement already satisfied: numpy>=1.13.3 in /usr/local/lib/python3.7/dist-packages (from scikit-learn) (1.19.5)\n"
          ],
          "name": "stdout"
        }
      ]
    },
    {
      "cell_type": "markdown",
      "metadata": {
        "id": "9dKsT8JQshue"
      },
      "source": [
        "#train values\n",
        "These are the features you'll use to train a model. There are 38 features, including structual information such as the number of floors (before the earthquake), age of the building, and type of foundation, as well as legal information such as ownership status, building use, and the number of families who live there. Each building is identified by a unique (random) building_id, which you can use as an index."
      ]
    },
    {
      "cell_type": "code",
      "metadata": {
        "id": "Dd6ix6tJZtl_",
        "colab": {
          "base_uri": "https://localhost:8080/",
          "height": 255
        },
        "outputId": "100aa717-fac2-46a7-94ea-bd88e4e9d98c"
      },
      "source": [
        "train_values = pd.read_csv('train_values.csv', encoding='latin1',sep=',', index_col='building_id')\n",
        "train_values.head()"
      ],
      "execution_count": null,
      "outputs": [
        {
          "output_type": "execute_result",
          "data": {
            "text/html": [
              "<div>\n",
              "<style scoped>\n",
              "    .dataframe tbody tr th:only-of-type {\n",
              "        vertical-align: middle;\n",
              "    }\n",
              "\n",
              "    .dataframe tbody tr th {\n",
              "        vertical-align: top;\n",
              "    }\n",
              "\n",
              "    .dataframe thead th {\n",
              "        text-align: right;\n",
              "    }\n",
              "</style>\n",
              "<table border=\"1\" class=\"dataframe\">\n",
              "  <thead>\n",
              "    <tr style=\"text-align: right;\">\n",
              "      <th></th>\n",
              "      <th>geo_level_1_id</th>\n",
              "      <th>geo_level_2_id</th>\n",
              "      <th>geo_level_3_id</th>\n",
              "      <th>count_floors_pre_eq</th>\n",
              "      <th>age</th>\n",
              "      <th>area_percentage</th>\n",
              "      <th>height_percentage</th>\n",
              "      <th>land_surface_condition</th>\n",
              "      <th>foundation_type</th>\n",
              "      <th>roof_type</th>\n",
              "      <th>ground_floor_type</th>\n",
              "      <th>other_floor_type</th>\n",
              "      <th>position</th>\n",
              "      <th>plan_configuration</th>\n",
              "      <th>has_superstructure_adobe_mud</th>\n",
              "      <th>has_superstructure_mud_mortar_stone</th>\n",
              "      <th>has_superstructure_stone_flag</th>\n",
              "      <th>has_superstructure_cement_mortar_stone</th>\n",
              "      <th>has_superstructure_mud_mortar_brick</th>\n",
              "      <th>has_superstructure_cement_mortar_brick</th>\n",
              "      <th>has_superstructure_timber</th>\n",
              "      <th>has_superstructure_bamboo</th>\n",
              "      <th>has_superstructure_rc_non_engineered</th>\n",
              "      <th>has_superstructure_rc_engineered</th>\n",
              "      <th>has_superstructure_other</th>\n",
              "      <th>legal_ownership_status</th>\n",
              "      <th>count_families</th>\n",
              "      <th>has_secondary_use</th>\n",
              "      <th>has_secondary_use_agriculture</th>\n",
              "      <th>has_secondary_use_hotel</th>\n",
              "      <th>has_secondary_use_rental</th>\n",
              "      <th>has_secondary_use_institution</th>\n",
              "      <th>has_secondary_use_school</th>\n",
              "      <th>has_secondary_use_industry</th>\n",
              "      <th>has_secondary_use_health_post</th>\n",
              "      <th>has_secondary_use_gov_office</th>\n",
              "      <th>has_secondary_use_use_police</th>\n",
              "      <th>has_secondary_use_other</th>\n",
              "    </tr>\n",
              "    <tr>\n",
              "      <th>building_id</th>\n",
              "      <th></th>\n",
              "      <th></th>\n",
              "      <th></th>\n",
              "      <th></th>\n",
              "      <th></th>\n",
              "      <th></th>\n",
              "      <th></th>\n",
              "      <th></th>\n",
              "      <th></th>\n",
              "      <th></th>\n",
              "      <th></th>\n",
              "      <th></th>\n",
              "      <th></th>\n",
              "      <th></th>\n",
              "      <th></th>\n",
              "      <th></th>\n",
              "      <th></th>\n",
              "      <th></th>\n",
              "      <th></th>\n",
              "      <th></th>\n",
              "      <th></th>\n",
              "      <th></th>\n",
              "      <th></th>\n",
              "      <th></th>\n",
              "      <th></th>\n",
              "      <th></th>\n",
              "      <th></th>\n",
              "      <th></th>\n",
              "      <th></th>\n",
              "      <th></th>\n",
              "      <th></th>\n",
              "      <th></th>\n",
              "      <th></th>\n",
              "      <th></th>\n",
              "      <th></th>\n",
              "      <th></th>\n",
              "      <th></th>\n",
              "      <th></th>\n",
              "    </tr>\n",
              "  </thead>\n",
              "  <tbody>\n",
              "    <tr>\n",
              "      <th>802906</th>\n",
              "      <td>6</td>\n",
              "      <td>487</td>\n",
              "      <td>12198</td>\n",
              "      <td>2</td>\n",
              "      <td>30</td>\n",
              "      <td>6</td>\n",
              "      <td>5</td>\n",
              "      <td>t</td>\n",
              "      <td>r</td>\n",
              "      <td>n</td>\n",
              "      <td>f</td>\n",
              "      <td>q</td>\n",
              "      <td>t</td>\n",
              "      <td>d</td>\n",
              "      <td>1</td>\n",
              "      <td>1</td>\n",
              "      <td>0</td>\n",
              "      <td>0</td>\n",
              "      <td>0</td>\n",
              "      <td>0</td>\n",
              "      <td>0</td>\n",
              "      <td>0</td>\n",
              "      <td>0</td>\n",
              "      <td>0</td>\n",
              "      <td>0</td>\n",
              "      <td>v</td>\n",
              "      <td>1</td>\n",
              "      <td>0</td>\n",
              "      <td>0</td>\n",
              "      <td>0</td>\n",
              "      <td>0</td>\n",
              "      <td>0</td>\n",
              "      <td>0</td>\n",
              "      <td>0</td>\n",
              "      <td>0</td>\n",
              "      <td>0</td>\n",
              "      <td>0</td>\n",
              "      <td>0</td>\n",
              "    </tr>\n",
              "    <tr>\n",
              "      <th>28830</th>\n",
              "      <td>8</td>\n",
              "      <td>900</td>\n",
              "      <td>2812</td>\n",
              "      <td>2</td>\n",
              "      <td>10</td>\n",
              "      <td>8</td>\n",
              "      <td>7</td>\n",
              "      <td>o</td>\n",
              "      <td>r</td>\n",
              "      <td>n</td>\n",
              "      <td>x</td>\n",
              "      <td>q</td>\n",
              "      <td>s</td>\n",
              "      <td>d</td>\n",
              "      <td>0</td>\n",
              "      <td>1</td>\n",
              "      <td>0</td>\n",
              "      <td>0</td>\n",
              "      <td>0</td>\n",
              "      <td>0</td>\n",
              "      <td>0</td>\n",
              "      <td>0</td>\n",
              "      <td>0</td>\n",
              "      <td>0</td>\n",
              "      <td>0</td>\n",
              "      <td>v</td>\n",
              "      <td>1</td>\n",
              "      <td>0</td>\n",
              "      <td>0</td>\n",
              "      <td>0</td>\n",
              "      <td>0</td>\n",
              "      <td>0</td>\n",
              "      <td>0</td>\n",
              "      <td>0</td>\n",
              "      <td>0</td>\n",
              "      <td>0</td>\n",
              "      <td>0</td>\n",
              "      <td>0</td>\n",
              "    </tr>\n",
              "    <tr>\n",
              "      <th>94947</th>\n",
              "      <td>21</td>\n",
              "      <td>363</td>\n",
              "      <td>8973</td>\n",
              "      <td>2</td>\n",
              "      <td>10</td>\n",
              "      <td>5</td>\n",
              "      <td>5</td>\n",
              "      <td>t</td>\n",
              "      <td>r</td>\n",
              "      <td>n</td>\n",
              "      <td>f</td>\n",
              "      <td>x</td>\n",
              "      <td>t</td>\n",
              "      <td>d</td>\n",
              "      <td>0</td>\n",
              "      <td>1</td>\n",
              "      <td>0</td>\n",
              "      <td>0</td>\n",
              "      <td>0</td>\n",
              "      <td>0</td>\n",
              "      <td>0</td>\n",
              "      <td>0</td>\n",
              "      <td>0</td>\n",
              "      <td>0</td>\n",
              "      <td>0</td>\n",
              "      <td>v</td>\n",
              "      <td>1</td>\n",
              "      <td>0</td>\n",
              "      <td>0</td>\n",
              "      <td>0</td>\n",
              "      <td>0</td>\n",
              "      <td>0</td>\n",
              "      <td>0</td>\n",
              "      <td>0</td>\n",
              "      <td>0</td>\n",
              "      <td>0</td>\n",
              "      <td>0</td>\n",
              "      <td>0</td>\n",
              "    </tr>\n",
              "    <tr>\n",
              "      <th>590882</th>\n",
              "      <td>22</td>\n",
              "      <td>418</td>\n",
              "      <td>10694</td>\n",
              "      <td>2</td>\n",
              "      <td>10</td>\n",
              "      <td>6</td>\n",
              "      <td>5</td>\n",
              "      <td>t</td>\n",
              "      <td>r</td>\n",
              "      <td>n</td>\n",
              "      <td>f</td>\n",
              "      <td>x</td>\n",
              "      <td>s</td>\n",
              "      <td>d</td>\n",
              "      <td>0</td>\n",
              "      <td>1</td>\n",
              "      <td>0</td>\n",
              "      <td>0</td>\n",
              "      <td>0</td>\n",
              "      <td>0</td>\n",
              "      <td>1</td>\n",
              "      <td>1</td>\n",
              "      <td>0</td>\n",
              "      <td>0</td>\n",
              "      <td>0</td>\n",
              "      <td>v</td>\n",
              "      <td>1</td>\n",
              "      <td>0</td>\n",
              "      <td>0</td>\n",
              "      <td>0</td>\n",
              "      <td>0</td>\n",
              "      <td>0</td>\n",
              "      <td>0</td>\n",
              "      <td>0</td>\n",
              "      <td>0</td>\n",
              "      <td>0</td>\n",
              "      <td>0</td>\n",
              "      <td>0</td>\n",
              "    </tr>\n",
              "    <tr>\n",
              "      <th>201944</th>\n",
              "      <td>11</td>\n",
              "      <td>131</td>\n",
              "      <td>1488</td>\n",
              "      <td>3</td>\n",
              "      <td>30</td>\n",
              "      <td>8</td>\n",
              "      <td>9</td>\n",
              "      <td>t</td>\n",
              "      <td>r</td>\n",
              "      <td>n</td>\n",
              "      <td>f</td>\n",
              "      <td>x</td>\n",
              "      <td>s</td>\n",
              "      <td>d</td>\n",
              "      <td>1</td>\n",
              "      <td>0</td>\n",
              "      <td>0</td>\n",
              "      <td>0</td>\n",
              "      <td>0</td>\n",
              "      <td>0</td>\n",
              "      <td>0</td>\n",
              "      <td>0</td>\n",
              "      <td>0</td>\n",
              "      <td>0</td>\n",
              "      <td>0</td>\n",
              "      <td>v</td>\n",
              "      <td>1</td>\n",
              "      <td>0</td>\n",
              "      <td>0</td>\n",
              "      <td>0</td>\n",
              "      <td>0</td>\n",
              "      <td>0</td>\n",
              "      <td>0</td>\n",
              "      <td>0</td>\n",
              "      <td>0</td>\n",
              "      <td>0</td>\n",
              "      <td>0</td>\n",
              "      <td>0</td>\n",
              "    </tr>\n",
              "  </tbody>\n",
              "</table>\n",
              "</div>"
            ],
            "text/plain": [
              "             geo_level_1_id  ...  has_secondary_use_other\n",
              "building_id                  ...                         \n",
              "802906                    6  ...                        0\n",
              "28830                     8  ...                        0\n",
              "94947                    21  ...                        0\n",
              "590882                   22  ...                        0\n",
              "201944                   11  ...                        0\n",
              "\n",
              "[5 rows x 38 columns]"
            ]
          },
          "metadata": {
            "tags": []
          },
          "execution_count": 2
        }
      ]
    },
    {
      "cell_type": "markdown",
      "metadata": {
        "id": "6nIaRrbOsodD"
      },
      "source": [
        "#train labels\n",
        "These are the labels. Every building_id in the training values data has a corresponding label in this file. A 1 represents low damage, a 2 represents a medium amount of damage, and a 3 represents almost complete destruction."
      ]
    },
    {
      "cell_type": "code",
      "metadata": {
        "id": "EDljiW8jZto7"
      },
      "source": [
        "train_labels = pd.read_csv('train_labels.csv', encoding='latin1',sep=',', index_col='building_id')\n"
      ],
      "execution_count": null,
      "outputs": []
    },
    {
      "cell_type": "markdown",
      "metadata": {
        "id": "0VPEMMnzsx91"
      },
      "source": [
        "#test values\n",
        "These are the features you'll use to make predictions after training a model. We don't give you the labels for these samples, it's up to you to generate predictions of the level of earthquake damage for these building_ids!"
      ]
    },
    {
      "cell_type": "code",
      "metadata": {
        "id": "pOPHQdvgrkDQ",
        "colab": {
          "base_uri": "https://localhost:8080/",
          "height": 470
        },
        "outputId": "d7d86f2d-4882-489a-8674-6b7f2a236935"
      },
      "source": [
        "test_values = pd.read_csv('test_values.csv', encoding='latin1',sep=',', index_col='building_id')\n",
        "test_values"
      ],
      "execution_count": null,
      "outputs": [
        {
          "output_type": "execute_result",
          "data": {
            "text/html": [
              "<div>\n",
              "<style scoped>\n",
              "    .dataframe tbody tr th:only-of-type {\n",
              "        vertical-align: middle;\n",
              "    }\n",
              "\n",
              "    .dataframe tbody tr th {\n",
              "        vertical-align: top;\n",
              "    }\n",
              "\n",
              "    .dataframe thead th {\n",
              "        text-align: right;\n",
              "    }\n",
              "</style>\n",
              "<table border=\"1\" class=\"dataframe\">\n",
              "  <thead>\n",
              "    <tr style=\"text-align: right;\">\n",
              "      <th></th>\n",
              "      <th>geo_level_1_id</th>\n",
              "      <th>geo_level_2_id</th>\n",
              "      <th>geo_level_3_id</th>\n",
              "      <th>count_floors_pre_eq</th>\n",
              "      <th>age</th>\n",
              "      <th>area_percentage</th>\n",
              "      <th>height_percentage</th>\n",
              "      <th>land_surface_condition</th>\n",
              "      <th>foundation_type</th>\n",
              "      <th>roof_type</th>\n",
              "      <th>ground_floor_type</th>\n",
              "      <th>other_floor_type</th>\n",
              "      <th>position</th>\n",
              "      <th>plan_configuration</th>\n",
              "      <th>has_superstructure_adobe_mud</th>\n",
              "      <th>has_superstructure_mud_mortar_stone</th>\n",
              "      <th>has_superstructure_stone_flag</th>\n",
              "      <th>has_superstructure_cement_mortar_stone</th>\n",
              "      <th>has_superstructure_mud_mortar_brick</th>\n",
              "      <th>has_superstructure_cement_mortar_brick</th>\n",
              "      <th>has_superstructure_timber</th>\n",
              "      <th>has_superstructure_bamboo</th>\n",
              "      <th>has_superstructure_rc_non_engineered</th>\n",
              "      <th>has_superstructure_rc_engineered</th>\n",
              "      <th>has_superstructure_other</th>\n",
              "      <th>legal_ownership_status</th>\n",
              "      <th>count_families</th>\n",
              "      <th>has_secondary_use</th>\n",
              "      <th>has_secondary_use_agriculture</th>\n",
              "      <th>has_secondary_use_hotel</th>\n",
              "      <th>has_secondary_use_rental</th>\n",
              "      <th>has_secondary_use_institution</th>\n",
              "      <th>has_secondary_use_school</th>\n",
              "      <th>has_secondary_use_industry</th>\n",
              "      <th>has_secondary_use_health_post</th>\n",
              "      <th>has_secondary_use_gov_office</th>\n",
              "      <th>has_secondary_use_use_police</th>\n",
              "      <th>has_secondary_use_other</th>\n",
              "    </tr>\n",
              "    <tr>\n",
              "      <th>building_id</th>\n",
              "      <th></th>\n",
              "      <th></th>\n",
              "      <th></th>\n",
              "      <th></th>\n",
              "      <th></th>\n",
              "      <th></th>\n",
              "      <th></th>\n",
              "      <th></th>\n",
              "      <th></th>\n",
              "      <th></th>\n",
              "      <th></th>\n",
              "      <th></th>\n",
              "      <th></th>\n",
              "      <th></th>\n",
              "      <th></th>\n",
              "      <th></th>\n",
              "      <th></th>\n",
              "      <th></th>\n",
              "      <th></th>\n",
              "      <th></th>\n",
              "      <th></th>\n",
              "      <th></th>\n",
              "      <th></th>\n",
              "      <th></th>\n",
              "      <th></th>\n",
              "      <th></th>\n",
              "      <th></th>\n",
              "      <th></th>\n",
              "      <th></th>\n",
              "      <th></th>\n",
              "      <th></th>\n",
              "      <th></th>\n",
              "      <th></th>\n",
              "      <th></th>\n",
              "      <th></th>\n",
              "      <th></th>\n",
              "      <th></th>\n",
              "      <th></th>\n",
              "    </tr>\n",
              "  </thead>\n",
              "  <tbody>\n",
              "    <tr>\n",
              "      <th>300051</th>\n",
              "      <td>17</td>\n",
              "      <td>596</td>\n",
              "      <td>11307</td>\n",
              "      <td>3</td>\n",
              "      <td>20</td>\n",
              "      <td>7</td>\n",
              "      <td>6</td>\n",
              "      <td>t</td>\n",
              "      <td>r</td>\n",
              "      <td>n</td>\n",
              "      <td>f</td>\n",
              "      <td>q</td>\n",
              "      <td>s</td>\n",
              "      <td>d</td>\n",
              "      <td>0</td>\n",
              "      <td>1</td>\n",
              "      <td>0</td>\n",
              "      <td>0</td>\n",
              "      <td>0</td>\n",
              "      <td>0</td>\n",
              "      <td>0</td>\n",
              "      <td>0</td>\n",
              "      <td>0</td>\n",
              "      <td>0</td>\n",
              "      <td>0</td>\n",
              "      <td>v</td>\n",
              "      <td>1</td>\n",
              "      <td>0</td>\n",
              "      <td>0</td>\n",
              "      <td>0</td>\n",
              "      <td>0</td>\n",
              "      <td>0</td>\n",
              "      <td>0</td>\n",
              "      <td>0</td>\n",
              "      <td>0</td>\n",
              "      <td>0</td>\n",
              "      <td>0</td>\n",
              "      <td>0</td>\n",
              "    </tr>\n",
              "    <tr>\n",
              "      <th>99355</th>\n",
              "      <td>6</td>\n",
              "      <td>141</td>\n",
              "      <td>11987</td>\n",
              "      <td>2</td>\n",
              "      <td>25</td>\n",
              "      <td>13</td>\n",
              "      <td>5</td>\n",
              "      <td>t</td>\n",
              "      <td>r</td>\n",
              "      <td>n</td>\n",
              "      <td>f</td>\n",
              "      <td>q</td>\n",
              "      <td>s</td>\n",
              "      <td>d</td>\n",
              "      <td>0</td>\n",
              "      <td>1</td>\n",
              "      <td>0</td>\n",
              "      <td>0</td>\n",
              "      <td>0</td>\n",
              "      <td>0</td>\n",
              "      <td>0</td>\n",
              "      <td>0</td>\n",
              "      <td>0</td>\n",
              "      <td>0</td>\n",
              "      <td>0</td>\n",
              "      <td>v</td>\n",
              "      <td>1</td>\n",
              "      <td>1</td>\n",
              "      <td>1</td>\n",
              "      <td>0</td>\n",
              "      <td>0</td>\n",
              "      <td>0</td>\n",
              "      <td>0</td>\n",
              "      <td>0</td>\n",
              "      <td>0</td>\n",
              "      <td>0</td>\n",
              "      <td>0</td>\n",
              "      <td>0</td>\n",
              "    </tr>\n",
              "    <tr>\n",
              "      <th>890251</th>\n",
              "      <td>22</td>\n",
              "      <td>19</td>\n",
              "      <td>10044</td>\n",
              "      <td>2</td>\n",
              "      <td>5</td>\n",
              "      <td>4</td>\n",
              "      <td>5</td>\n",
              "      <td>t</td>\n",
              "      <td>r</td>\n",
              "      <td>n</td>\n",
              "      <td>f</td>\n",
              "      <td>q</td>\n",
              "      <td>s</td>\n",
              "      <td>d</td>\n",
              "      <td>0</td>\n",
              "      <td>1</td>\n",
              "      <td>0</td>\n",
              "      <td>0</td>\n",
              "      <td>0</td>\n",
              "      <td>0</td>\n",
              "      <td>0</td>\n",
              "      <td>0</td>\n",
              "      <td>0</td>\n",
              "      <td>0</td>\n",
              "      <td>0</td>\n",
              "      <td>v</td>\n",
              "      <td>1</td>\n",
              "      <td>0</td>\n",
              "      <td>0</td>\n",
              "      <td>0</td>\n",
              "      <td>0</td>\n",
              "      <td>0</td>\n",
              "      <td>0</td>\n",
              "      <td>0</td>\n",
              "      <td>0</td>\n",
              "      <td>0</td>\n",
              "      <td>0</td>\n",
              "      <td>0</td>\n",
              "    </tr>\n",
              "    <tr>\n",
              "      <th>745817</th>\n",
              "      <td>26</td>\n",
              "      <td>39</td>\n",
              "      <td>633</td>\n",
              "      <td>1</td>\n",
              "      <td>0</td>\n",
              "      <td>19</td>\n",
              "      <td>3</td>\n",
              "      <td>t</td>\n",
              "      <td>r</td>\n",
              "      <td>x</td>\n",
              "      <td>v</td>\n",
              "      <td>j</td>\n",
              "      <td>t</td>\n",
              "      <td>d</td>\n",
              "      <td>0</td>\n",
              "      <td>0</td>\n",
              "      <td>0</td>\n",
              "      <td>0</td>\n",
              "      <td>0</td>\n",
              "      <td>1</td>\n",
              "      <td>0</td>\n",
              "      <td>0</td>\n",
              "      <td>0</td>\n",
              "      <td>0</td>\n",
              "      <td>0</td>\n",
              "      <td>v</td>\n",
              "      <td>2</td>\n",
              "      <td>1</td>\n",
              "      <td>0</td>\n",
              "      <td>0</td>\n",
              "      <td>1</td>\n",
              "      <td>0</td>\n",
              "      <td>0</td>\n",
              "      <td>0</td>\n",
              "      <td>0</td>\n",
              "      <td>0</td>\n",
              "      <td>0</td>\n",
              "      <td>0</td>\n",
              "    </tr>\n",
              "    <tr>\n",
              "      <th>421793</th>\n",
              "      <td>17</td>\n",
              "      <td>289</td>\n",
              "      <td>7970</td>\n",
              "      <td>3</td>\n",
              "      <td>15</td>\n",
              "      <td>8</td>\n",
              "      <td>7</td>\n",
              "      <td>t</td>\n",
              "      <td>r</td>\n",
              "      <td>q</td>\n",
              "      <td>f</td>\n",
              "      <td>q</td>\n",
              "      <td>t</td>\n",
              "      <td>d</td>\n",
              "      <td>0</td>\n",
              "      <td>1</td>\n",
              "      <td>0</td>\n",
              "      <td>0</td>\n",
              "      <td>0</td>\n",
              "      <td>0</td>\n",
              "      <td>0</td>\n",
              "      <td>0</td>\n",
              "      <td>0</td>\n",
              "      <td>0</td>\n",
              "      <td>0</td>\n",
              "      <td>v</td>\n",
              "      <td>1</td>\n",
              "      <td>0</td>\n",
              "      <td>0</td>\n",
              "      <td>0</td>\n",
              "      <td>0</td>\n",
              "      <td>0</td>\n",
              "      <td>0</td>\n",
              "      <td>0</td>\n",
              "      <td>0</td>\n",
              "      <td>0</td>\n",
              "      <td>0</td>\n",
              "      <td>0</td>\n",
              "    </tr>\n",
              "    <tr>\n",
              "      <th>...</th>\n",
              "      <td>...</td>\n",
              "      <td>...</td>\n",
              "      <td>...</td>\n",
              "      <td>...</td>\n",
              "      <td>...</td>\n",
              "      <td>...</td>\n",
              "      <td>...</td>\n",
              "      <td>...</td>\n",
              "      <td>...</td>\n",
              "      <td>...</td>\n",
              "      <td>...</td>\n",
              "      <td>...</td>\n",
              "      <td>...</td>\n",
              "      <td>...</td>\n",
              "      <td>...</td>\n",
              "      <td>...</td>\n",
              "      <td>...</td>\n",
              "      <td>...</td>\n",
              "      <td>...</td>\n",
              "      <td>...</td>\n",
              "      <td>...</td>\n",
              "      <td>...</td>\n",
              "      <td>...</td>\n",
              "      <td>...</td>\n",
              "      <td>...</td>\n",
              "      <td>...</td>\n",
              "      <td>...</td>\n",
              "      <td>...</td>\n",
              "      <td>...</td>\n",
              "      <td>...</td>\n",
              "      <td>...</td>\n",
              "      <td>...</td>\n",
              "      <td>...</td>\n",
              "      <td>...</td>\n",
              "      <td>...</td>\n",
              "      <td>...</td>\n",
              "      <td>...</td>\n",
              "      <td>...</td>\n",
              "    </tr>\n",
              "    <tr>\n",
              "      <th>310028</th>\n",
              "      <td>4</td>\n",
              "      <td>605</td>\n",
              "      <td>3623</td>\n",
              "      <td>3</td>\n",
              "      <td>70</td>\n",
              "      <td>20</td>\n",
              "      <td>6</td>\n",
              "      <td>t</td>\n",
              "      <td>r</td>\n",
              "      <td>q</td>\n",
              "      <td>f</td>\n",
              "      <td>q</td>\n",
              "      <td>t</td>\n",
              "      <td>d</td>\n",
              "      <td>0</td>\n",
              "      <td>1</td>\n",
              "      <td>0</td>\n",
              "      <td>0</td>\n",
              "      <td>0</td>\n",
              "      <td>0</td>\n",
              "      <td>1</td>\n",
              "      <td>0</td>\n",
              "      <td>0</td>\n",
              "      <td>0</td>\n",
              "      <td>0</td>\n",
              "      <td>w</td>\n",
              "      <td>1</td>\n",
              "      <td>1</td>\n",
              "      <td>1</td>\n",
              "      <td>0</td>\n",
              "      <td>0</td>\n",
              "      <td>0</td>\n",
              "      <td>0</td>\n",
              "      <td>0</td>\n",
              "      <td>0</td>\n",
              "      <td>0</td>\n",
              "      <td>0</td>\n",
              "      <td>0</td>\n",
              "    </tr>\n",
              "    <tr>\n",
              "      <th>663567</th>\n",
              "      <td>10</td>\n",
              "      <td>1407</td>\n",
              "      <td>11907</td>\n",
              "      <td>3</td>\n",
              "      <td>25</td>\n",
              "      <td>6</td>\n",
              "      <td>7</td>\n",
              "      <td>n</td>\n",
              "      <td>r</td>\n",
              "      <td>n</td>\n",
              "      <td>f</td>\n",
              "      <td>q</td>\n",
              "      <td>s</td>\n",
              "      <td>d</td>\n",
              "      <td>1</td>\n",
              "      <td>1</td>\n",
              "      <td>1</td>\n",
              "      <td>0</td>\n",
              "      <td>0</td>\n",
              "      <td>0</td>\n",
              "      <td>0</td>\n",
              "      <td>0</td>\n",
              "      <td>0</td>\n",
              "      <td>0</td>\n",
              "      <td>0</td>\n",
              "      <td>v</td>\n",
              "      <td>1</td>\n",
              "      <td>0</td>\n",
              "      <td>0</td>\n",
              "      <td>0</td>\n",
              "      <td>0</td>\n",
              "      <td>0</td>\n",
              "      <td>0</td>\n",
              "      <td>0</td>\n",
              "      <td>0</td>\n",
              "      <td>0</td>\n",
              "      <td>0</td>\n",
              "      <td>0</td>\n",
              "    </tr>\n",
              "    <tr>\n",
              "      <th>1049160</th>\n",
              "      <td>22</td>\n",
              "      <td>1136</td>\n",
              "      <td>7712</td>\n",
              "      <td>1</td>\n",
              "      <td>50</td>\n",
              "      <td>3</td>\n",
              "      <td>3</td>\n",
              "      <td>t</td>\n",
              "      <td>r</td>\n",
              "      <td>n</td>\n",
              "      <td>f</td>\n",
              "      <td>j</td>\n",
              "      <td>s</td>\n",
              "      <td>d</td>\n",
              "      <td>0</td>\n",
              "      <td>1</td>\n",
              "      <td>0</td>\n",
              "      <td>0</td>\n",
              "      <td>0</td>\n",
              "      <td>0</td>\n",
              "      <td>1</td>\n",
              "      <td>0</td>\n",
              "      <td>0</td>\n",
              "      <td>0</td>\n",
              "      <td>0</td>\n",
              "      <td>v</td>\n",
              "      <td>1</td>\n",
              "      <td>0</td>\n",
              "      <td>0</td>\n",
              "      <td>0</td>\n",
              "      <td>0</td>\n",
              "      <td>0</td>\n",
              "      <td>0</td>\n",
              "      <td>0</td>\n",
              "      <td>0</td>\n",
              "      <td>0</td>\n",
              "      <td>0</td>\n",
              "      <td>0</td>\n",
              "    </tr>\n",
              "    <tr>\n",
              "      <th>442785</th>\n",
              "      <td>6</td>\n",
              "      <td>1041</td>\n",
              "      <td>912</td>\n",
              "      <td>2</td>\n",
              "      <td>5</td>\n",
              "      <td>9</td>\n",
              "      <td>5</td>\n",
              "      <td>t</td>\n",
              "      <td>r</td>\n",
              "      <td>n</td>\n",
              "      <td>f</td>\n",
              "      <td>q</td>\n",
              "      <td>s</td>\n",
              "      <td>d</td>\n",
              "      <td>1</td>\n",
              "      <td>1</td>\n",
              "      <td>0</td>\n",
              "      <td>0</td>\n",
              "      <td>0</td>\n",
              "      <td>0</td>\n",
              "      <td>0</td>\n",
              "      <td>0</td>\n",
              "      <td>0</td>\n",
              "      <td>0</td>\n",
              "      <td>0</td>\n",
              "      <td>a</td>\n",
              "      <td>1</td>\n",
              "      <td>0</td>\n",
              "      <td>0</td>\n",
              "      <td>0</td>\n",
              "      <td>0</td>\n",
              "      <td>0</td>\n",
              "      <td>0</td>\n",
              "      <td>0</td>\n",
              "      <td>0</td>\n",
              "      <td>0</td>\n",
              "      <td>0</td>\n",
              "      <td>0</td>\n",
              "    </tr>\n",
              "    <tr>\n",
              "      <th>501372</th>\n",
              "      <td>26</td>\n",
              "      <td>36</td>\n",
              "      <td>6436</td>\n",
              "      <td>2</td>\n",
              "      <td>10</td>\n",
              "      <td>11</td>\n",
              "      <td>4</td>\n",
              "      <td>t</td>\n",
              "      <td>r</td>\n",
              "      <td>q</td>\n",
              "      <td>v</td>\n",
              "      <td>q</td>\n",
              "      <td>s</td>\n",
              "      <td>d</td>\n",
              "      <td>0</td>\n",
              "      <td>0</td>\n",
              "      <td>0</td>\n",
              "      <td>0</td>\n",
              "      <td>0</td>\n",
              "      <td>1</td>\n",
              "      <td>0</td>\n",
              "      <td>0</td>\n",
              "      <td>0</td>\n",
              "      <td>0</td>\n",
              "      <td>0</td>\n",
              "      <td>v</td>\n",
              "      <td>1</td>\n",
              "      <td>0</td>\n",
              "      <td>0</td>\n",
              "      <td>0</td>\n",
              "      <td>0</td>\n",
              "      <td>0</td>\n",
              "      <td>0</td>\n",
              "      <td>0</td>\n",
              "      <td>0</td>\n",
              "      <td>0</td>\n",
              "      <td>0</td>\n",
              "      <td>0</td>\n",
              "    </tr>\n",
              "  </tbody>\n",
              "</table>\n",
              "<p>86868 rows × 38 columns</p>\n",
              "</div>"
            ],
            "text/plain": [
              "             geo_level_1_id  ...  has_secondary_use_other\n",
              "building_id                  ...                         \n",
              "300051                   17  ...                        0\n",
              "99355                     6  ...                        0\n",
              "890251                   22  ...                        0\n",
              "745817                   26  ...                        0\n",
              "421793                   17  ...                        0\n",
              "...                     ...  ...                      ...\n",
              "310028                    4  ...                        0\n",
              "663567                   10  ...                        0\n",
              "1049160                  22  ...                        0\n",
              "442785                    6  ...                        0\n",
              "501372                   26  ...                        0\n",
              "\n",
              "[86868 rows x 38 columns]"
            ]
          },
          "metadata": {
            "tags": []
          },
          "execution_count": 4
        }
      ]
    },
    {
      "cell_type": "markdown",
      "metadata": {
        "id": "znDQVai2FzY8"
      },
      "source": [
        "#Feature Engeneering\n"
      ]
    },
    {
      "cell_type": "code",
      "metadata": {
        "colab": {
          "base_uri": "https://localhost:8080/"
        },
        "id": "qc7XGiSUF49K",
        "outputId": "7fd2319a-6e8a-413d-fae0-06cb4dec7ed8"
      },
      "source": [
        "train_labels.value_counts()"
      ],
      "execution_count": null,
      "outputs": [
        {
          "output_type": "execute_result",
          "data": {
            "text/plain": [
              "damage_grade\n",
              "2               148259\n",
              "3                87218\n",
              "1                25124\n",
              "dtype: int64"
            ]
          },
          "metadata": {
            "tags": []
          },
          "execution_count": 5
        }
      ]
    },
    {
      "cell_type": "markdown",
      "metadata": {
        "id": "FL6UKZyYF1ql"
      },
      "source": [
        "##.\n",
        "#.\n",
        "#.\n",
        "#.\n",
        "#.\n",
        "#.\n",
        "#.\n",
        "#.\n",
        "#.\n",
        "#.\n",
        "#.\n",
        "#.\n",
        "#.\n",
        "#.\n",
        "#.\n",
        "#.\n",
        "#."
      ]
    },
    {
      "cell_type": "markdown",
      "metadata": {
        "id": "eXoz8ZZAsKIK"
      },
      "source": [
        "#features a tener en cuenta\n"
      ]
    },
    {
      "cell_type": "code",
      "metadata": {
        "id": "gYw_K4dvsMXG"
      },
      "source": [
        "selected_features = [\"geo_level_1_id\",\"geo_level_2_id\",\"geo_level_3_id\",\"count_floors_pre_eq\",\"area_percentage\",\"height_percentage\",\"has_superstructure_adobe_mud\",\t\"has_superstructure_mud_mortar_stone\",\t\"has_superstructure_stone_flag\"\t,\"has_superstructure_cement_mortar_stone\"\t,\"has_superstructure_mud_mortar_brick\",\t\"has_superstructure_cement_mortar_brick\",\t\"has_superstructure_timber\",\t\"has_superstructure_bamboo\",\t\"has_superstructure_rc_non_engineered\",\t\"has_superstructure_rc_engineered\"\t,\"has_superstructure_other\"]\n",
        "train_values_subset = train_values[selected_features]"
      ],
      "execution_count": null,
      "outputs": []
    },
    {
      "cell_type": "code",
      "metadata": {
        "id": "dBXfIdgKdIw4"
      },
      "source": [
        "train_values_subset = pd.get_dummies(train_values_subset)"
      ],
      "execution_count": null,
      "outputs": []
    },
    {
      "cell_type": "markdown",
      "metadata": {
        "id": "eSmf6ldMtyTp"
      },
      "source": [
        "#Random Forest del modelo\n",
        "\n",
        "No tiene sentido aplicar transformaciones qe no cambian el orden de los datos"
      ]
    },
    {
      "cell_type": "code",
      "metadata": {
        "id": "mBp7h1Y4t0Xv",
        "colab": {
          "base_uri": "https://localhost:8080/",
          "height": 481
        },
        "outputId": "f39f0287-59b1-4529-f5f3-d9ea5b9c4731"
      },
      "source": [
        "# for preprocessing the data\n",
        "from sklearn.preprocessing import StandardScaler\n",
        "\n",
        "# the model\n",
        "from sklearn.ensemble import RandomForestClassifier\n",
        "\n",
        "# for combining the preprocess with model training\n",
        "from sklearn.pipeline import make_pipeline\n",
        "\n",
        "# for optimizing the hyperparameters of the pipeline\n",
        "from sklearn.model_selection import GridSearchCV"
      ],
      "execution_count": null,
      "outputs": [
        {
          "output_type": "error",
          "ename": "ImportError",
          "evalue": "ignored",
          "traceback": [
            "\u001b[0;31m---------------------------------------------------------------------------\u001b[0m",
            "\u001b[0;31mImportError\u001b[0m                               Traceback (most recent call last)",
            "\u001b[0;32m<ipython-input-8-edef0d4e5c3a>\u001b[0m in \u001b[0;36m<module>\u001b[0;34m()\u001b[0m\n\u001b[1;32m      6\u001b[0m \u001b[0;34m\u001b[0m\u001b[0m\n\u001b[1;32m      7\u001b[0m \u001b[0;31m# for combining the preprocess with model training\u001b[0m\u001b[0;34m\u001b[0m\u001b[0;34m\u001b[0m\u001b[0;34m\u001b[0m\u001b[0m\n\u001b[0;32m----> 8\u001b[0;31m \u001b[0;32mfrom\u001b[0m \u001b[0msklearn\u001b[0m\u001b[0;34m.\u001b[0m\u001b[0mpipeline\u001b[0m \u001b[0;32mimport\u001b[0m \u001b[0mmake_pipeline\u001b[0m\u001b[0;34m\u001b[0m\u001b[0;34m\u001b[0m\u001b[0m\n\u001b[0m\u001b[1;32m      9\u001b[0m \u001b[0;34m\u001b[0m\u001b[0m\n\u001b[1;32m     10\u001b[0m \u001b[0;31m# for optimizing the hyperparameters of the pipeline\u001b[0m\u001b[0;34m\u001b[0m\u001b[0;34m\u001b[0m\u001b[0;34m\u001b[0m\u001b[0m\n",
            "\u001b[0;32m/usr/local/lib/python3.7/dist-packages/sklearn/pipeline.py\u001b[0m in \u001b[0;36m<module>\u001b[0;34m()\u001b[0m\n\u001b[1;32m     28\u001b[0m \u001b[0;32mfrom\u001b[0m \u001b[0;34m.\u001b[0m\u001b[0mutils\u001b[0m\u001b[0;34m.\u001b[0m\u001b[0mvalidation\u001b[0m \u001b[0;32mimport\u001b[0m \u001b[0mcheck_memory\u001b[0m\u001b[0;34m\u001b[0m\u001b[0;34m\u001b[0m\u001b[0m\n\u001b[1;32m     29\u001b[0m \u001b[0;32mfrom\u001b[0m \u001b[0;34m.\u001b[0m\u001b[0mutils\u001b[0m\u001b[0;34m.\u001b[0m\u001b[0mvalidation\u001b[0m \u001b[0;32mimport\u001b[0m \u001b[0m_deprecate_positional_args\u001b[0m\u001b[0;34m\u001b[0m\u001b[0;34m\u001b[0m\u001b[0m\n\u001b[0;32m---> 30\u001b[0;31m \u001b[0;32mfrom\u001b[0m \u001b[0;34m.\u001b[0m\u001b[0mutils\u001b[0m\u001b[0;34m.\u001b[0m\u001b[0mfixes\u001b[0m \u001b[0;32mimport\u001b[0m \u001b[0mdelayed\u001b[0m\u001b[0;34m\u001b[0m\u001b[0;34m\u001b[0m\u001b[0m\n\u001b[0m\u001b[1;32m     31\u001b[0m \u001b[0;34m\u001b[0m\u001b[0m\n\u001b[1;32m     32\u001b[0m \u001b[0;32mfrom\u001b[0m \u001b[0;34m.\u001b[0m\u001b[0mutils\u001b[0m\u001b[0;34m.\u001b[0m\u001b[0mmetaestimators\u001b[0m \u001b[0;32mimport\u001b[0m \u001b[0m_BaseComposition\u001b[0m\u001b[0;34m\u001b[0m\u001b[0;34m\u001b[0m\u001b[0m\n",
            "\u001b[0;31mImportError\u001b[0m: cannot import name 'delayed' from 'sklearn.utils.fixes' (/usr/local/lib/python3.7/dist-packages/sklearn/utils/fixes.py)",
            "",
            "\u001b[0;31m---------------------------------------------------------------------------\u001b[0;32m\nNOTE: If your import is failing due to a missing package, you can\nmanually install dependencies using either !pip or !apt.\n\nTo view examples of installing some common dependencies, click the\n\"Open Examples\" button below.\n\u001b[0;31m---------------------------------------------------------------------------\u001b[0m\n"
          ]
        }
      ]
    },
    {
      "cell_type": "code",
      "metadata": {
        "colab": {
          "base_uri": "https://localhost:8080/"
        },
        "id": "wJ5IfERFt3JB",
        "outputId": "d56da5c7-2e64-4a87-964f-8e9012584393"
      },
      "source": [
        "pipe = make_pipeline(StandardScaler(), \n",
        "                     RandomForestClassifier(random_state=2018))\n",
        "pipe"
      ],
      "execution_count": null,
      "outputs": [
        {
          "output_type": "execute_result",
          "data": {
            "text/plain": [
              "Pipeline(memory=None,\n",
              "         steps=[('standardscaler',\n",
              "                 StandardScaler(copy=True, with_mean=True, with_std=True)),\n",
              "                ('randomforestclassifier',\n",
              "                 RandomForestClassifier(bootstrap=True, ccp_alpha=0.0,\n",
              "                                        class_weight=None, criterion='gini',\n",
              "                                        max_depth=None, max_features='auto',\n",
              "                                        max_leaf_nodes=None, max_samples=None,\n",
              "                                        min_impurity_decrease=0.0,\n",
              "                                        min_impurity_split=None,\n",
              "                                        min_samples_leaf=1, min_samples_split=2,\n",
              "                                        min_weight_fraction_leaf=0.0,\n",
              "                                        n_estimators=100, n_jobs=None,\n",
              "                                        oob_score=False, random_state=2018,\n",
              "                                        verbose=0, warm_start=False))],\n",
              "         verbose=False)"
            ]
          },
          "metadata": {
            "tags": []
          },
          "execution_count": 132
        }
      ]
    },
    {
      "cell_type": "code",
      "metadata": {
        "id": "1JBPUl_ouBfm"
      },
      "source": [
        "param_grid = {'randomforestclassifier__n_estimators': [50, 100],\n",
        "              'randomforestclassifier__min_samples_leaf': [1, 5]}\n",
        "gs = GridSearchCV(pipe, param_grid, cv=5)"
      ],
      "execution_count": null,
      "outputs": []
    },
    {
      "cell_type": "code",
      "metadata": {
        "colab": {
          "base_uri": "https://localhost:8080/"
        },
        "id": "VaO5ANGluM2_",
        "outputId": "f7341a5a-d322-48cb-d643-5a533ac031f3"
      },
      "source": [
        "#le lleva como 10 minutos esto\n",
        "gs.fit(train_values_subset, train_labels.values.ravel())"
      ],
      "execution_count": null,
      "outputs": [
        {
          "output_type": "execute_result",
          "data": {
            "text/plain": [
              "GridSearchCV(cv=5, error_score=nan,\n",
              "             estimator=Pipeline(memory=None,\n",
              "                                steps=[('standardscaler',\n",
              "                                        StandardScaler(copy=True,\n",
              "                                                       with_mean=True,\n",
              "                                                       with_std=True)),\n",
              "                                       ('randomforestclassifier',\n",
              "                                        RandomForestClassifier(bootstrap=True,\n",
              "                                                               ccp_alpha=0.0,\n",
              "                                                               class_weight=None,\n",
              "                                                               criterion='gini',\n",
              "                                                               max_depth=None,\n",
              "                                                               max_features='auto',\n",
              "                                                               max_leaf_nodes=None,\n",
              "                                                               max_samples=None,\n",
              "                                                               min_impurity_decrea...\n",
              "                                                               min_weight_fraction_leaf=0.0,\n",
              "                                                               n_estimators=100,\n",
              "                                                               n_jobs=None,\n",
              "                                                               oob_score=False,\n",
              "                                                               random_state=2018,\n",
              "                                                               verbose=0,\n",
              "                                                               warm_start=False))],\n",
              "                                verbose=False),\n",
              "             iid='deprecated', n_jobs=None,\n",
              "             param_grid={'randomforestclassifier__min_samples_leaf': [1, 5],\n",
              "                         'randomforestclassifier__n_estimators': [50, 100]},\n",
              "             pre_dispatch='2*n_jobs', refit=True, return_train_score=False,\n",
              "             scoring=None, verbose=0)"
            ]
          },
          "metadata": {
            "tags": []
          },
          "execution_count": 134
        }
      ]
    },
    {
      "cell_type": "code",
      "metadata": {
        "colab": {
          "base_uri": "https://localhost:8080/"
        },
        "id": "gon4z7k2uSf-",
        "outputId": "c7570d03-d0c5-44f2-cff1-9899808d24a6"
      },
      "source": [
        "gs.best_params_"
      ],
      "execution_count": null,
      "outputs": [
        {
          "output_type": "execute_result",
          "data": {
            "text/plain": [
              "{'randomforestclassifier__min_samples_leaf': 5,\n",
              " 'randomforestclassifier__n_estimators': 100}"
            ]
          },
          "metadata": {
            "tags": []
          },
          "execution_count": 135
        }
      ]
    },
    {
      "cell_type": "code",
      "metadata": {
        "colab": {
          "base_uri": "https://localhost:8080/"
        },
        "id": "yq7kf_pTwZTl",
        "outputId": "adc16fd3-0775-494b-867d-8fbf38339779"
      },
      "source": [
        "from sklearn.metrics import f1_score\n",
        "\n",
        "in_sample_preds = gs.predict(train_values_subset)\n",
        "f1_score(train_labels, in_sample_preds, average='micro')"
      ],
      "execution_count": null,
      "outputs": [
        {
          "output_type": "execute_result",
          "data": {
            "text/plain": [
              "0.7715703316564403"
            ]
          },
          "metadata": {
            "tags": []
          },
          "execution_count": 136
        }
      ]
    },
    {
      "cell_type": "markdown",
      "metadata": {
        "id": "GDaBKUNIwhZY"
      },
      "source": [
        "#Predicciones\n"
      ]
    },
    {
      "cell_type": "code",
      "metadata": {
        "id": "WrTDHuJAwjiQ"
      },
      "source": [
        "test_values_subset = test_values[selected_features]\n",
        "test_values_subset = pd.get_dummies(test_values_subset)\n",
        "\n",
        "\n",
        "predictions = gs.predict(test_values_subset)"
      ],
      "execution_count": null,
      "outputs": []
    },
    {
      "cell_type": "code",
      "metadata": {
        "id": "cD5nDPmPwptY"
      },
      "source": [
        "submission_format = pd.read_csv('submission_format.csv', encoding='latin1',sep=',', index_col='building_id')\n",
        "my_submission = pd.DataFrame(data=predictions,\n",
        "                             columns=submission_format.columns,\n",
        "                             index=submission_format.index)"
      ],
      "execution_count": null,
      "outputs": []
    },
    {
      "cell_type": "code",
      "metadata": {
        "colab": {
          "base_uri": "https://localhost:8080/",
          "height": 227
        },
        "id": "FbQpwm1lxSFG",
        "outputId": "61e59fbd-4ea1-461a-d44a-a23932f7d4cc"
      },
      "source": [
        "my_submission.head()"
      ],
      "execution_count": null,
      "outputs": [
        {
          "output_type": "execute_result",
          "data": {
            "text/html": [
              "<div>\n",
              "<style scoped>\n",
              "    .dataframe tbody tr th:only-of-type {\n",
              "        vertical-align: middle;\n",
              "    }\n",
              "\n",
              "    .dataframe tbody tr th {\n",
              "        vertical-align: top;\n",
              "    }\n",
              "\n",
              "    .dataframe thead th {\n",
              "        text-align: right;\n",
              "    }\n",
              "</style>\n",
              "<table border=\"1\" class=\"dataframe\">\n",
              "  <thead>\n",
              "    <tr style=\"text-align: right;\">\n",
              "      <th></th>\n",
              "      <th>damage_grade</th>\n",
              "    </tr>\n",
              "    <tr>\n",
              "      <th>building_id</th>\n",
              "      <th></th>\n",
              "    </tr>\n",
              "  </thead>\n",
              "  <tbody>\n",
              "    <tr>\n",
              "      <th>300051</th>\n",
              "      <td>3</td>\n",
              "    </tr>\n",
              "    <tr>\n",
              "      <th>99355</th>\n",
              "      <td>2</td>\n",
              "    </tr>\n",
              "    <tr>\n",
              "      <th>890251</th>\n",
              "      <td>2</td>\n",
              "    </tr>\n",
              "    <tr>\n",
              "      <th>745817</th>\n",
              "      <td>2</td>\n",
              "    </tr>\n",
              "    <tr>\n",
              "      <th>421793</th>\n",
              "      <td>3</td>\n",
              "    </tr>\n",
              "  </tbody>\n",
              "</table>\n",
              "</div>"
            ],
            "text/plain": [
              "             damage_grade\n",
              "building_id              \n",
              "300051                  3\n",
              "99355                   2\n",
              "890251                  2\n",
              "745817                  2\n",
              "421793                  3"
            ]
          },
          "metadata": {
            "tags": []
          },
          "execution_count": 142
        }
      ]
    },
    {
      "cell_type": "code",
      "metadata": {
        "id": "bEgAxL64xXfT"
      },
      "source": [
        "my_submission.to_csv('submission.csv')"
      ],
      "execution_count": null,
      "outputs": []
    },
    {
      "cell_type": "code",
      "metadata": {
        "colab": {
          "base_uri": "https://localhost:8080/"
        },
        "id": "hxq-hV7NxZ1A",
        "outputId": "4847edae-909e-4d7b-a363-14b5fb16c3ec"
      },
      "source": [
        "!head submission.csv"
      ],
      "execution_count": null,
      "outputs": [
        {
          "output_type": "stream",
          "text": [
            "building_id,damage_grade\n",
            "300051,3\n",
            "99355,2\n",
            "890251,2\n",
            "745817,2\n",
            "421793,3\n",
            "871976,2\n",
            "691228,1\n",
            "896100,3\n",
            "343471,2\n"
          ],
          "name": "stdout"
        }
      ]
    },
    {
      "cell_type": "markdown",
      "metadata": {
        "id": "77CCcOIKVZ69"
      },
      "source": [
        "#dio 0,72 en el drivendata"
      ]
    },
    {
      "cell_type": "markdown",
      "metadata": {
        "id": "wZJIuFkBxdf0"
      },
      "source": [
        "##.\n",
        "#.\n",
        "#.\n",
        "#.\n",
        "#.\n",
        "#.\n",
        "#.\n",
        "#.\n",
        "#.\n",
        "#.\n",
        "#.\n",
        "#.\n",
        "#.\n",
        "#.\n",
        "#.\n",
        "#.\n",
        "#."
      ]
    },
    {
      "cell_type": "markdown",
      "metadata": {
        "id": "kxcMcbVYNG_R"
      },
      "source": [
        "#Igual pero le sumo las que tenian letras con get_dummies o oneHotEncoding\n",
        "land_surface_condition\tfoundation_type\troof_type\tground_floor_type\tother_floor_type\tposition\tplan_configuration"
      ]
    },
    {
      "cell_type": "markdown",
      "metadata": {
        "id": "9lAFx-cmN0K5"
      },
      "source": [
        "#features a tener en cuenta (todos salvo usos)"
      ]
    },
    {
      "cell_type": "code",
      "metadata": {
        "id": "_eITK_YANzWG"
      },
      "source": [
        "selected_features = [\"geo_level_1_id\",\"geo_level_2_id\",\t\"count_floors_pre_eq\"\t,\"age\"\t,\"area_percentage\"\t,\"height_percentage\",\t\"has_superstructure_adobe_mud\"\t,\"has_superstructure_mud_mortar_stone\",\t\"has_superstructure_stone_flag\"\t,\"has_superstructure_cement_mortar_stone\",\t\"has_superstructure_mud_mortar_brick\",\t\"has_superstructure_cement_mortar_brick\",\t\"has_superstructure_timber\"\t,\"has_superstructure_bamboo\"\t,\"has_superstructure_rc_non_engineered\",\t\"has_superstructure_rc_engineered\"\t,\"has_superstructure_other\",\"land_surface_condition\",\t\"foundation_type\",\t\"roof_type\",\t\"ground_floor_type\",\t\"other_floor_type\",\t\"position\"\t,\"plan_configuration\"]\n",
        "train_values_subset = train_values[selected_features]\n",
        "train_values_subset[\"floors/area_p\"] = train_values_subset[\"count_floors_pre_eq\"]/train_values_subset[\"area_percentage\"]\n",
        "train_values_subset[\"floors/height_p\"] = train_values_subset[\"count_floors_pre_eq\"]/train_values_subset[\"height_percentage\"]\n",
        "train_values_subset = pd.get_dummies(train_values_subset)\n"
      ],
      "execution_count": null,
      "outputs": []
    },
    {
      "cell_type": "markdown",
      "metadata": {
        "id": "6aOURS0lO_Cr"
      },
      "source": [
        "#Random Forest del modelo\n",
        "\n",
        "No tiene sentido aplicar transformaciones qe no cambian el orden de los datos"
      ]
    },
    {
      "cell_type": "code",
      "metadata": {
        "id": "62CbWfb1QL10",
        "colab": {
          "base_uri": "https://localhost:8080/",
          "height": 481
        },
        "outputId": "cff3343a-5a7a-4a6f-bcc9-db38957bd73e"
      },
      "source": [
        "# for preprocessing the data\n",
        "from sklearn.preprocessing import StandardScaler\n",
        "\n",
        "# the model\n",
        "from sklearn.ensemble import RandomForestClassifier\n",
        "\n",
        "# for combining the preprocess with model training\n",
        "from sklearn.pipeline import make_pipeline\n",
        "\n",
        "# for optimizing the hyperparameters of the pipeline\n",
        "from sklearn.model_selection import GridSearchCV\n"
      ],
      "execution_count": null,
      "outputs": [
        {
          "output_type": "error",
          "ename": "ImportError",
          "evalue": "ignored",
          "traceback": [
            "\u001b[0;31m---------------------------------------------------------------------------\u001b[0m",
            "\u001b[0;31mImportError\u001b[0m                               Traceback (most recent call last)",
            "\u001b[0;32m<ipython-input-7-edef0d4e5c3a>\u001b[0m in \u001b[0;36m<module>\u001b[0;34m()\u001b[0m\n\u001b[1;32m      6\u001b[0m \u001b[0;34m\u001b[0m\u001b[0m\n\u001b[1;32m      7\u001b[0m \u001b[0;31m# for combining the preprocess with model training\u001b[0m\u001b[0;34m\u001b[0m\u001b[0;34m\u001b[0m\u001b[0;34m\u001b[0m\u001b[0m\n\u001b[0;32m----> 8\u001b[0;31m \u001b[0;32mfrom\u001b[0m \u001b[0msklearn\u001b[0m\u001b[0;34m.\u001b[0m\u001b[0mpipeline\u001b[0m \u001b[0;32mimport\u001b[0m \u001b[0mmake_pipeline\u001b[0m\u001b[0;34m\u001b[0m\u001b[0;34m\u001b[0m\u001b[0m\n\u001b[0m\u001b[1;32m      9\u001b[0m \u001b[0;34m\u001b[0m\u001b[0m\n\u001b[1;32m     10\u001b[0m \u001b[0;31m# for optimizing the hyperparameters of the pipeline\u001b[0m\u001b[0;34m\u001b[0m\u001b[0;34m\u001b[0m\u001b[0;34m\u001b[0m\u001b[0m\n",
            "\u001b[0;32m/usr/local/lib/python3.7/dist-packages/sklearn/pipeline.py\u001b[0m in \u001b[0;36m<module>\u001b[0;34m()\u001b[0m\n\u001b[1;32m     28\u001b[0m \u001b[0;32mfrom\u001b[0m \u001b[0;34m.\u001b[0m\u001b[0mutils\u001b[0m\u001b[0;34m.\u001b[0m\u001b[0mvalidation\u001b[0m \u001b[0;32mimport\u001b[0m \u001b[0mcheck_memory\u001b[0m\u001b[0;34m\u001b[0m\u001b[0;34m\u001b[0m\u001b[0m\n\u001b[1;32m     29\u001b[0m \u001b[0;32mfrom\u001b[0m \u001b[0;34m.\u001b[0m\u001b[0mutils\u001b[0m\u001b[0;34m.\u001b[0m\u001b[0mvalidation\u001b[0m \u001b[0;32mimport\u001b[0m \u001b[0m_deprecate_positional_args\u001b[0m\u001b[0;34m\u001b[0m\u001b[0;34m\u001b[0m\u001b[0m\n\u001b[0;32m---> 30\u001b[0;31m \u001b[0;32mfrom\u001b[0m \u001b[0;34m.\u001b[0m\u001b[0mutils\u001b[0m\u001b[0;34m.\u001b[0m\u001b[0mfixes\u001b[0m \u001b[0;32mimport\u001b[0m \u001b[0mdelayed\u001b[0m\u001b[0;34m\u001b[0m\u001b[0;34m\u001b[0m\u001b[0m\n\u001b[0m\u001b[1;32m     31\u001b[0m \u001b[0;34m\u001b[0m\u001b[0m\n\u001b[1;32m     32\u001b[0m \u001b[0;32mfrom\u001b[0m \u001b[0;34m.\u001b[0m\u001b[0mutils\u001b[0m\u001b[0;34m.\u001b[0m\u001b[0mmetaestimators\u001b[0m \u001b[0;32mimport\u001b[0m \u001b[0m_BaseComposition\u001b[0m\u001b[0;34m\u001b[0m\u001b[0;34m\u001b[0m\u001b[0m\n",
            "\u001b[0;31mImportError\u001b[0m: cannot import name 'delayed' from 'sklearn.utils.fixes' (/usr/local/lib/python3.7/dist-packages/sklearn/utils/fixes.py)",
            "",
            "\u001b[0;31m---------------------------------------------------------------------------\u001b[0;32m\nNOTE: If your import is failing due to a missing package, you can\nmanually install dependencies using either !pip or !apt.\n\nTo view examples of installing some common dependencies, click the\n\"Open Examples\" button below.\n\u001b[0;31m---------------------------------------------------------------------------\u001b[0m\n"
          ]
        }
      ]
    },
    {
      "cell_type": "code",
      "metadata": {
        "colab": {
          "base_uri": "https://localhost:8080/"
        },
        "id": "n0OlNjKbQT5s",
        "outputId": "d6ad7550-564d-4bb5-839d-d56f972bc5f3"
      },
      "source": [
        "pipe = make_pipeline(StandardScaler(), \n",
        "                     RandomForestClassifier(random_state=2018))\n",
        "pipe"
      ],
      "execution_count": null,
      "outputs": [
        {
          "output_type": "execute_result",
          "data": {
            "text/plain": [
              "Pipeline(memory=None,\n",
              "         steps=[('standardscaler',\n",
              "                 StandardScaler(copy=True, with_mean=True, with_std=True)),\n",
              "                ('randomforestclassifier',\n",
              "                 RandomForestClassifier(bootstrap=True, ccp_alpha=0.0,\n",
              "                                        class_weight=None, criterion='gini',\n",
              "                                        max_depth=None, max_features='auto',\n",
              "                                        max_leaf_nodes=None, max_samples=None,\n",
              "                                        min_impurity_decrease=0.0,\n",
              "                                        min_impurity_split=None,\n",
              "                                        min_samples_leaf=1, min_samples_split=2,\n",
              "                                        min_weight_fraction_leaf=0.0,\n",
              "                                        n_estimators=100, n_jobs=None,\n",
              "                                        oob_score=False, random_state=2018,\n",
              "                                        verbose=0, warm_start=False))],\n",
              "         verbose=False)"
            ]
          },
          "metadata": {
            "tags": []
          },
          "execution_count": 136
        }
      ]
    },
    {
      "cell_type": "code",
      "metadata": {
        "id": "ApT7SNBLQYPF"
      },
      "source": [
        "param_grid = {'randomforestclassifier__n_estimators': [50, 150],\n",
        "              'randomforestclassifier__min_samples_leaf': [1, 5]}\n",
        "gs = GridSearchCV(pipe, param_grid, cv=5)"
      ],
      "execution_count": null,
      "outputs": []
    },
    {
      "cell_type": "code",
      "metadata": {
        "colab": {
          "base_uri": "https://localhost:8080/"
        },
        "id": "nlMQIXllQynN",
        "outputId": "e826c6e1-2419-41d7-ebc7-12fccce030b1"
      },
      "source": [
        "#le lleva como 14 minutos esto\n",
        "gs.fit(train_values_subset, train_labels.values.ravel())"
      ],
      "execution_count": null,
      "outputs": [
        {
          "output_type": "execute_result",
          "data": {
            "text/plain": [
              "GridSearchCV(cv=5, error_score=nan,\n",
              "             estimator=Pipeline(memory=None,\n",
              "                                steps=[('standardscaler',\n",
              "                                        StandardScaler(copy=True,\n",
              "                                                       with_mean=True,\n",
              "                                                       with_std=True)),\n",
              "                                       ('randomforestclassifier',\n",
              "                                        RandomForestClassifier(bootstrap=True,\n",
              "                                                               ccp_alpha=0.0,\n",
              "                                                               class_weight=None,\n",
              "                                                               criterion='gini',\n",
              "                                                               max_depth=None,\n",
              "                                                               max_features='auto',\n",
              "                                                               max_leaf_nodes=None,\n",
              "                                                               max_samples=None,\n",
              "                                                               min_impurity_decrea...\n",
              "                                                               min_weight_fraction_leaf=0.0,\n",
              "                                                               n_estimators=100,\n",
              "                                                               n_jobs=None,\n",
              "                                                               oob_score=False,\n",
              "                                                               random_state=2018,\n",
              "                                                               verbose=0,\n",
              "                                                               warm_start=False))],\n",
              "                                verbose=False),\n",
              "             iid='deprecated', n_jobs=None,\n",
              "             param_grid={'randomforestclassifier__min_samples_leaf': [1, 5],\n",
              "                         'randomforestclassifier__n_estimators': [50, 150]},\n",
              "             pre_dispatch='2*n_jobs', refit=True, return_train_score=False,\n",
              "             scoring=None, verbose=0)"
            ]
          },
          "metadata": {
            "tags": []
          },
          "execution_count": 140
        }
      ]
    },
    {
      "cell_type": "code",
      "metadata": {
        "colab": {
          "base_uri": "https://localhost:8080/"
        },
        "id": "85S49oLVQgiW",
        "outputId": "c5b2fb5f-753f-4fc6-e541-d8d8fb4777bd"
      },
      "source": [
        "gs.best_params_"
      ],
      "execution_count": null,
      "outputs": [
        {
          "output_type": "execute_result",
          "data": {
            "text/plain": [
              "{'randomforestclassifier__min_samples_leaf': 5,\n",
              " 'randomforestclassifier__n_estimators': 150}"
            ]
          },
          "metadata": {
            "tags": []
          },
          "execution_count": 141
        }
      ]
    },
    {
      "cell_type": "code",
      "metadata": {
        "colab": {
          "base_uri": "https://localhost:8080/"
        },
        "id": "mweZzudPQkLb",
        "outputId": "22b4779b-a1d3-4d26-fb8a-fd8120a53ca9"
      },
      "source": [
        "from sklearn.metrics import f1_score\n",
        "\n",
        "in_sample_preds = gs.predict(train_values_subset)\n",
        "f1_score(train_labels, in_sample_preds, average='micro')"
      ],
      "execution_count": null,
      "outputs": [
        {
          "output_type": "execute_result",
          "data": {
            "text/plain": [
              "0.7540339446126453"
            ]
          },
          "metadata": {
            "tags": []
          },
          "execution_count": 142
        }
      ]
    },
    {
      "cell_type": "code",
      "metadata": {
        "colab": {
          "base_uri": "https://localhost:8080/",
          "height": 456
        },
        "id": "6pYmXuQjcqWL",
        "outputId": "c4204465-5dbe-4cac-8b1f-bc27b74768af"
      },
      "source": [
        "test_values_subset"
      ],
      "execution_count": null,
      "outputs": [
        {
          "output_type": "execute_result",
          "data": {
            "text/html": [
              "<div>\n",
              "<style scoped>\n",
              "    .dataframe tbody tr th:only-of-type {\n",
              "        vertical-align: middle;\n",
              "    }\n",
              "\n",
              "    .dataframe tbody tr th {\n",
              "        vertical-align: top;\n",
              "    }\n",
              "\n",
              "    .dataframe thead th {\n",
              "        text-align: right;\n",
              "    }\n",
              "</style>\n",
              "<table border=\"1\" class=\"dataframe\">\n",
              "  <thead>\n",
              "    <tr style=\"text-align: right;\">\n",
              "      <th></th>\n",
              "      <th>geo_level_1_id</th>\n",
              "      <th>geo_level_2_id</th>\n",
              "      <th>count_floors_pre_eq</th>\n",
              "      <th>age</th>\n",
              "      <th>area_percentage</th>\n",
              "      <th>height_percentage</th>\n",
              "      <th>has_superstructure_adobe_mud</th>\n",
              "      <th>has_superstructure_mud_mortar_stone</th>\n",
              "      <th>has_superstructure_stone_flag</th>\n",
              "      <th>has_superstructure_cement_mortar_stone</th>\n",
              "      <th>has_superstructure_mud_mortar_brick</th>\n",
              "      <th>has_superstructure_cement_mortar_brick</th>\n",
              "      <th>has_superstructure_timber</th>\n",
              "      <th>has_superstructure_bamboo</th>\n",
              "      <th>has_superstructure_rc_non_engineered</th>\n",
              "      <th>has_superstructure_rc_engineered</th>\n",
              "      <th>has_superstructure_other</th>\n",
              "      <th>land_surface_condition_n</th>\n",
              "      <th>land_surface_condition_o</th>\n",
              "      <th>land_surface_condition_t</th>\n",
              "      <th>foundation_type_h</th>\n",
              "      <th>foundation_type_i</th>\n",
              "      <th>foundation_type_r</th>\n",
              "      <th>foundation_type_u</th>\n",
              "      <th>foundation_type_w</th>\n",
              "      <th>roof_type_n</th>\n",
              "      <th>roof_type_q</th>\n",
              "      <th>roof_type_x</th>\n",
              "      <th>ground_floor_type_f</th>\n",
              "      <th>ground_floor_type_m</th>\n",
              "      <th>ground_floor_type_v</th>\n",
              "      <th>ground_floor_type_x</th>\n",
              "      <th>ground_floor_type_z</th>\n",
              "      <th>other_floor_type_j</th>\n",
              "      <th>other_floor_type_q</th>\n",
              "      <th>other_floor_type_s</th>\n",
              "      <th>other_floor_type_x</th>\n",
              "      <th>position_j</th>\n",
              "      <th>position_o</th>\n",
              "      <th>position_s</th>\n",
              "      <th>position_t</th>\n",
              "      <th>plan_configuration_a</th>\n",
              "      <th>plan_configuration_c</th>\n",
              "      <th>plan_configuration_d</th>\n",
              "      <th>plan_configuration_f</th>\n",
              "      <th>plan_configuration_m</th>\n",
              "      <th>plan_configuration_n</th>\n",
              "      <th>plan_configuration_o</th>\n",
              "      <th>plan_configuration_q</th>\n",
              "      <th>plan_configuration_s</th>\n",
              "      <th>plan_configuration_u</th>\n",
              "    </tr>\n",
              "    <tr>\n",
              "      <th>building_id</th>\n",
              "      <th></th>\n",
              "      <th></th>\n",
              "      <th></th>\n",
              "      <th></th>\n",
              "      <th></th>\n",
              "      <th></th>\n",
              "      <th></th>\n",
              "      <th></th>\n",
              "      <th></th>\n",
              "      <th></th>\n",
              "      <th></th>\n",
              "      <th></th>\n",
              "      <th></th>\n",
              "      <th></th>\n",
              "      <th></th>\n",
              "      <th></th>\n",
              "      <th></th>\n",
              "      <th></th>\n",
              "      <th></th>\n",
              "      <th></th>\n",
              "      <th></th>\n",
              "      <th></th>\n",
              "      <th></th>\n",
              "      <th></th>\n",
              "      <th></th>\n",
              "      <th></th>\n",
              "      <th></th>\n",
              "      <th></th>\n",
              "      <th></th>\n",
              "      <th></th>\n",
              "      <th></th>\n",
              "      <th></th>\n",
              "      <th></th>\n",
              "      <th></th>\n",
              "      <th></th>\n",
              "      <th></th>\n",
              "      <th></th>\n",
              "      <th></th>\n",
              "      <th></th>\n",
              "      <th></th>\n",
              "      <th></th>\n",
              "      <th></th>\n",
              "      <th></th>\n",
              "      <th></th>\n",
              "      <th></th>\n",
              "      <th></th>\n",
              "      <th></th>\n",
              "      <th></th>\n",
              "      <th></th>\n",
              "      <th></th>\n",
              "      <th></th>\n",
              "    </tr>\n",
              "  </thead>\n",
              "  <tbody>\n",
              "    <tr>\n",
              "      <th>300051</th>\n",
              "      <td>17</td>\n",
              "      <td>596</td>\n",
              "      <td>3</td>\n",
              "      <td>20</td>\n",
              "      <td>7</td>\n",
              "      <td>6</td>\n",
              "      <td>0</td>\n",
              "      <td>1</td>\n",
              "      <td>0</td>\n",
              "      <td>0</td>\n",
              "      <td>0</td>\n",
              "      <td>0</td>\n",
              "      <td>0</td>\n",
              "      <td>0</td>\n",
              "      <td>0</td>\n",
              "      <td>0</td>\n",
              "      <td>0</td>\n",
              "      <td>0</td>\n",
              "      <td>0</td>\n",
              "      <td>1</td>\n",
              "      <td>0</td>\n",
              "      <td>0</td>\n",
              "      <td>1</td>\n",
              "      <td>0</td>\n",
              "      <td>0</td>\n",
              "      <td>1</td>\n",
              "      <td>0</td>\n",
              "      <td>0</td>\n",
              "      <td>1</td>\n",
              "      <td>0</td>\n",
              "      <td>0</td>\n",
              "      <td>0</td>\n",
              "      <td>0</td>\n",
              "      <td>0</td>\n",
              "      <td>1</td>\n",
              "      <td>0</td>\n",
              "      <td>0</td>\n",
              "      <td>0</td>\n",
              "      <td>0</td>\n",
              "      <td>1</td>\n",
              "      <td>0</td>\n",
              "      <td>0</td>\n",
              "      <td>0</td>\n",
              "      <td>1</td>\n",
              "      <td>0</td>\n",
              "      <td>0</td>\n",
              "      <td>0</td>\n",
              "      <td>0</td>\n",
              "      <td>0</td>\n",
              "      <td>0</td>\n",
              "      <td>0</td>\n",
              "    </tr>\n",
              "    <tr>\n",
              "      <th>99355</th>\n",
              "      <td>6</td>\n",
              "      <td>141</td>\n",
              "      <td>2</td>\n",
              "      <td>25</td>\n",
              "      <td>13</td>\n",
              "      <td>5</td>\n",
              "      <td>0</td>\n",
              "      <td>1</td>\n",
              "      <td>0</td>\n",
              "      <td>0</td>\n",
              "      <td>0</td>\n",
              "      <td>0</td>\n",
              "      <td>0</td>\n",
              "      <td>0</td>\n",
              "      <td>0</td>\n",
              "      <td>0</td>\n",
              "      <td>0</td>\n",
              "      <td>0</td>\n",
              "      <td>0</td>\n",
              "      <td>1</td>\n",
              "      <td>0</td>\n",
              "      <td>0</td>\n",
              "      <td>1</td>\n",
              "      <td>0</td>\n",
              "      <td>0</td>\n",
              "      <td>1</td>\n",
              "      <td>0</td>\n",
              "      <td>0</td>\n",
              "      <td>1</td>\n",
              "      <td>0</td>\n",
              "      <td>0</td>\n",
              "      <td>0</td>\n",
              "      <td>0</td>\n",
              "      <td>0</td>\n",
              "      <td>1</td>\n",
              "      <td>0</td>\n",
              "      <td>0</td>\n",
              "      <td>0</td>\n",
              "      <td>0</td>\n",
              "      <td>1</td>\n",
              "      <td>0</td>\n",
              "      <td>0</td>\n",
              "      <td>0</td>\n",
              "      <td>1</td>\n",
              "      <td>0</td>\n",
              "      <td>0</td>\n",
              "      <td>0</td>\n",
              "      <td>0</td>\n",
              "      <td>0</td>\n",
              "      <td>0</td>\n",
              "      <td>0</td>\n",
              "    </tr>\n",
              "    <tr>\n",
              "      <th>890251</th>\n",
              "      <td>22</td>\n",
              "      <td>19</td>\n",
              "      <td>2</td>\n",
              "      <td>5</td>\n",
              "      <td>4</td>\n",
              "      <td>5</td>\n",
              "      <td>0</td>\n",
              "      <td>1</td>\n",
              "      <td>0</td>\n",
              "      <td>0</td>\n",
              "      <td>0</td>\n",
              "      <td>0</td>\n",
              "      <td>0</td>\n",
              "      <td>0</td>\n",
              "      <td>0</td>\n",
              "      <td>0</td>\n",
              "      <td>0</td>\n",
              "      <td>0</td>\n",
              "      <td>0</td>\n",
              "      <td>1</td>\n",
              "      <td>0</td>\n",
              "      <td>0</td>\n",
              "      <td>1</td>\n",
              "      <td>0</td>\n",
              "      <td>0</td>\n",
              "      <td>1</td>\n",
              "      <td>0</td>\n",
              "      <td>0</td>\n",
              "      <td>1</td>\n",
              "      <td>0</td>\n",
              "      <td>0</td>\n",
              "      <td>0</td>\n",
              "      <td>0</td>\n",
              "      <td>0</td>\n",
              "      <td>1</td>\n",
              "      <td>0</td>\n",
              "      <td>0</td>\n",
              "      <td>0</td>\n",
              "      <td>0</td>\n",
              "      <td>1</td>\n",
              "      <td>0</td>\n",
              "      <td>0</td>\n",
              "      <td>0</td>\n",
              "      <td>1</td>\n",
              "      <td>0</td>\n",
              "      <td>0</td>\n",
              "      <td>0</td>\n",
              "      <td>0</td>\n",
              "      <td>0</td>\n",
              "      <td>0</td>\n",
              "      <td>0</td>\n",
              "    </tr>\n",
              "    <tr>\n",
              "      <th>745817</th>\n",
              "      <td>26</td>\n",
              "      <td>39</td>\n",
              "      <td>1</td>\n",
              "      <td>0</td>\n",
              "      <td>19</td>\n",
              "      <td>3</td>\n",
              "      <td>0</td>\n",
              "      <td>0</td>\n",
              "      <td>0</td>\n",
              "      <td>0</td>\n",
              "      <td>0</td>\n",
              "      <td>1</td>\n",
              "      <td>0</td>\n",
              "      <td>0</td>\n",
              "      <td>0</td>\n",
              "      <td>0</td>\n",
              "      <td>0</td>\n",
              "      <td>0</td>\n",
              "      <td>0</td>\n",
              "      <td>1</td>\n",
              "      <td>0</td>\n",
              "      <td>0</td>\n",
              "      <td>1</td>\n",
              "      <td>0</td>\n",
              "      <td>0</td>\n",
              "      <td>0</td>\n",
              "      <td>0</td>\n",
              "      <td>1</td>\n",
              "      <td>0</td>\n",
              "      <td>0</td>\n",
              "      <td>1</td>\n",
              "      <td>0</td>\n",
              "      <td>0</td>\n",
              "      <td>1</td>\n",
              "      <td>0</td>\n",
              "      <td>0</td>\n",
              "      <td>0</td>\n",
              "      <td>0</td>\n",
              "      <td>0</td>\n",
              "      <td>0</td>\n",
              "      <td>1</td>\n",
              "      <td>0</td>\n",
              "      <td>0</td>\n",
              "      <td>1</td>\n",
              "      <td>0</td>\n",
              "      <td>0</td>\n",
              "      <td>0</td>\n",
              "      <td>0</td>\n",
              "      <td>0</td>\n",
              "      <td>0</td>\n",
              "      <td>0</td>\n",
              "    </tr>\n",
              "    <tr>\n",
              "      <th>421793</th>\n",
              "      <td>17</td>\n",
              "      <td>289</td>\n",
              "      <td>3</td>\n",
              "      <td>15</td>\n",
              "      <td>8</td>\n",
              "      <td>7</td>\n",
              "      <td>0</td>\n",
              "      <td>1</td>\n",
              "      <td>0</td>\n",
              "      <td>0</td>\n",
              "      <td>0</td>\n",
              "      <td>0</td>\n",
              "      <td>0</td>\n",
              "      <td>0</td>\n",
              "      <td>0</td>\n",
              "      <td>0</td>\n",
              "      <td>0</td>\n",
              "      <td>0</td>\n",
              "      <td>0</td>\n",
              "      <td>1</td>\n",
              "      <td>0</td>\n",
              "      <td>0</td>\n",
              "      <td>1</td>\n",
              "      <td>0</td>\n",
              "      <td>0</td>\n",
              "      <td>0</td>\n",
              "      <td>1</td>\n",
              "      <td>0</td>\n",
              "      <td>1</td>\n",
              "      <td>0</td>\n",
              "      <td>0</td>\n",
              "      <td>0</td>\n",
              "      <td>0</td>\n",
              "      <td>0</td>\n",
              "      <td>1</td>\n",
              "      <td>0</td>\n",
              "      <td>0</td>\n",
              "      <td>0</td>\n",
              "      <td>0</td>\n",
              "      <td>0</td>\n",
              "      <td>1</td>\n",
              "      <td>0</td>\n",
              "      <td>0</td>\n",
              "      <td>1</td>\n",
              "      <td>0</td>\n",
              "      <td>0</td>\n",
              "      <td>0</td>\n",
              "      <td>0</td>\n",
              "      <td>0</td>\n",
              "      <td>0</td>\n",
              "      <td>0</td>\n",
              "    </tr>\n",
              "    <tr>\n",
              "      <th>...</th>\n",
              "      <td>...</td>\n",
              "      <td>...</td>\n",
              "      <td>...</td>\n",
              "      <td>...</td>\n",
              "      <td>...</td>\n",
              "      <td>...</td>\n",
              "      <td>...</td>\n",
              "      <td>...</td>\n",
              "      <td>...</td>\n",
              "      <td>...</td>\n",
              "      <td>...</td>\n",
              "      <td>...</td>\n",
              "      <td>...</td>\n",
              "      <td>...</td>\n",
              "      <td>...</td>\n",
              "      <td>...</td>\n",
              "      <td>...</td>\n",
              "      <td>...</td>\n",
              "      <td>...</td>\n",
              "      <td>...</td>\n",
              "      <td>...</td>\n",
              "      <td>...</td>\n",
              "      <td>...</td>\n",
              "      <td>...</td>\n",
              "      <td>...</td>\n",
              "      <td>...</td>\n",
              "      <td>...</td>\n",
              "      <td>...</td>\n",
              "      <td>...</td>\n",
              "      <td>...</td>\n",
              "      <td>...</td>\n",
              "      <td>...</td>\n",
              "      <td>...</td>\n",
              "      <td>...</td>\n",
              "      <td>...</td>\n",
              "      <td>...</td>\n",
              "      <td>...</td>\n",
              "      <td>...</td>\n",
              "      <td>...</td>\n",
              "      <td>...</td>\n",
              "      <td>...</td>\n",
              "      <td>...</td>\n",
              "      <td>...</td>\n",
              "      <td>...</td>\n",
              "      <td>...</td>\n",
              "      <td>...</td>\n",
              "      <td>...</td>\n",
              "      <td>...</td>\n",
              "      <td>...</td>\n",
              "      <td>...</td>\n",
              "      <td>...</td>\n",
              "    </tr>\n",
              "    <tr>\n",
              "      <th>310028</th>\n",
              "      <td>4</td>\n",
              "      <td>605</td>\n",
              "      <td>3</td>\n",
              "      <td>70</td>\n",
              "      <td>20</td>\n",
              "      <td>6</td>\n",
              "      <td>0</td>\n",
              "      <td>1</td>\n",
              "      <td>0</td>\n",
              "      <td>0</td>\n",
              "      <td>0</td>\n",
              "      <td>0</td>\n",
              "      <td>1</td>\n",
              "      <td>0</td>\n",
              "      <td>0</td>\n",
              "      <td>0</td>\n",
              "      <td>0</td>\n",
              "      <td>0</td>\n",
              "      <td>0</td>\n",
              "      <td>1</td>\n",
              "      <td>0</td>\n",
              "      <td>0</td>\n",
              "      <td>1</td>\n",
              "      <td>0</td>\n",
              "      <td>0</td>\n",
              "      <td>0</td>\n",
              "      <td>1</td>\n",
              "      <td>0</td>\n",
              "      <td>1</td>\n",
              "      <td>0</td>\n",
              "      <td>0</td>\n",
              "      <td>0</td>\n",
              "      <td>0</td>\n",
              "      <td>0</td>\n",
              "      <td>1</td>\n",
              "      <td>0</td>\n",
              "      <td>0</td>\n",
              "      <td>0</td>\n",
              "      <td>0</td>\n",
              "      <td>0</td>\n",
              "      <td>1</td>\n",
              "      <td>0</td>\n",
              "      <td>0</td>\n",
              "      <td>1</td>\n",
              "      <td>0</td>\n",
              "      <td>0</td>\n",
              "      <td>0</td>\n",
              "      <td>0</td>\n",
              "      <td>0</td>\n",
              "      <td>0</td>\n",
              "      <td>0</td>\n",
              "    </tr>\n",
              "    <tr>\n",
              "      <th>663567</th>\n",
              "      <td>10</td>\n",
              "      <td>1407</td>\n",
              "      <td>3</td>\n",
              "      <td>25</td>\n",
              "      <td>6</td>\n",
              "      <td>7</td>\n",
              "      <td>1</td>\n",
              "      <td>1</td>\n",
              "      <td>1</td>\n",
              "      <td>0</td>\n",
              "      <td>0</td>\n",
              "      <td>0</td>\n",
              "      <td>0</td>\n",
              "      <td>0</td>\n",
              "      <td>0</td>\n",
              "      <td>0</td>\n",
              "      <td>0</td>\n",
              "      <td>1</td>\n",
              "      <td>0</td>\n",
              "      <td>0</td>\n",
              "      <td>0</td>\n",
              "      <td>0</td>\n",
              "      <td>1</td>\n",
              "      <td>0</td>\n",
              "      <td>0</td>\n",
              "      <td>1</td>\n",
              "      <td>0</td>\n",
              "      <td>0</td>\n",
              "      <td>1</td>\n",
              "      <td>0</td>\n",
              "      <td>0</td>\n",
              "      <td>0</td>\n",
              "      <td>0</td>\n",
              "      <td>0</td>\n",
              "      <td>1</td>\n",
              "      <td>0</td>\n",
              "      <td>0</td>\n",
              "      <td>0</td>\n",
              "      <td>0</td>\n",
              "      <td>1</td>\n",
              "      <td>0</td>\n",
              "      <td>0</td>\n",
              "      <td>0</td>\n",
              "      <td>1</td>\n",
              "      <td>0</td>\n",
              "      <td>0</td>\n",
              "      <td>0</td>\n",
              "      <td>0</td>\n",
              "      <td>0</td>\n",
              "      <td>0</td>\n",
              "      <td>0</td>\n",
              "    </tr>\n",
              "    <tr>\n",
              "      <th>1049160</th>\n",
              "      <td>22</td>\n",
              "      <td>1136</td>\n",
              "      <td>1</td>\n",
              "      <td>50</td>\n",
              "      <td>3</td>\n",
              "      <td>3</td>\n",
              "      <td>0</td>\n",
              "      <td>1</td>\n",
              "      <td>0</td>\n",
              "      <td>0</td>\n",
              "      <td>0</td>\n",
              "      <td>0</td>\n",
              "      <td>1</td>\n",
              "      <td>0</td>\n",
              "      <td>0</td>\n",
              "      <td>0</td>\n",
              "      <td>0</td>\n",
              "      <td>0</td>\n",
              "      <td>0</td>\n",
              "      <td>1</td>\n",
              "      <td>0</td>\n",
              "      <td>0</td>\n",
              "      <td>1</td>\n",
              "      <td>0</td>\n",
              "      <td>0</td>\n",
              "      <td>1</td>\n",
              "      <td>0</td>\n",
              "      <td>0</td>\n",
              "      <td>1</td>\n",
              "      <td>0</td>\n",
              "      <td>0</td>\n",
              "      <td>0</td>\n",
              "      <td>0</td>\n",
              "      <td>1</td>\n",
              "      <td>0</td>\n",
              "      <td>0</td>\n",
              "      <td>0</td>\n",
              "      <td>0</td>\n",
              "      <td>0</td>\n",
              "      <td>1</td>\n",
              "      <td>0</td>\n",
              "      <td>0</td>\n",
              "      <td>0</td>\n",
              "      <td>1</td>\n",
              "      <td>0</td>\n",
              "      <td>0</td>\n",
              "      <td>0</td>\n",
              "      <td>0</td>\n",
              "      <td>0</td>\n",
              "      <td>0</td>\n",
              "      <td>0</td>\n",
              "    </tr>\n",
              "    <tr>\n",
              "      <th>442785</th>\n",
              "      <td>6</td>\n",
              "      <td>1041</td>\n",
              "      <td>2</td>\n",
              "      <td>5</td>\n",
              "      <td>9</td>\n",
              "      <td>5</td>\n",
              "      <td>1</td>\n",
              "      <td>1</td>\n",
              "      <td>0</td>\n",
              "      <td>0</td>\n",
              "      <td>0</td>\n",
              "      <td>0</td>\n",
              "      <td>0</td>\n",
              "      <td>0</td>\n",
              "      <td>0</td>\n",
              "      <td>0</td>\n",
              "      <td>0</td>\n",
              "      <td>0</td>\n",
              "      <td>0</td>\n",
              "      <td>1</td>\n",
              "      <td>0</td>\n",
              "      <td>0</td>\n",
              "      <td>1</td>\n",
              "      <td>0</td>\n",
              "      <td>0</td>\n",
              "      <td>1</td>\n",
              "      <td>0</td>\n",
              "      <td>0</td>\n",
              "      <td>1</td>\n",
              "      <td>0</td>\n",
              "      <td>0</td>\n",
              "      <td>0</td>\n",
              "      <td>0</td>\n",
              "      <td>0</td>\n",
              "      <td>1</td>\n",
              "      <td>0</td>\n",
              "      <td>0</td>\n",
              "      <td>0</td>\n",
              "      <td>0</td>\n",
              "      <td>1</td>\n",
              "      <td>0</td>\n",
              "      <td>0</td>\n",
              "      <td>0</td>\n",
              "      <td>1</td>\n",
              "      <td>0</td>\n",
              "      <td>0</td>\n",
              "      <td>0</td>\n",
              "      <td>0</td>\n",
              "      <td>0</td>\n",
              "      <td>0</td>\n",
              "      <td>0</td>\n",
              "    </tr>\n",
              "    <tr>\n",
              "      <th>501372</th>\n",
              "      <td>26</td>\n",
              "      <td>36</td>\n",
              "      <td>2</td>\n",
              "      <td>10</td>\n",
              "      <td>11</td>\n",
              "      <td>4</td>\n",
              "      <td>0</td>\n",
              "      <td>0</td>\n",
              "      <td>0</td>\n",
              "      <td>0</td>\n",
              "      <td>0</td>\n",
              "      <td>1</td>\n",
              "      <td>0</td>\n",
              "      <td>0</td>\n",
              "      <td>0</td>\n",
              "      <td>0</td>\n",
              "      <td>0</td>\n",
              "      <td>0</td>\n",
              "      <td>0</td>\n",
              "      <td>1</td>\n",
              "      <td>0</td>\n",
              "      <td>0</td>\n",
              "      <td>1</td>\n",
              "      <td>0</td>\n",
              "      <td>0</td>\n",
              "      <td>0</td>\n",
              "      <td>1</td>\n",
              "      <td>0</td>\n",
              "      <td>0</td>\n",
              "      <td>0</td>\n",
              "      <td>1</td>\n",
              "      <td>0</td>\n",
              "      <td>0</td>\n",
              "      <td>0</td>\n",
              "      <td>1</td>\n",
              "      <td>0</td>\n",
              "      <td>0</td>\n",
              "      <td>0</td>\n",
              "      <td>0</td>\n",
              "      <td>1</td>\n",
              "      <td>0</td>\n",
              "      <td>0</td>\n",
              "      <td>0</td>\n",
              "      <td>1</td>\n",
              "      <td>0</td>\n",
              "      <td>0</td>\n",
              "      <td>0</td>\n",
              "      <td>0</td>\n",
              "      <td>0</td>\n",
              "      <td>0</td>\n",
              "      <td>0</td>\n",
              "    </tr>\n",
              "  </tbody>\n",
              "</table>\n",
              "<p>86868 rows × 51 columns</p>\n",
              "</div>"
            ],
            "text/plain": [
              "             geo_level_1_id  ...  plan_configuration_u\n",
              "building_id                  ...                      \n",
              "300051                   17  ...                     0\n",
              "99355                     6  ...                     0\n",
              "890251                   22  ...                     0\n",
              "745817                   26  ...                     0\n",
              "421793                   17  ...                     0\n",
              "...                     ...  ...                   ...\n",
              "310028                    4  ...                     0\n",
              "663567                   10  ...                     0\n",
              "1049160                  22  ...                     0\n",
              "442785                    6  ...                     0\n",
              "501372                   26  ...                     0\n",
              "\n",
              "[86868 rows x 51 columns]"
            ]
          },
          "metadata": {
            "tags": []
          },
          "execution_count": 145
        }
      ]
    },
    {
      "cell_type": "markdown",
      "metadata": {
        "id": "R7mxAD6rU0LF"
      },
      "source": [
        "#predicciones"
      ]
    },
    {
      "cell_type": "code",
      "metadata": {
        "id": "DdlG4q8VUxeo"
      },
      "source": [
        "selected_features = [\"geo_level_1_id\",\"geo_level_2_id\",\t\"count_floors_pre_eq\"\t,\"age\"\t,\"area_percentage\"\t,\"height_percentage\",\t\"has_superstructure_adobe_mud\"\t,\"has_superstructure_mud_mortar_stone\",\t\"has_superstructure_stone_flag\"\t,\"has_superstructure_cement_mortar_stone\",\t\"has_superstructure_mud_mortar_brick\",\t\"has_superstructure_cement_mortar_brick\",\t\"has_superstructure_timber\"\t,\"has_superstructure_bamboo\"\t,\"has_superstructure_rc_non_engineered\",\t\"has_superstructure_rc_engineered\"\t,\"has_superstructure_other\",\"land_surface_condition\",\t\"foundation_type\",\t\"roof_type\",\t\"ground_floor_type\",\t\"other_floor_type\",\t\"position\"\t,\"plan_configuration\"]\n",
        "test_values_subset = test_values[selected_features]\n",
        "test_values_subset[\"floors/area_p\"] = test_values_subset[\"count_floors_pre_eq\"]/test_values_subset[\"area_percentage\"]\n",
        "test_values_subset[\"floors/height_p\"] = test_values_subset[\"count_floors_pre_eq\"]/test_values_subset[\"height_percentage\"]\n",
        "test_values_subset = pd.get_dummies(test_values_subset)\n",
        "\n",
        "\n",
        "predictions = gs.predict(test_values_subset)"
      ],
      "execution_count": null,
      "outputs": []
    },
    {
      "cell_type": "code",
      "metadata": {
        "id": "fSprv7jkU8W1"
      },
      "source": [
        "submission_format = pd.read_csv('submission_format.csv', encoding='latin1',sep=',', index_col='building_id')\n",
        "my_submission = pd.DataFrame(data=predictions,\n",
        "                             columns=submission_format.columns,\n",
        "                             index=submission_format.index)"
      ],
      "execution_count": null,
      "outputs": []
    },
    {
      "cell_type": "code",
      "metadata": {
        "colab": {
          "base_uri": "https://localhost:8080/",
          "height": 227
        },
        "id": "0kfZ2bKRVA53",
        "outputId": "c459dbc7-b739-4c4d-a058-c042dc674c7b"
      },
      "source": [
        "my_submission.head()"
      ],
      "execution_count": null,
      "outputs": [
        {
          "output_type": "execute_result",
          "data": {
            "text/html": [
              "<div>\n",
              "<style scoped>\n",
              "    .dataframe tbody tr th:only-of-type {\n",
              "        vertical-align: middle;\n",
              "    }\n",
              "\n",
              "    .dataframe tbody tr th {\n",
              "        vertical-align: top;\n",
              "    }\n",
              "\n",
              "    .dataframe thead th {\n",
              "        text-align: right;\n",
              "    }\n",
              "</style>\n",
              "<table border=\"1\" class=\"dataframe\">\n",
              "  <thead>\n",
              "    <tr style=\"text-align: right;\">\n",
              "      <th></th>\n",
              "      <th>damage_grade</th>\n",
              "    </tr>\n",
              "    <tr>\n",
              "      <th>building_id</th>\n",
              "      <th></th>\n",
              "    </tr>\n",
              "  </thead>\n",
              "  <tbody>\n",
              "    <tr>\n",
              "      <th>300051</th>\n",
              "      <td>3</td>\n",
              "    </tr>\n",
              "    <tr>\n",
              "      <th>99355</th>\n",
              "      <td>2</td>\n",
              "    </tr>\n",
              "    <tr>\n",
              "      <th>890251</th>\n",
              "      <td>2</td>\n",
              "    </tr>\n",
              "    <tr>\n",
              "      <th>745817</th>\n",
              "      <td>1</td>\n",
              "    </tr>\n",
              "    <tr>\n",
              "      <th>421793</th>\n",
              "      <td>3</td>\n",
              "    </tr>\n",
              "  </tbody>\n",
              "</table>\n",
              "</div>"
            ],
            "text/plain": [
              "             damage_grade\n",
              "building_id              \n",
              "300051                  3\n",
              "99355                   2\n",
              "890251                  2\n",
              "745817                  1\n",
              "421793                  3"
            ]
          },
          "metadata": {
            "tags": []
          },
          "execution_count": 151
        }
      ]
    },
    {
      "cell_type": "code",
      "metadata": {
        "id": "eX9NRQECVF6g"
      },
      "source": [
        "my_submission.to_csv('submission.csv')"
      ],
      "execution_count": null,
      "outputs": []
    },
    {
      "cell_type": "code",
      "metadata": {
        "colab": {
          "base_uri": "https://localhost:8080/"
        },
        "id": "CKc-BVPDVJpP",
        "outputId": "7fbdd225-745d-4182-e8fd-d55af6a42d0e"
      },
      "source": [
        "!head submission.csv"
      ],
      "execution_count": null,
      "outputs": [
        {
          "output_type": "stream",
          "text": [
            "building_id,damage_grade\n",
            "300051,3\n",
            "99355,2\n",
            "890251,2\n",
            "745817,1\n",
            "421793,3\n",
            "871976,3\n",
            "691228,1\n",
            "896100,3\n",
            "343471,2\n"
          ],
          "name": "stdout"
        }
      ]
    },
    {
      "cell_type": "markdown",
      "metadata": {
        "id": "N7N5A-lfWHS-"
      },
      "source": [
        "#0.71 en driven data, debe ser overfitting. f1 dio casi 1 además"
      ]
    },
    {
      "cell_type": "markdown",
      "metadata": {
        "id": "DBO-lqMDcnPw"
      },
      "source": [
        "#En el proximo habria que empezar a jugar con la interaccion entre features (lo que hicimos en el tp1), es importante en arboles porque no tienen en cuenta esto. Splitean por columna de manera aislada"
      ]
    },
    {
      "cell_type": "code",
      "metadata": {
        "colab": {
          "base_uri": "https://localhost:8080/"
        },
        "id": "bNhhjH-7eSFy",
        "outputId": "cd4ad904-7fd2-4080-bb98-a60544b70875"
      },
      "source": [
        "forest = RandomForestClassifier(random_state = 123, n_estimators = 100, min_samples_leaf = 1)\n",
        "X=train_values_subset\n",
        "y=train_labels.values.ravel()\n",
        "forest.fit(X,y)\n"
      ],
      "execution_count": null,
      "outputs": [
        {
          "output_type": "execute_result",
          "data": {
            "text/plain": [
              "RandomForestClassifier(bootstrap=True, ccp_alpha=0.0, class_weight=None,\n",
              "                       criterion='gini', max_depth=None, max_features='auto',\n",
              "                       max_leaf_nodes=None, max_samples=None,\n",
              "                       min_impurity_decrease=0.0, min_impurity_split=None,\n",
              "                       min_samples_leaf=1, min_samples_split=2,\n",
              "                       min_weight_fraction_leaf=0.0, n_estimators=100,\n",
              "                       n_jobs=None, oob_score=False, random_state=123,\n",
              "                       verbose=0, warm_start=False)"
            ]
          },
          "metadata": {
            "tags": []
          },
          "execution_count": 65
        }
      ]
    },
    {
      "cell_type": "code",
      "metadata": {
        "colab": {
          "base_uri": "https://localhost:8080/"
        },
        "id": "cNxpmqf4f10s",
        "outputId": "e3ed574b-63e6-40a1-b912-35b1f3591f5d"
      },
      "source": [
        "#es lo mismo que arriba, pero es para ver los features\n",
        "from sklearn.metrics import f1_score\n",
        "\n",
        "in_sample_preds = forest.predict(train_values_subset)\n",
        "f1_score(train_labels, in_sample_preds, average='micro')"
      ],
      "execution_count": null,
      "outputs": [
        {
          "output_type": "execute_result",
          "data": {
            "text/plain": [
              "0.9842824854854739"
            ]
          },
          "metadata": {
            "tags": []
          },
          "execution_count": 66
        }
      ]
    },
    {
      "cell_type": "code",
      "metadata": {
        "colab": {
          "base_uri": "https://localhost:8080/",
          "height": 384
        },
        "id": "EezJpdozgNCO",
        "outputId": "88b5d873-12a7-4c52-9f89-313c6599d358"
      },
      "source": [
        "#mas importantes geo1 geo2 geo3 age(no filtre los casos raros) area_percentage height_percentage has_superstructure_adobe_mud\n",
        "plt.bar(train_values_subset.columns,forest.feature_importances_)\n",
        "plt.xlabel(\"features\")\n",
        "plt.ylabel(\"Importance\")\n",
        "plt.title(\"feature Importance en Random Forest\")\n",
        "plt.rcParams[\"figure.figsize\"] = (80,30)\n",
        "plt.show()"
      ],
      "execution_count": null,
      "outputs": [
        {
          "output_type": "display_data",
          "data": {
            "image/png": "[encoded data removed]",
            "text/plain": [
              "<Figure size 5760x720 with 1 Axes>"
            ]
          },
          "metadata": {
            "tags": [],
            "needs_background": "light"
          }
        }
      ]
    },
    {
      "cell_type": "markdown",
      "metadata": {
        "id": "-fZLEfAFjNEb"
      },
      "source": [
        "#habria que probar balanceando la cantidad de edificios con daño 1,2 y 3"
      ]
    },
    {
      "cell_type": "markdown",
      "metadata": {
        "id": "W59wS5l73he6"
      },
      "source": [
        "##.\n",
        "#.\n",
        "#.\n",
        "#.\n",
        "#.\n",
        "#.\n",
        "#.\n",
        "#.\n",
        "#.\n",
        "#.\n",
        "#.\n",
        "#.\n",
        "#.\n",
        "#.\n",
        "#.\n",
        "#.\n",
        "#."
      ]
    },
    {
      "cell_type": "markdown",
      "metadata": {
        "id": "vd9mojc33mfO"
      },
      "source": [
        "#XGBoost"
      ]
    },
    {
      "cell_type": "code",
      "metadata": {
        "id": "ryKA1k1y3pbh",
        "colab": {
          "base_uri": "https://localhost:8080/",
          "height": 505
        },
        "outputId": "70abaaad-37ae-4fcf-8d23-ca6cb6f59029"
      },
      "source": [
        "#instancio el regresor\n",
        "from sklearn.experimental import enable_halving_search_cv\n",
        "from sklearn.model_selection import HalvingGridSearchCV\n",
        "\n",
        "xgb_reg = xgb.XGBClassifier(objetive=\"binary:logistic\",seed = 123)"
      ],
      "execution_count": null,
      "outputs": [
        {
          "output_type": "error",
          "ename": "ImportError",
          "evalue": "ignored",
          "traceback": [
            "\u001b[0;31m---------------------------------------------------------------------------\u001b[0m",
            "\u001b[0;31mImportError\u001b[0m                               Traceback (most recent call last)",
            "\u001b[0;32m<ipython-input-6-b9c6b8c45883>\u001b[0m in \u001b[0;36m<module>\u001b[0;34m()\u001b[0m\n\u001b[1;32m      1\u001b[0m \u001b[0;31m#instancio el regresor\u001b[0m\u001b[0;34m\u001b[0m\u001b[0;34m\u001b[0m\u001b[0;34m\u001b[0m\u001b[0m\n\u001b[0;32m----> 2\u001b[0;31m \u001b[0;32mfrom\u001b[0m \u001b[0msklearn\u001b[0m\u001b[0;34m.\u001b[0m\u001b[0mexperimental\u001b[0m \u001b[0;32mimport\u001b[0m \u001b[0menable_halving_search_cv\u001b[0m\u001b[0;34m\u001b[0m\u001b[0;34m\u001b[0m\u001b[0m\n\u001b[0m\u001b[1;32m      3\u001b[0m \u001b[0;32mfrom\u001b[0m \u001b[0msklearn\u001b[0m\u001b[0;34m.\u001b[0m\u001b[0mmodel_selection\u001b[0m \u001b[0;32mimport\u001b[0m \u001b[0mHalvingGridSearchCV\u001b[0m\u001b[0;34m\u001b[0m\u001b[0;34m\u001b[0m\u001b[0m\n\u001b[1;32m      4\u001b[0m \u001b[0;34m\u001b[0m\u001b[0m\n\u001b[1;32m      5\u001b[0m \u001b[0mxgb_reg\u001b[0m \u001b[0;34m=\u001b[0m \u001b[0mxgb\u001b[0m\u001b[0;34m.\u001b[0m\u001b[0mXGBClassifier\u001b[0m\u001b[0;34m(\u001b[0m\u001b[0mobjetive\u001b[0m\u001b[0;34m=\u001b[0m\u001b[0;34m\"binary:logistic\"\u001b[0m\u001b[0;34m,\u001b[0m\u001b[0mseed\u001b[0m \u001b[0;34m=\u001b[0m \u001b[0;36m123\u001b[0m\u001b[0;34m)\u001b[0m\u001b[0;34m\u001b[0m\u001b[0;34m\u001b[0m\u001b[0m\n",
            "\u001b[0;32m/usr/local/lib/python3.7/dist-packages/sklearn/experimental/enable_halving_search_cv.py\u001b[0m in \u001b[0;36m<module>\u001b[0;34m()\u001b[0m\n\u001b[1;32m     20\u001b[0m \"\"\"\n\u001b[1;32m     21\u001b[0m \u001b[0;34m\u001b[0m\u001b[0m\n\u001b[0;32m---> 22\u001b[0;31m from ..model_selection._search_successive_halving import (\n\u001b[0m\u001b[1;32m     23\u001b[0m     \u001b[0mHalvingRandomSearchCV\u001b[0m\u001b[0;34m,\u001b[0m\u001b[0;34m\u001b[0m\u001b[0;34m\u001b[0m\u001b[0m\n\u001b[1;32m     24\u001b[0m     \u001b[0mHalvingGridSearchCV\u001b[0m\u001b[0;34m\u001b[0m\u001b[0;34m\u001b[0m\u001b[0m\n",
            "\u001b[0;32m/usr/local/lib/python3.7/dist-packages/sklearn/model_selection/_search_successive_halving.py\u001b[0m in \u001b[0;36m<module>\u001b[0;34m()\u001b[0m\n\u001b[1;32m      9\u001b[0m \u001b[0;32mfrom\u001b[0m \u001b[0;34m.\u001b[0m\u001b[0;34m.\u001b[0m\u001b[0mutils\u001b[0m\u001b[0;34m.\u001b[0m\u001b[0mvalidation\u001b[0m \u001b[0;32mimport\u001b[0m \u001b[0m_num_samples\u001b[0m\u001b[0;34m\u001b[0m\u001b[0;34m\u001b[0m\u001b[0m\n\u001b[1;32m     10\u001b[0m \u001b[0;32mfrom\u001b[0m \u001b[0;34m.\u001b[0m\u001b[0;34m.\u001b[0m\u001b[0mbase\u001b[0m \u001b[0;32mimport\u001b[0m \u001b[0mis_classifier\u001b[0m\u001b[0;34m\u001b[0m\u001b[0;34m\u001b[0m\u001b[0m\n\u001b[0;32m---> 11\u001b[0;31m \u001b[0;32mfrom\u001b[0m \u001b[0;34m.\u001b[0m\u001b[0m_split\u001b[0m \u001b[0;32mimport\u001b[0m \u001b[0mcheck_cv\u001b[0m\u001b[0;34m,\u001b[0m \u001b[0m_yields_constant_splits\u001b[0m\u001b[0;34m\u001b[0m\u001b[0;34m\u001b[0m\u001b[0m\n\u001b[0m\u001b[1;32m     12\u001b[0m \u001b[0;32mfrom\u001b[0m \u001b[0;34m.\u001b[0m\u001b[0;34m.\u001b[0m\u001b[0mutils\u001b[0m \u001b[0;32mimport\u001b[0m \u001b[0mresample\u001b[0m\u001b[0;34m\u001b[0m\u001b[0;34m\u001b[0m\u001b[0m\n\u001b[1;32m     13\u001b[0m \u001b[0;34m\u001b[0m\u001b[0m\n",
            "\u001b[0;31mImportError\u001b[0m: cannot import name '_yields_constant_splits' from 'sklearn.model_selection._split' (/usr/local/lib/python3.7/dist-packages/sklearn/model_selection/_split.py)",
            "",
            "\u001b[0;31m---------------------------------------------------------------------------\u001b[0;32m\nNOTE: If your import is failing due to a missing package, you can\nmanually install dependencies using either !pip or !apt.\n\nTo view examples of installing some common dependencies, click the\n\"Open Examples\" button below.\n\u001b[0;31m---------------------------------------------------------------------------\u001b[0m\n"
          ]
        }
      ]
    },
    {
      "cell_type": "markdown",
      "metadata": {
        "id": "NOkMRiu51K07"
      },
      "source": [
        "#45 min\n",
        "\n",
        "HalvingGridSearchCV(cv=3,\n",
        "\n",
        "                    estimator=XGBClassifier(objetive='binary:logistic',\n",
        "\n",
        "                                            seed=123),\n",
        "\n",
        "                    n_jobs=-1,\n",
        "\n",
        "                    param_grid={'base_score': [0.5],\n",
        "\n",
        "                                'colsample_bytree': [0.4, 0.6],\n",
        "\n",
        "                                'learning_rate': [0.1, 0.2],\n",
        "\n",
        "                                'max_delta_step': [0], 'max_depth': [4, 7, 9],\n",
        "\n",
        "                                'n_estimators': [100, 200],\n",
        "\n",
        "                                'subsample': [0.7, 0.8]},\n",
        "\n",
        "                    refit=<function _refit_callable at 0x7f68b05b4440>,\n",
        "\n",
        "                    scoring='f1_micro')\n",
        "\n",
        "\n",
        "  #best: {'base_score': 0.5,\n",
        " #'colsample_bytree': 0.6,\n",
        " #'learning_rate': 0.1,\n",
        " #'max_delta_step': 0,\n",
        " #'max_depth': 9,\n",
        " #'n_estimators': 100,\n",
        " #'subsample': 0.8}\n",
        " #0.7281134283686038, 0.7267 en drivendata"
      ]
    },
    {
      "cell_type": "markdown",
      "metadata": {
        "id": "zxjNI_7_wXxP"
      },
      "source": [
        "XGB\n",
        "\n",
        "{'base_score': 0.5,\n",
        " 'colsample_bytree': 0.6,\n",
        " 'learning_rate': 0.1,\n",
        " 'max_delta_step': 0,\n",
        " 'max_depth': 13,\n",
        " 'n_estimators': 100,\n",
        " 'subsample': 0.8}  llevo 1:53\n",
        "\n",
        "\n",
        " quedaron {'base_score': 0.5,\n",
        " 'colsample_bytree': 0.6,\n",
        " 'learning_rate': 0.1,\n",
        " 'max_delta_step': 0,\n",
        " 'max_depth': 13,\n",
        " 'n_estimators': 100,\n",
        " 'subsample': 0.8}\n",
        "\n",
        " cv = 5\n",
        "\n",
        "\n",
        " F1:  0.7408722012240747\n",
        " drivenData: 0.7396"
      ]
    },
    {
      "cell_type": "code",
      "metadata": {
        "id": "4XhPSC2caH47"
      },
      "source": [
        "\n",
        "parameters =    {\n",
        "            'max_depth': [9, 13],\n",
        "            'learning_rate': [0.1, 0.2],\n",
        "            'n_estimators': [100,150],\n",
        "            'max_delta_step': [0],\n",
        "            'subsample': [ 0.8,0.9],\n",
        "            'colsample_bytree': [ 0.6,0.7],\n",
        "            'base_score': [0.5],\n",
        "            }\n",
        "\n",
        "\n",
        "\n",
        "\n",
        "#parameters =    {\n",
        "#            'max_depth': [3, 4, 5,7,9],\n",
        "#            'learning_rate': [0.1, 0.2, 0.3, 0.4],\n",
        "#            'n_estimators': [50, 100, 150, 200],\n",
        "#            'gamma': [0, 0.1, 0.2],\n",
        "#            'min_child_weight': [0, 0.5, 1],\n",
        "#            'max_delta_step': [0],\n",
        "#            'subsample': [0.7, 0.8, 0.9, 1],\n",
        "#            'colsample_bytree': [0.4, 0.6, 0.8, 1],\n",
        "#            'colsample_bylevel': [1],\n",
        "#            'reg_alpha': [0, 1e-2, 1, 1e1, 10],\n",
        "#            'reg_lambda': [0, 1e-2, 1, 1e1],\n",
        "#            'base_score': [0.5],\n",
        "#\n",
        "#            }"
      ],
      "execution_count": null,
      "outputs": []
    },
    {
      "cell_type": "code",
      "metadata": {
        "id": "I7cUHSSZaY8T"
      },
      "source": [
        "HGS = HalvingGridSearchCV(xgb_reg, parameters, scoring = 'f1_micro', n_jobs=-1, cv=5)"
      ],
      "execution_count": null,
      "outputs": []
    },
    {
      "cell_type": "code",
      "metadata": {
        "id": "H510QT054lER",
        "colab": {
          "base_uri": "https://localhost:8080/",
          "height": 583
        },
        "outputId": "8ef63f4d-3ee8-4d9d-a622-a6fc1a298a59"
      },
      "source": [
        "selected_features = [\"geo_level_1_id\",\"geo_level_2_id\",\"geo_level_3_id\",\t\"count_floors_pre_eq\"\t,\"age\"\t,\"area_percentage\"\t,\"height_percentage\",\t\"has_superstructure_adobe_mud\"\t,\"has_superstructure_mud_mortar_stone\",\t\"has_superstructure_stone_flag\"\t,\"has_superstructure_cement_mortar_stone\",\t\"has_superstructure_mud_mortar_brick\",\t\"has_superstructure_cement_mortar_brick\",\t\"has_superstructure_timber\"\t,\"has_superstructure_bamboo\"\t,\"has_superstructure_rc_non_engineered\",\t\"has_superstructure_rc_engineered\"\t,\"has_superstructure_other\",\"land_surface_condition\",\t\"foundation_type\",\t\"roof_type\",\t\"ground_floor_type\",\t\"other_floor_type\",\t\"position\"\t,\"plan_configuration\"]\n",
        "train_values_subset = train_values[selected_features]\n",
        "train_values_subset[\"floors/area_p\"] = train_values_subset[\"count_floors_pre_eq\"]/train_values_subset[\"area_percentage\"]\n",
        "train_values_subset[\"floors/height_p\"] = train_values_subset[\"count_floors_pre_eq\"]/train_values_subset[\"height_percentage\"]\n",
        "train_values_subset[\"no_secondary_use\"] = 1 if  train_values_subset[\"has_secondary_use\"] == 0 else 0\n",
        "train_values_subset = pd.get_dummies(train_values_subset)\n"
      ],
      "execution_count": null,
      "outputs": [
        {
          "output_type": "error",
          "ename": "KeyError",
          "evalue": "ignored",
          "traceback": [
            "\u001b[0;31m---------------------------------------------------------------------------\u001b[0m",
            "\u001b[0;31mKeyError\u001b[0m                                  Traceback (most recent call last)",
            "\u001b[0;32m/usr/local/lib/python3.7/dist-packages/pandas/core/indexes/base.py\u001b[0m in \u001b[0;36mget_loc\u001b[0;34m(self, key, method, tolerance)\u001b[0m\n\u001b[1;32m   2897\u001b[0m             \u001b[0;32mtry\u001b[0m\u001b[0;34m:\u001b[0m\u001b[0;34m\u001b[0m\u001b[0;34m\u001b[0m\u001b[0m\n\u001b[0;32m-> 2898\u001b[0;31m                 \u001b[0;32mreturn\u001b[0m \u001b[0mself\u001b[0m\u001b[0;34m.\u001b[0m\u001b[0m_engine\u001b[0m\u001b[0;34m.\u001b[0m\u001b[0mget_loc\u001b[0m\u001b[0;34m(\u001b[0m\u001b[0mcasted_key\u001b[0m\u001b[0;34m)\u001b[0m\u001b[0;34m\u001b[0m\u001b[0;34m\u001b[0m\u001b[0m\n\u001b[0m\u001b[1;32m   2899\u001b[0m             \u001b[0;32mexcept\u001b[0m \u001b[0mKeyError\u001b[0m \u001b[0;32mas\u001b[0m \u001b[0merr\u001b[0m\u001b[0;34m:\u001b[0m\u001b[0;34m\u001b[0m\u001b[0;34m\u001b[0m\u001b[0m\n",
            "\u001b[0;32mpandas/_libs/index.pyx\u001b[0m in \u001b[0;36mpandas._libs.index.IndexEngine.get_loc\u001b[0;34m()\u001b[0m\n",
            "\u001b[0;32mpandas/_libs/index.pyx\u001b[0m in \u001b[0;36mpandas._libs.index.IndexEngine.get_loc\u001b[0;34m()\u001b[0m\n",
            "\u001b[0;32mpandas/_libs/hashtable_class_helper.pxi\u001b[0m in \u001b[0;36mpandas._libs.hashtable.PyObjectHashTable.get_item\u001b[0;34m()\u001b[0m\n",
            "\u001b[0;32mpandas/_libs/hashtable_class_helper.pxi\u001b[0m in \u001b[0;36mpandas._libs.hashtable.PyObjectHashTable.get_item\u001b[0;34m()\u001b[0m\n",
            "\u001b[0;31mKeyError\u001b[0m: 'has_secondary_use'",
            "\nThe above exception was the direct cause of the following exception:\n",
            "\u001b[0;31mKeyError\u001b[0m                                  Traceback (most recent call last)",
            "\u001b[0;32m<ipython-input-12-f86aef799720>\u001b[0m in \u001b[0;36m<module>\u001b[0;34m()\u001b[0m\n\u001b[1;32m      3\u001b[0m \u001b[0mtrain_values_subset\u001b[0m\u001b[0;34m[\u001b[0m\u001b[0;34m\"floors/area_p\"\u001b[0m\u001b[0;34m]\u001b[0m \u001b[0;34m=\u001b[0m \u001b[0mtrain_values_subset\u001b[0m\u001b[0;34m[\u001b[0m\u001b[0;34m\"count_floors_pre_eq\"\u001b[0m\u001b[0;34m]\u001b[0m\u001b[0;34m/\u001b[0m\u001b[0mtrain_values_subset\u001b[0m\u001b[0;34m[\u001b[0m\u001b[0;34m\"area_percentage\"\u001b[0m\u001b[0;34m]\u001b[0m\u001b[0;34m\u001b[0m\u001b[0;34m\u001b[0m\u001b[0m\n\u001b[1;32m      4\u001b[0m \u001b[0mtrain_values_subset\u001b[0m\u001b[0;34m[\u001b[0m\u001b[0;34m\"floors/height_p\"\u001b[0m\u001b[0;34m]\u001b[0m \u001b[0;34m=\u001b[0m \u001b[0mtrain_values_subset\u001b[0m\u001b[0;34m[\u001b[0m\u001b[0;34m\"count_floors_pre_eq\"\u001b[0m\u001b[0;34m]\u001b[0m\u001b[0;34m/\u001b[0m\u001b[0mtrain_values_subset\u001b[0m\u001b[0;34m[\u001b[0m\u001b[0;34m\"height_percentage\"\u001b[0m\u001b[0;34m]\u001b[0m\u001b[0;34m\u001b[0m\u001b[0;34m\u001b[0m\u001b[0m\n\u001b[0;32m----> 5\u001b[0;31m \u001b[0mtrain_values_subset\u001b[0m\u001b[0;34m[\u001b[0m\u001b[0;34m\"no_secondary_use\"\u001b[0m\u001b[0;34m]\u001b[0m \u001b[0;34m=\u001b[0m \u001b[0;36m1\u001b[0m \u001b[0;32mif\u001b[0m  \u001b[0mtrain_values_subset\u001b[0m\u001b[0;34m[\u001b[0m\u001b[0;34m\"has_secondary_use\"\u001b[0m\u001b[0;34m]\u001b[0m \u001b[0;34m==\u001b[0m \u001b[0;36m0\u001b[0m \u001b[0;32melse\u001b[0m \u001b[0;36m0\u001b[0m\u001b[0;34m\u001b[0m\u001b[0;34m\u001b[0m\u001b[0m\n\u001b[0m\u001b[1;32m      6\u001b[0m \u001b[0mtrain_values_subset\u001b[0m \u001b[0;34m=\u001b[0m \u001b[0mpd\u001b[0m\u001b[0;34m.\u001b[0m\u001b[0mget_dummies\u001b[0m\u001b[0;34m(\u001b[0m\u001b[0mtrain_values_subset\u001b[0m\u001b[0;34m)\u001b[0m\u001b[0;34m\u001b[0m\u001b[0;34m\u001b[0m\u001b[0m\n",
            "\u001b[0;32m/usr/local/lib/python3.7/dist-packages/pandas/core/frame.py\u001b[0m in \u001b[0;36m__getitem__\u001b[0;34m(self, key)\u001b[0m\n\u001b[1;32m   2904\u001b[0m             \u001b[0;32mif\u001b[0m \u001b[0mself\u001b[0m\u001b[0;34m.\u001b[0m\u001b[0mcolumns\u001b[0m\u001b[0;34m.\u001b[0m\u001b[0mnlevels\u001b[0m \u001b[0;34m>\u001b[0m \u001b[0;36m1\u001b[0m\u001b[0;34m:\u001b[0m\u001b[0;34m\u001b[0m\u001b[0;34m\u001b[0m\u001b[0m\n\u001b[1;32m   2905\u001b[0m                 \u001b[0;32mreturn\u001b[0m \u001b[0mself\u001b[0m\u001b[0;34m.\u001b[0m\u001b[0m_getitem_multilevel\u001b[0m\u001b[0;34m(\u001b[0m\u001b[0mkey\u001b[0m\u001b[0;34m)\u001b[0m\u001b[0;34m\u001b[0m\u001b[0;34m\u001b[0m\u001b[0m\n\u001b[0;32m-> 2906\u001b[0;31m             \u001b[0mindexer\u001b[0m \u001b[0;34m=\u001b[0m \u001b[0mself\u001b[0m\u001b[0;34m.\u001b[0m\u001b[0mcolumns\u001b[0m\u001b[0;34m.\u001b[0m\u001b[0mget_loc\u001b[0m\u001b[0;34m(\u001b[0m\u001b[0mkey\u001b[0m\u001b[0;34m)\u001b[0m\u001b[0;34m\u001b[0m\u001b[0;34m\u001b[0m\u001b[0m\n\u001b[0m\u001b[1;32m   2907\u001b[0m             \u001b[0;32mif\u001b[0m \u001b[0mis_integer\u001b[0m\u001b[0;34m(\u001b[0m\u001b[0mindexer\u001b[0m\u001b[0;34m)\u001b[0m\u001b[0;34m:\u001b[0m\u001b[0;34m\u001b[0m\u001b[0;34m\u001b[0m\u001b[0m\n\u001b[1;32m   2908\u001b[0m                 \u001b[0mindexer\u001b[0m \u001b[0;34m=\u001b[0m \u001b[0;34m[\u001b[0m\u001b[0mindexer\u001b[0m\u001b[0;34m]\u001b[0m\u001b[0;34m\u001b[0m\u001b[0;34m\u001b[0m\u001b[0m\n",
            "\u001b[0;32m/usr/local/lib/python3.7/dist-packages/pandas/core/indexes/base.py\u001b[0m in \u001b[0;36mget_loc\u001b[0;34m(self, key, method, tolerance)\u001b[0m\n\u001b[1;32m   2898\u001b[0m                 \u001b[0;32mreturn\u001b[0m \u001b[0mself\u001b[0m\u001b[0;34m.\u001b[0m\u001b[0m_engine\u001b[0m\u001b[0;34m.\u001b[0m\u001b[0mget_loc\u001b[0m\u001b[0;34m(\u001b[0m\u001b[0mcasted_key\u001b[0m\u001b[0;34m)\u001b[0m\u001b[0;34m\u001b[0m\u001b[0;34m\u001b[0m\u001b[0m\n\u001b[1;32m   2899\u001b[0m             \u001b[0;32mexcept\u001b[0m \u001b[0mKeyError\u001b[0m \u001b[0;32mas\u001b[0m \u001b[0merr\u001b[0m\u001b[0;34m:\u001b[0m\u001b[0;34m\u001b[0m\u001b[0;34m\u001b[0m\u001b[0m\n\u001b[0;32m-> 2900\u001b[0;31m                 \u001b[0;32mraise\u001b[0m \u001b[0mKeyError\u001b[0m\u001b[0;34m(\u001b[0m\u001b[0mkey\u001b[0m\u001b[0;34m)\u001b[0m \u001b[0;32mfrom\u001b[0m \u001b[0merr\u001b[0m\u001b[0;34m\u001b[0m\u001b[0;34m\u001b[0m\u001b[0m\n\u001b[0m\u001b[1;32m   2901\u001b[0m \u001b[0;34m\u001b[0m\u001b[0m\n\u001b[1;32m   2902\u001b[0m         \u001b[0;32mif\u001b[0m \u001b[0mtolerance\u001b[0m \u001b[0;32mis\u001b[0m \u001b[0;32mnot\u001b[0m \u001b[0;32mNone\u001b[0m\u001b[0;34m:\u001b[0m\u001b[0;34m\u001b[0m\u001b[0;34m\u001b[0m\u001b[0m\n",
            "\u001b[0;31mKeyError\u001b[0m: 'has_secondary_use'"
          ]
        }
      ]
    },
    {
      "cell_type": "code",
      "metadata": {
        "id": "xYNfL0PL6aWZ"
      },
      "source": [
        "from sklearn.model_selection import train_test_split\n",
        "X_train,X_test,y_train,y_test = train_test_split(train_values_subset,train_labels,test_size=0.2,train_size=0.8)"
      ],
      "execution_count": null,
      "outputs": []
    },
    {
      "cell_type": "markdown",
      "metadata": {
        "id": "jJZYmyxb5HQT"
      },
      "source": [
        "#entreno"
      ]
    },
    {
      "cell_type": "code",
      "metadata": {
        "colab": {
          "base_uri": "https://localhost:8080/"
        },
        "id": "ilujv4j040XG",
        "outputId": "8bdd5fc3-49a1-40c9-a7cf-f4299a947245"
      },
      "source": [
        "HGS.fit(X_train,y_train)"
      ],
      "execution_count": null,
      "outputs": [
        {
          "output_type": "execute_result",
          "data": {
            "text/plain": [
              "HalvingGridSearchCV(estimator=XGBClassifier(objetive='binary:logistic',\n",
              "                                            seed=123),\n",
              "                    n_jobs=-1,\n",
              "                    param_grid={'base_score': [0.5],\n",
              "                                'colsample_bytree': [0.6, 0.7],\n",
              "                                'learning_rate': [0.1, 0.2],\n",
              "                                'max_delta_step': [0], 'max_depth': [9, 13],\n",
              "                                'n_estimators': [100, 150],\n",
              "                                'subsample': [0.8, 0.9]},\n",
              "                    refit=<function _refit_callable at 0x7f68b05b4440>,\n",
              "                    scoring='f1_micro')"
            ]
          },
          "metadata": {
            "tags": []
          },
          "execution_count": 61
        }
      ]
    },
    {
      "cell_type": "code",
      "metadata": {
        "colab": {
          "base_uri": "https://localhost:8080/"
        },
        "id": "TrP5gw6gzR9U",
        "outputId": "c90277fd-3cdd-4060-c79f-39b1f393f225"
      },
      "source": [
        "HGS.best_params_"
      ],
      "execution_count": null,
      "outputs": [
        {
          "output_type": "execute_result",
          "data": {
            "text/plain": [
              "{'base_score': 0.5,\n",
              " 'colsample_bytree': 0.6,\n",
              " 'learning_rate': 0.1,\n",
              " 'max_delta_step': 0,\n",
              " 'max_depth': 13,\n",
              " 'n_estimators': 100,\n",
              " 'subsample': 0.8}"
            ]
          },
          "metadata": {
            "tags": []
          },
          "execution_count": 62
        }
      ]
    },
    {
      "cell_type": "code",
      "metadata": {
        "id": "bW5XuGL25Jfn"
      },
      "source": [
        "preds = HGS.predict(X_test)"
      ],
      "execution_count": null,
      "outputs": []
    },
    {
      "cell_type": "markdown",
      "metadata": {
        "id": "d-zpGumx66SL"
      },
      "source": [
        "#error f1"
      ]
    },
    {
      "cell_type": "code",
      "metadata": {
        "colab": {
          "base_uri": "https://localhost:8080/"
        },
        "id": "Cf4mT9n865rv",
        "outputId": "e084712c-d0db-4628-c320-dd82ffa6de28"
      },
      "source": [
        "from sklearn.metrics import f1_score\n",
        "\n",
        "\n",
        "f1_score(y_test, preds, average='micro')"
      ],
      "execution_count": null,
      "outputs": [
        {
          "output_type": "execute_result",
          "data": {
            "text/plain": [
              "0.7408722012240747"
            ]
          },
          "metadata": {
            "tags": []
          },
          "execution_count": 65
        }
      ]
    },
    {
      "cell_type": "markdown",
      "metadata": {
        "id": "H4UPGfl85TWo"
      },
      "source": [
        "#prediccion"
      ]
    },
    {
      "cell_type": "code",
      "metadata": {
        "id": "yzrk4GWA-l1I"
      },
      "source": [
        "test_values_subset = test_values[selected_features]\n",
        "test_values_subset[\"floors/area_p\"] = test_values_subset[\"count_floors_pre_eq\"]/test_values_subset[\"area_percentage\"]\n",
        "test_values_subset[\"floors/height_p\"] = test_values_subset[\"count_floors_pre_eq\"]/test_values_subset[\"height_percentage\"]\n",
        "test_values_subset = pd.get_dummies(test_values_subset)\n",
        "\n",
        "\n",
        "predictions = HGS.predict(test_values_subset)"
      ],
      "execution_count": null,
      "outputs": []
    },
    {
      "cell_type": "code",
      "metadata": {
        "id": "ThqkI09O-uGf"
      },
      "source": [
        "submission_format = pd.read_csv('submission_format.csv', encoding='latin1',sep=',', index_col='building_id')\n",
        "my_submission = pd.DataFrame(data=predictions,\n",
        "                             columns=submission_format.columns,\n",
        "                             index=submission_format.index)"
      ],
      "execution_count": null,
      "outputs": []
    },
    {
      "cell_type": "code",
      "metadata": {
        "colab": {
          "base_uri": "https://localhost:8080/",
          "height": 227
        },
        "id": "awhKQc-I-yvg",
        "outputId": "d75d2787-dea2-468f-866d-52f9781f9d5a"
      },
      "source": [
        "my_submission.head()"
      ],
      "execution_count": null,
      "outputs": [
        {
          "output_type": "execute_result",
          "data": {
            "text/html": [
              "<div>\n",
              "<style scoped>\n",
              "    .dataframe tbody tr th:only-of-type {\n",
              "        vertical-align: middle;\n",
              "    }\n",
              "\n",
              "    .dataframe tbody tr th {\n",
              "        vertical-align: top;\n",
              "    }\n",
              "\n",
              "    .dataframe thead th {\n",
              "        text-align: right;\n",
              "    }\n",
              "</style>\n",
              "<table border=\"1\" class=\"dataframe\">\n",
              "  <thead>\n",
              "    <tr style=\"text-align: right;\">\n",
              "      <th></th>\n",
              "      <th>damage_grade</th>\n",
              "    </tr>\n",
              "    <tr>\n",
              "      <th>building_id</th>\n",
              "      <th></th>\n",
              "    </tr>\n",
              "  </thead>\n",
              "  <tbody>\n",
              "    <tr>\n",
              "      <th>300051</th>\n",
              "      <td>3</td>\n",
              "    </tr>\n",
              "    <tr>\n",
              "      <th>99355</th>\n",
              "      <td>2</td>\n",
              "    </tr>\n",
              "    <tr>\n",
              "      <th>890251</th>\n",
              "      <td>2</td>\n",
              "    </tr>\n",
              "    <tr>\n",
              "      <th>745817</th>\n",
              "      <td>2</td>\n",
              "    </tr>\n",
              "    <tr>\n",
              "      <th>421793</th>\n",
              "      <td>3</td>\n",
              "    </tr>\n",
              "  </tbody>\n",
              "</table>\n",
              "</div>"
            ],
            "text/plain": [
              "             damage_grade\n",
              "building_id              \n",
              "300051                  3\n",
              "99355                   2\n",
              "890251                  2\n",
              "745817                  2\n",
              "421793                  3"
            ]
          },
          "metadata": {
            "tags": []
          },
          "execution_count": 68
        }
      ]
    },
    {
      "cell_type": "code",
      "metadata": {
        "colab": {
          "base_uri": "https://localhost:8080/"
        },
        "id": "XJw9cgmc-3Zw",
        "outputId": "46346938-e1fe-4fd5-8a30-7c887937585e"
      },
      "source": [
        "my_submission.to_csv('submission.csv')\n",
        "!head submission.csv"
      ],
      "execution_count": null,
      "outputs": [
        {
          "output_type": "stream",
          "text": [
            "building_id,damage_grade\n",
            "300051,3\n",
            "99355,2\n",
            "890251,2\n",
            "745817,2\n",
            "421793,3\n",
            "871976,2\n",
            "691228,1\n",
            "896100,3\n",
            "343471,2\n"
          ],
          "name": "stdout"
        }
      ]
    },
    {
      "cell_type": "markdown",
      "metadata": {
        "id": "NYbCyCGdZLml"
      },
      "source": [
        "#XGB cronologicamente posterior a anteriores\n"
      ]
    },
    {
      "cell_type": "code",
      "metadata": {
        "id": "9WtNyZskZQIh"
      },
      "source": [
        "#instancio el regresor\n",
        "from sklearn.experimental import enable_halving_search_cv\n",
        "from sklearn.model_selection import HalvingGridSearchCV\n",
        "\n",
        "xgb_reg = xgb.XGBClassifier(objetive=\"multi:softprob\",seed = 123)"
      ],
      "execution_count": null,
      "outputs": []
    },
    {
      "cell_type": "code",
      "metadata": {
        "id": "W4VP8KS4ZTyl"
      },
      "source": [
        "parameters = {'base_score':[0.5] ,\n",
        " 'colsample_bytree': [0.6],\n",
        " 'learning_rate': [0.1],\n",
        " 'max_delta_step': [1],\n",
        " 'max_depth': [13],\n",
        " 'n_estimators': [150],\n",
        " 'subsample': [0.8]}\n",
        "\n"
      ],
      "execution_count": null,
      "outputs": []
    },
    {
      "cell_type": "code",
      "metadata": {
        "id": "NIglU6MBZnIt"
      },
      "source": [
        "HGS = HalvingGridSearchCV(xgb_reg, parameters, scoring = 'f1_micro', n_jobs=-1, cv=5)"
      ],
      "execution_count": null,
      "outputs": []
    },
    {
      "cell_type": "markdown",
      "metadata": {
        "id": "-rVhZ09A-q7l"
      },
      "source": [
        "columna uses arbol\n"
      ]
    },
    {
      "cell_type": "code",
      "metadata": {
        "colab": {
          "base_uri": "https://localhost:8080/"
        },
        "id": "rkW27uFA-vvy",
        "outputId": "ab30a788-a55c-4f80-f030-fe5ea4a5340e"
      },
      "source": [
        "xgb_clas_use = xgb.XGBClassifier(objetive=\"multi:softprob\",seed = 123)\n",
        "\n",
        "parameters_xgb_clas_use = {'base_score':[0.5] ,\n",
        " 'colsample_bytree': [0.6],\n",
        " 'learning_rate': [0.1],\n",
        " 'max_delta_step': [1],\n",
        " 'max_depth': [25],\n",
        " 'n_estimators': [60],\n",
        " 'subsample': [0.2]}\n",
        "\n",
        "HGS_xgb_clas_use = HalvingGridSearchCV(xgb_clas_use, parameters_xgb_clas_use, scoring = 'f1_micro', n_jobs=-1, cv=5)\n",
        "\n",
        "selected_features_xgb_clas_use = [\"has_secondary_use_agriculture\"\t,\"has_secondary_use_hotel\",\t\"has_secondary_use_rental\",\t\"has_secondary_use_institution\"\t,\"has_secondary_use_school\",\t\"has_secondary_use_industry\"\t,\"has_secondary_use_health_post\"\t,\"has_secondary_use_gov_office\",\t\"has_secondary_use_use_police\"\t,\"has_secondary_use_other\"]\n",
        "train_values_subset_xgb_clas_use = train_values[selected_features_xgb_clas_use]\n",
        "\n",
        "from sklearn.model_selection import train_test_split\n",
        "X_train_u,X_test_u,y_train_u,y_test_u = train_test_split(train_values_subset_xgb_clas_use,train_labels,test_size=0.2,train_size=0.8)\n",
        "\n",
        "HGS_xgb_clas_use.fit(X_train_u,y_train_u)"
      ],
      "execution_count": null,
      "outputs": [
        {
          "output_type": "execute_result",
          "data": {
            "text/plain": [
              "HalvingGridSearchCV(estimator=XGBClassifier(objetive='multi:softprob',\n",
              "                                            seed=123),\n",
              "                    n_jobs=-1,\n",
              "                    param_grid={'base_score': [0.5], 'colsample_bytree': [0.6],\n",
              "                                'learning_rate': [0.1], 'max_delta_step': [1],\n",
              "                                'max_depth': [25], 'n_estimators': [60],\n",
              "                                'subsample': [0.2]},\n",
              "                    refit=<function _refit_callable at 0x7f504ae5d5f0>,\n",
              "                    scoring='f1_micro')"
            ]
          },
          "metadata": {
            "tags": []
          },
          "execution_count": 9
        }
      ]
    },
    {
      "cell_type": "code",
      "metadata": {
        "colab": {
          "base_uri": "https://localhost:8080/"
        },
        "id": "SPCym0af_hAe",
        "outputId": "2a1b9e53-dd62-4f14-ddf4-c5dd73212da1"
      },
      "source": [
        "HGS_xgb_clas_use.best_params_"
      ],
      "execution_count": null,
      "outputs": [
        {
          "output_type": "execute_result",
          "data": {
            "text/plain": [
              "{'base_score': 0.5,\n",
              " 'colsample_bytree': 0.6,\n",
              " 'learning_rate': 0.1,\n",
              " 'max_delta_step': 1,\n",
              " 'max_depth': 25,\n",
              " 'n_estimators': 60,\n",
              " 'subsample': 0.2}"
            ]
          },
          "metadata": {
            "tags": []
          },
          "execution_count": 10
        }
      ]
    },
    {
      "cell_type": "code",
      "metadata": {
        "colab": {
          "base_uri": "https://localhost:8080/"
        },
        "id": "-cwTAfln_kmk",
        "outputId": "a214fabc-b280-4b62-8ba5-17bd9f441d17"
      },
      "source": [
        "preds_xgb_clas_use = HGS_xgb_clas_use.predict(X_test_u)\n",
        "from sklearn.metrics import f1_score\n",
        "\n",
        "\n",
        "\n",
        "\n",
        "f1_score(y_test_u, preds_xgb_clas_use, average='micro')"
      ],
      "execution_count": null,
      "outputs": [
        {
          "output_type": "execute_result",
          "data": {
            "text/plain": [
              "0.5671418430191285"
            ]
          },
          "metadata": {
            "tags": []
          },
          "execution_count": 11
        }
      ]
    },
    {
      "cell_type": "markdown",
      "metadata": {
        "id": "Zpa1oog6-ts0"
      },
      "source": [
        "fin col uses arbol\n"
      ]
    },
    {
      "cell_type": "markdown",
      "metadata": {
        "id": "Okx-kvSvn2HJ"
      },
      "source": [
        "Columna testeando geoLevel arbol\n"
      ]
    },
    {
      "cell_type": "code",
      "metadata": {
        "colab": {
          "base_uri": "https://localhost:8080/"
        },
        "id": "4XpN_hr7n57R",
        "outputId": "b3c7573f-632e-47d8-e7da-308e9a44350f"
      },
      "source": [
        "#instancio el clasificador\n",
        "\n",
        "\n",
        "xgb_clas = xgb.XGBClassifier(objetive=\"multi:softprob\",seed = 123)\n",
        "\n",
        "parameters_xgb_clas = {'base_score':[0.5] ,\n",
        " 'colsample_bytree': [0.6],\n",
        " 'learning_rate': [0.1],\n",
        " 'max_delta_step': [1],\n",
        " 'max_depth': [13],\n",
        " 'n_estimators': [300],\n",
        " 'subsample': [0.2]}\n",
        "\n",
        "HGS_xgb_clas = HalvingGridSearchCV(xgb_clas, parameters_xgb_clas, scoring = 'f1_micro', n_jobs=-1, cv=5)\n",
        "\n",
        "selected_features_xgb_clas = [\"geo_level_1_id\",\"geo_level_2_id\",\"geo_level_3_id\"]\n",
        "train_values_subset_xgb_clas = train_values[selected_features_xgb_clas]\n",
        "\n",
        "from sklearn.model_selection import train_test_split\n",
        "X_train_,X_test_,y_train_,y_test_ = train_test_split(train_values_subset_xgb_clas,train_labels,test_size=0.2,train_size=0.8)\n",
        "\n",
        "HGS_xgb_clas.fit(X_train_,y_train_)"
      ],
      "execution_count": null,
      "outputs": [
        {
          "output_type": "execute_result",
          "data": {
            "text/plain": [
              "HalvingGridSearchCV(estimator=XGBClassifier(objetive='multi:softprob',\n",
              "                                            seed=123),\n",
              "                    n_jobs=-1,\n",
              "                    param_grid={'base_score': [0.5], 'colsample_bytree': [0.6],\n",
              "                                'learning_rate': [0.1], 'max_delta_step': [1],\n",
              "                                'max_depth': [13], 'n_estimators': [300],\n",
              "                                'subsample': [0.2]},\n",
              "                    refit=<function _refit_callable at 0x7f504ae5d5f0>,\n",
              "                    scoring='f1_micro')"
            ]
          },
          "metadata": {
            "tags": []
          },
          "execution_count": 12
        }
      ]
    },
    {
      "cell_type": "code",
      "metadata": {
        "colab": {
          "base_uri": "https://localhost:8080/"
        },
        "id": "q4KZHYTepXQM",
        "outputId": "981e40c6-d0d6-4472-b243-1c514c9f8b67"
      },
      "source": [
        "HGS_xgb_clas.best_params_"
      ],
      "execution_count": null,
      "outputs": [
        {
          "output_type": "execute_result",
          "data": {
            "text/plain": [
              "{'base_score': 0.5,\n",
              " 'colsample_bytree': 0.6,\n",
              " 'learning_rate': 0.1,\n",
              " 'max_delta_step': 1,\n",
              " 'max_depth': 13,\n",
              " 'n_estimators': 300,\n",
              " 'subsample': 0.2}"
            ]
          },
          "metadata": {
            "tags": []
          },
          "execution_count": 13
        }
      ]
    },
    {
      "cell_type": "code",
      "metadata": {
        "colab": {
          "base_uri": "https://localhost:8080/"
        },
        "id": "2G2wFftmsfpb",
        "outputId": "48418dd6-c535-4b70-ab19-6fe70afb84a7"
      },
      "source": [
        "preds_xgb_clas = HGS_xgb_clas.predict(X_test_)\n",
        "from sklearn.metrics import f1_score\n",
        "\n",
        "\n",
        "f1_score(y_test_, preds_xgb_clas, average='micro')"
      ],
      "execution_count": null,
      "outputs": [
        {
          "output_type": "execute_result",
          "data": {
            "text/plain": [
              "0.7142610464112354"
            ]
          },
          "metadata": {
            "tags": []
          },
          "execution_count": 14
        }
      ]
    },
    {
      "cell_type": "code",
      "metadata": {
        "colab": {
          "base_uri": "https://localhost:8080/"
        },
        "id": "nkpnQGQyur21",
        "outputId": "bdf164b1-a59b-4c78-b1e8-bc1d932e49b7"
      },
      "source": [
        "preds_xgb_clas"
      ],
      "execution_count": null,
      "outputs": [
        {
          "output_type": "execute_result",
          "data": {
            "text/plain": [
              "array([3, 2, 3, ..., 3, 2, 2])"
            ]
          },
          "metadata": {
            "tags": []
          },
          "execution_count": 50
        }
      ]
    },
    {
      "cell_type": "markdown",
      "metadata": {
        "id": "mhtG3PGfn6cb"
      },
      "source": [
        "Fin geoLevelColumna\n"
      ]
    },
    {
      "cell_type": "code",
      "metadata": {
        "colab": {
          "base_uri": "https://localhost:8080/",
          "height": 255
        },
        "id": "Lx2p1Sb8ZrW3",
        "outputId": "d2250178-fd77-4733-d2a6-28bac3c111ed"
      },
      "source": [
        "from scipy.stats.mstats import winsorize\n",
        "\n",
        "selected_features = [\"geo_level_1_id\",\"geo_level_2_id\",\"geo_level_3_id\",\t\"count_floors_pre_eq\"\t,\"age\"\t,\"area_percentage\"\t,\"height_percentage\",\t\"has_superstructure_adobe_mud\"\t,\"has_superstructure_mud_mortar_stone\",\t\"has_superstructure_stone_flag\"\t,\"has_superstructure_cement_mortar_stone\",\t\"has_superstructure_mud_mortar_brick\",\t\"has_superstructure_cement_mortar_brick\",\t\"has_superstructure_timber\"\t,\"has_superstructure_bamboo\"\t,\"has_superstructure_rc_non_engineered\",\t\"has_superstructure_rc_engineered\"\t,\"has_superstructure_other\",\"land_surface_condition\",\t\"foundation_type\",\t\"roof_type\",\t\"ground_floor_type\",\t\"other_floor_type\",\t\"position\"\t,\"plan_configuration\",\"has_secondary_use\",\t\"has_secondary_use_agriculture\"\t,\"has_secondary_use_hotel\",\t\"has_secondary_use_rental\",\t\"has_secondary_use_institution\"\t,\"has_secondary_use_school\",\t\"has_secondary_use_industry\"\t,\"has_secondary_use_health_post\"\t,\"has_secondary_use_gov_office\",\t\"has_secondary_use_use_police\"\t,\"has_secondary_use_other\"]\n",
        "\n",
        "#selected_features = [\"count_floors_pre_eq\"\t,\"age\"\t,\"area_percentage\"\t,\"height_percentage\",\t\"has_superstructure_adobe_mud\"\t,\"has_superstructure_mud_mortar_stone\",\t\"has_superstructure_stone_flag\"\t,\"has_superstructure_cement_mortar_stone\",\t\"has_superstructure_mud_mortar_brick\",\t\"has_superstructure_cement_mortar_brick\",\t\"has_superstructure_timber\"\t,\"has_superstructure_bamboo\"\t,\"has_superstructure_rc_non_engineered\",\t\"has_superstructure_rc_engineered\"\t,\"has_superstructure_other\",\"land_surface_condition\",\t\"foundation_type\",\t\"roof_type\",\t\"ground_floor_type\",\t\"other_floor_type\",\t\"position\"\t,\"plan_configuration\"]\n",
        "train_values_subset = train_values[selected_features]\n",
        "\n",
        "\n",
        "train_values_subset[\"damage_use\"]= HGS_xgb_clas_use.predict(train_values_subset_xgb_clas_use)\n",
        "train_values_subset[\"damage_geo_level\"] = HGS_xgb_clas.predict(train_values[[\"geo_level_1_id\",\"geo_level_2_id\",\"geo_level_3_id\"]])\n",
        "\n",
        "\n",
        "\n",
        "\n",
        "\n",
        "\n",
        "\n",
        "train_values_subset[\"age\"] = winsorize(train_values_subset[\"age\"],(0, 0.05))\n",
        "train_values_subset[\"area_percentage\"] = winsorize(train_values_subset[\"area_percentage\"],(0, 0.05))\n",
        "train_values_subset[\"height_percentage\"] = winsorize(train_values_subset[\"height_percentage\"],(0, 0.05))\n",
        "\n",
        "\n",
        "\n",
        "train_values_subset[\"floors/area_p\"] = train_values_subset[\"count_floors_pre_eq\"]/train_values_subset[\"area_percentage\"]\n",
        "train_values_subset[\"floors/height_p\"] = train_values_subset[\"count_floors_pre_eq\"]/train_values_subset[\"height_percentage\"]\n",
        "train_values_subset[\"height_p/area_p\"] = train_values_subset[\"height_percentage\"]/train_values_subset[\"area_percentage\"]\n",
        "train_values_subset[\"doesnt_have_secondary_use\"] = 1-train_values_subset[\"has_secondary_use\"]\n",
        "del train_values_subset[\"has_secondary_use\"]\n",
        "train_values_subset[\"has_secondary_use_other\"]  = train_values_subset[\"has_secondary_use_other\"]  |  train_values_subset[\"has_secondary_use_rental\"] |  train_values_subset[\"has_secondary_use_use_police\"] |  train_values_subset[\"has_secondary_use_institution\"]|  train_values_subset[\"has_secondary_use_school\"]|  train_values_subset[\"has_secondary_use_industry\"]|  train_values_subset[\"has_secondary_use_health_post\"]|  train_values_subset[\"has_secondary_use_gov_office\"]\n",
        "del train_values_subset[\"has_secondary_use_rental\"]\n",
        "del train_values_subset[\"has_secondary_use_institution\"]\n",
        "del train_values_subset[\"has_secondary_use_industry\"]\n",
        "del train_values_subset[\"has_secondary_use_health_post\"]\n",
        "del train_values_subset[\"has_secondary_use_gov_office\"]\n",
        "del train_values_subset[\"has_secondary_use_use_police\"]\n",
        "del train_values_subset[\"has_secondary_use_school\"]\n",
        "\n",
        "\n",
        "\n",
        "\n",
        "train_values_subset = pd.get_dummies(train_values_subset)\n",
        "train_values_subset.head()\n",
        "\n",
        "\n",
        "\n",
        "\n",
        "\n",
        "#0.7434623280443583 el f1 0.7411 en driven data (con multisoft prob dio 7416 en drivendata)\n",
        "#selected_features = [\"geo_level_1_id\",\"geo_level_2_id\",\"geo_level_3_id\",\t\"count_floors_pre_eq\"\t,\"age\"\t,\"area_percentage\"\t,\"height_percentage\",\t\"has_superstructure_adobe_mud\"\t,\"has_superstructure_mud_mortar_stone\",\t\"has_superstructure_stone_flag\"\t,\"has_superstructure_cement_mortar_stone\",\t\"has_superstructure_mud_mortar_brick\",\t\"has_superstructure_cement_mortar_brick\",\t\"has_superstructure_timber\"\t,\"has_superstructure_bamboo\"\t,\"has_superstructure_rc_non_engineered\",\t\"has_superstructure_rc_engineered\"\t,\"has_superstructure_other\",\"land_surface_condition\",\t\"foundation_type\",\t\"roof_type\",\t\"ground_floor_type\",\t\"other_floor_type\",\t\"position\"\t,\"plan_configuration\",\"has_secondary_use\",\t\"has_secondary_use_agriculture\"\t,\"has_secondary_use_hotel\",\t\"has_secondary_use_rental\",\t\"has_secondary_use_institution\"\t,\"has_secondary_use_school\",\t\"has_secondary_use_industry\"\t,\"has_secondary_use_health_post\"\t,\"has_secondary_use_gov_office\",\t\"has_secondary_use_use_police\"\t,\"has_secondary_use_other\"]\n",
        "#train_values_subset = train_values[selected_features]\n",
        "#train_values_subset[\"floors/area_p\"] = train_values_subset[\"count_floors_pre_eq\"]/train_values_subset[\"area_percentage\"]\n",
        "#train_values_subset[\"floors/height_p\"] = train_values_subset[\"count_floors_pre_eq\"]/train_values_subset[\"height_percentage\"]\n",
        "#train_values_subset[\"height_p/area_p\"] = train_values_subset[\"height_percentage\"]/train_values_subset[\"area_percentage\"]\n",
        "#train_values_subset[\"doesnt_have_secondary_use\"] = 1-train_values_subset[\"has_secondary_use\"]\n",
        "#del train_values_subset[\"has_secondary_use\"]\n",
        "#train_values_subset[\"has_secondary_use_other\"]  = train_values_subset[\"has_secondary_use_other\"]  |  train_values_subset[\"has_secondary_use_rental\"] |  train_values_subset[\"has_secondary_use_use_police\"] |  train_values_subset[\"has_secondary_use_institution\"]|  train_values_subset[\"has_secondary_use_school\"]|  train_values_subset[\"has_secondary_use_industry\"]|  train_values_subset[\"has_secondary_use_health_post\"]|  train_values_subset[\"has_secondary_use_gov_office\"]\n",
        "#del train_values_subset[\"has_secondary_use_rental\"]\n",
        "#del train_values_subset[\"has_secondary_use_institution\"]\n",
        "#del train_values_subset[\"has_secondary_use_industry\"]\n",
        "#del train_values_subset[\"has_secondary_use_health_post\"]\n",
        "#del train_values_subset[\"has_secondary_use_gov_office\"]\n",
        "#del train_values_subset[\"has_secondary_use_use_police\"]\n",
        "#el train_values_subset[\"has_secondary_use_school\"]\n",
        "#train_values_subset = pd.get_dummies(train_values_subset)\n",
        "#train_values_subset.head()\n",
        "\n",
        "#con lo de abajo dio 0.7431553500508432 f1 y en driven data 0.7417\n",
        "#selected_features = [\"geo_level_1_id\",\"geo_level_2_id\",\"geo_level_3_id\",\t\"count_floors_pre_eq\"\t,\"age\"\t,\"area_percentage\"\t,\"height_percentage\",\t\"has_superstructure_adobe_mud\"\t,\"has_superstructure_mud_mortar_stone\",\t\"has_superstructure_stone_flag\"\t,\"has_superstructure_cement_mortar_stone\",\t\"has_superstructure_mud_mortar_brick\",\t\"has_superstructure_cement_mortar_brick\",\t\"has_superstructure_timber\"\t,\"has_superstructure_bamboo\"\t,\"has_superstructure_rc_non_engineered\",\t\"has_superstructure_rc_engineered\"\t,\"has_superstructure_other\",\"land_surface_condition\",\t\"foundation_type\",\t\"roof_type\",\t\"ground_floor_type\",\t\"other_floor_type\",\t\"position\"\t,\"plan_configuration\",\"has_secondary_use\",\t\"has_secondary_use_agriculture\"\t,\"has_secondary_use_hotel\",\t\"has_secondary_use_rental\",\t\"has_secondary_use_institution\"\t,\"has_secondary_use_school\",\t\"has_secondary_use_industry\"\t,\"has_secondary_use_health_post\"\t,\"has_secondary_use_gov_office\",\t\"has_secondary_use_use_police\"\t,\"has_secondary_use_other\"]\n",
        "#train_values_subset = train_values[selected_features]\n",
        "#train_values_subset[\"floors/area_p\"] = train_values_subset[\"count_floors_pre_eq\"]/train_values_subset[\"area_percentage\"]\n",
        "#train_values_subset[\"floors/height_p\"] = train_values_subset[\"count_floors_pre_eq\"]/train_values_subset[\"height_percentage\"]\n",
        "\n",
        "#train_values_subset[\"doesnt_have_secondary_use\"] = 1-train_values_subset[\"has_secondary_use\"]\n",
        "#del train_values_subset[\"has_secondary_use\"]\n",
        "#train_values_subset[\"has_secondary_use_other\"]  = train_values_subset[\"has_secondary_use_other\"]  |  train_values_subset[\"has_secondary_use_rental\"] |  train_values_subset[\"has_secondary_use_use_police\"] |  train_values_subset[\"has_secondary_use_institution\"]|  train_values_subset[\"has_secondary_use_school\"]|  train_values_subset[\"has_secondary_use_industry\"]|  train_values_subset[\"has_secondary_use_health_post\"]|  train_values_subset[\"has_secondary_use_gov_office\"]\n",
        "#del train_values_subset[\"has_secondary_use_rental\"]\n",
        "#del train_values_subset[\"has_secondary_use_institution\"]\n",
        "#del train_values_subset[\"has_secondary_use_industry\"]\n",
        "#del train_values_subset[\"has_secondary_use_health_post\"]\n",
        "#del train_values_subset[\"has_secondary_use_gov_office\"]\n",
        "##del train_values_subset[\"has_secondary_use_use_police\"]\n",
        "#del train_values_subset[\"has_secondary_use_school\"]\n",
        "#train_values_subset = pd.get_dummies(train_values_subset)\n",
        "#train_values_subset.head()\n"
      ],
      "execution_count": null,
      "outputs": [
        {
          "output_type": "execute_result",
          "data": {
            "text/html": [
              "<div>\n",
              "<style scoped>\n",
              "    .dataframe tbody tr th:only-of-type {\n",
              "        vertical-align: middle;\n",
              "    }\n",
              "\n",
              "    .dataframe tbody tr th {\n",
              "        vertical-align: top;\n",
              "    }\n",
              "\n",
              "    .dataframe thead th {\n",
              "        text-align: right;\n",
              "    }\n",
              "</style>\n",
              "<table border=\"1\" class=\"dataframe\">\n",
              "  <thead>\n",
              "    <tr style=\"text-align: right;\">\n",
              "      <th></th>\n",
              "      <th>geo_level_1_id</th>\n",
              "      <th>geo_level_2_id</th>\n",
              "      <th>geo_level_3_id</th>\n",
              "      <th>count_floors_pre_eq</th>\n",
              "      <th>age</th>\n",
              "      <th>area_percentage</th>\n",
              "      <th>height_percentage</th>\n",
              "      <th>has_superstructure_adobe_mud</th>\n",
              "      <th>has_superstructure_mud_mortar_stone</th>\n",
              "      <th>has_superstructure_stone_flag</th>\n",
              "      <th>has_superstructure_cement_mortar_stone</th>\n",
              "      <th>has_superstructure_mud_mortar_brick</th>\n",
              "      <th>has_superstructure_cement_mortar_brick</th>\n",
              "      <th>has_superstructure_timber</th>\n",
              "      <th>has_superstructure_bamboo</th>\n",
              "      <th>has_superstructure_rc_non_engineered</th>\n",
              "      <th>has_superstructure_rc_engineered</th>\n",
              "      <th>has_superstructure_other</th>\n",
              "      <th>has_secondary_use_agriculture</th>\n",
              "      <th>has_secondary_use_hotel</th>\n",
              "      <th>has_secondary_use_other</th>\n",
              "      <th>damage_use</th>\n",
              "      <th>damage_geo_level</th>\n",
              "      <th>floors/area_p</th>\n",
              "      <th>floors/height_p</th>\n",
              "      <th>height_p/area_p</th>\n",
              "      <th>doesnt_have_secondary_use</th>\n",
              "      <th>land_surface_condition_n</th>\n",
              "      <th>land_surface_condition_o</th>\n",
              "      <th>land_surface_condition_t</th>\n",
              "      <th>foundation_type_h</th>\n",
              "      <th>foundation_type_i</th>\n",
              "      <th>foundation_type_r</th>\n",
              "      <th>foundation_type_u</th>\n",
              "      <th>foundation_type_w</th>\n",
              "      <th>roof_type_n</th>\n",
              "      <th>roof_type_q</th>\n",
              "      <th>roof_type_x</th>\n",
              "      <th>ground_floor_type_f</th>\n",
              "      <th>ground_floor_type_m</th>\n",
              "      <th>ground_floor_type_v</th>\n",
              "      <th>ground_floor_type_x</th>\n",
              "      <th>ground_floor_type_z</th>\n",
              "      <th>other_floor_type_j</th>\n",
              "      <th>other_floor_type_q</th>\n",
              "      <th>other_floor_type_s</th>\n",
              "      <th>other_floor_type_x</th>\n",
              "      <th>position_j</th>\n",
              "      <th>position_o</th>\n",
              "      <th>position_s</th>\n",
              "      <th>position_t</th>\n",
              "      <th>plan_configuration_a</th>\n",
              "      <th>plan_configuration_c</th>\n",
              "      <th>plan_configuration_d</th>\n",
              "      <th>plan_configuration_f</th>\n",
              "      <th>plan_configuration_m</th>\n",
              "      <th>plan_configuration_n</th>\n",
              "      <th>plan_configuration_o</th>\n",
              "      <th>plan_configuration_q</th>\n",
              "      <th>plan_configuration_s</th>\n",
              "      <th>plan_configuration_u</th>\n",
              "    </tr>\n",
              "    <tr>\n",
              "      <th>building_id</th>\n",
              "      <th></th>\n",
              "      <th></th>\n",
              "      <th></th>\n",
              "      <th></th>\n",
              "      <th></th>\n",
              "      <th></th>\n",
              "      <th></th>\n",
              "      <th></th>\n",
              "      <th></th>\n",
              "      <th></th>\n",
              "      <th></th>\n",
              "      <th></th>\n",
              "      <th></th>\n",
              "      <th></th>\n",
              "      <th></th>\n",
              "      <th></th>\n",
              "      <th></th>\n",
              "      <th></th>\n",
              "      <th></th>\n",
              "      <th></th>\n",
              "      <th></th>\n",
              "      <th></th>\n",
              "      <th></th>\n",
              "      <th></th>\n",
              "      <th></th>\n",
              "      <th></th>\n",
              "      <th></th>\n",
              "      <th></th>\n",
              "      <th></th>\n",
              "      <th></th>\n",
              "      <th></th>\n",
              "      <th></th>\n",
              "      <th></th>\n",
              "      <th></th>\n",
              "      <th></th>\n",
              "      <th></th>\n",
              "      <th></th>\n",
              "      <th></th>\n",
              "      <th></th>\n",
              "      <th></th>\n",
              "      <th></th>\n",
              "      <th></th>\n",
              "      <th></th>\n",
              "      <th></th>\n",
              "      <th></th>\n",
              "      <th></th>\n",
              "      <th></th>\n",
              "      <th></th>\n",
              "      <th></th>\n",
              "      <th></th>\n",
              "      <th></th>\n",
              "      <th></th>\n",
              "      <th></th>\n",
              "      <th></th>\n",
              "      <th></th>\n",
              "      <th></th>\n",
              "      <th></th>\n",
              "      <th></th>\n",
              "      <th></th>\n",
              "      <th></th>\n",
              "      <th></th>\n",
              "    </tr>\n",
              "  </thead>\n",
              "  <tbody>\n",
              "    <tr>\n",
              "      <th>802906</th>\n",
              "      <td>6</td>\n",
              "      <td>487</td>\n",
              "      <td>12198</td>\n",
              "      <td>2</td>\n",
              "      <td>30</td>\n",
              "      <td>6</td>\n",
              "      <td>5</td>\n",
              "      <td>1</td>\n",
              "      <td>1</td>\n",
              "      <td>0</td>\n",
              "      <td>0</td>\n",
              "      <td>0</td>\n",
              "      <td>0</td>\n",
              "      <td>0</td>\n",
              "      <td>0</td>\n",
              "      <td>0</td>\n",
              "      <td>0</td>\n",
              "      <td>0</td>\n",
              "      <td>0</td>\n",
              "      <td>0</td>\n",
              "      <td>0</td>\n",
              "      <td>2</td>\n",
              "      <td>3</td>\n",
              "      <td>0.33</td>\n",
              "      <td>0.40</td>\n",
              "      <td>0.83</td>\n",
              "      <td>1</td>\n",
              "      <td>0</td>\n",
              "      <td>0</td>\n",
              "      <td>1</td>\n",
              "      <td>0</td>\n",
              "      <td>0</td>\n",
              "      <td>1</td>\n",
              "      <td>0</td>\n",
              "      <td>0</td>\n",
              "      <td>1</td>\n",
              "      <td>0</td>\n",
              "      <td>0</td>\n",
              "      <td>1</td>\n",
              "      <td>0</td>\n",
              "      <td>0</td>\n",
              "      <td>0</td>\n",
              "      <td>0</td>\n",
              "      <td>0</td>\n",
              "      <td>1</td>\n",
              "      <td>0</td>\n",
              "      <td>0</td>\n",
              "      <td>0</td>\n",
              "      <td>0</td>\n",
              "      <td>0</td>\n",
              "      <td>1</td>\n",
              "      <td>0</td>\n",
              "      <td>0</td>\n",
              "      <td>1</td>\n",
              "      <td>0</td>\n",
              "      <td>0</td>\n",
              "      <td>0</td>\n",
              "      <td>0</td>\n",
              "      <td>0</td>\n",
              "      <td>0</td>\n",
              "      <td>0</td>\n",
              "    </tr>\n",
              "    <tr>\n",
              "      <th>28830</th>\n",
              "      <td>8</td>\n",
              "      <td>900</td>\n",
              "      <td>2812</td>\n",
              "      <td>2</td>\n",
              "      <td>10</td>\n",
              "      <td>8</td>\n",
              "      <td>7</td>\n",
              "      <td>0</td>\n",
              "      <td>1</td>\n",
              "      <td>0</td>\n",
              "      <td>0</td>\n",
              "      <td>0</td>\n",
              "      <td>0</td>\n",
              "      <td>0</td>\n",
              "      <td>0</td>\n",
              "      <td>0</td>\n",
              "      <td>0</td>\n",
              "      <td>0</td>\n",
              "      <td>0</td>\n",
              "      <td>0</td>\n",
              "      <td>0</td>\n",
              "      <td>2</td>\n",
              "      <td>2</td>\n",
              "      <td>0.25</td>\n",
              "      <td>0.29</td>\n",
              "      <td>0.88</td>\n",
              "      <td>1</td>\n",
              "      <td>0</td>\n",
              "      <td>1</td>\n",
              "      <td>0</td>\n",
              "      <td>0</td>\n",
              "      <td>0</td>\n",
              "      <td>1</td>\n",
              "      <td>0</td>\n",
              "      <td>0</td>\n",
              "      <td>1</td>\n",
              "      <td>0</td>\n",
              "      <td>0</td>\n",
              "      <td>0</td>\n",
              "      <td>0</td>\n",
              "      <td>0</td>\n",
              "      <td>1</td>\n",
              "      <td>0</td>\n",
              "      <td>0</td>\n",
              "      <td>1</td>\n",
              "      <td>0</td>\n",
              "      <td>0</td>\n",
              "      <td>0</td>\n",
              "      <td>0</td>\n",
              "      <td>1</td>\n",
              "      <td>0</td>\n",
              "      <td>0</td>\n",
              "      <td>0</td>\n",
              "      <td>1</td>\n",
              "      <td>0</td>\n",
              "      <td>0</td>\n",
              "      <td>0</td>\n",
              "      <td>0</td>\n",
              "      <td>0</td>\n",
              "      <td>0</td>\n",
              "      <td>0</td>\n",
              "    </tr>\n",
              "    <tr>\n",
              "      <th>94947</th>\n",
              "      <td>21</td>\n",
              "      <td>363</td>\n",
              "      <td>8973</td>\n",
              "      <td>2</td>\n",
              "      <td>10</td>\n",
              "      <td>5</td>\n",
              "      <td>5</td>\n",
              "      <td>0</td>\n",
              "      <td>1</td>\n",
              "      <td>0</td>\n",
              "      <td>0</td>\n",
              "      <td>0</td>\n",
              "      <td>0</td>\n",
              "      <td>0</td>\n",
              "      <td>0</td>\n",
              "      <td>0</td>\n",
              "      <td>0</td>\n",
              "      <td>0</td>\n",
              "      <td>0</td>\n",
              "      <td>0</td>\n",
              "      <td>0</td>\n",
              "      <td>2</td>\n",
              "      <td>3</td>\n",
              "      <td>0.40</td>\n",
              "      <td>0.40</td>\n",
              "      <td>1.00</td>\n",
              "      <td>1</td>\n",
              "      <td>0</td>\n",
              "      <td>0</td>\n",
              "      <td>1</td>\n",
              "      <td>0</td>\n",
              "      <td>0</td>\n",
              "      <td>1</td>\n",
              "      <td>0</td>\n",
              "      <td>0</td>\n",
              "      <td>1</td>\n",
              "      <td>0</td>\n",
              "      <td>0</td>\n",
              "      <td>1</td>\n",
              "      <td>0</td>\n",
              "      <td>0</td>\n",
              "      <td>0</td>\n",
              "      <td>0</td>\n",
              "      <td>0</td>\n",
              "      <td>0</td>\n",
              "      <td>0</td>\n",
              "      <td>1</td>\n",
              "      <td>0</td>\n",
              "      <td>0</td>\n",
              "      <td>0</td>\n",
              "      <td>1</td>\n",
              "      <td>0</td>\n",
              "      <td>0</td>\n",
              "      <td>1</td>\n",
              "      <td>0</td>\n",
              "      <td>0</td>\n",
              "      <td>0</td>\n",
              "      <td>0</td>\n",
              "      <td>0</td>\n",
              "      <td>0</td>\n",
              "      <td>0</td>\n",
              "    </tr>\n",
              "    <tr>\n",
              "      <th>590882</th>\n",
              "      <td>22</td>\n",
              "      <td>418</td>\n",
              "      <td>10694</td>\n",
              "      <td>2</td>\n",
              "      <td>10</td>\n",
              "      <td>6</td>\n",
              "      <td>5</td>\n",
              "      <td>0</td>\n",
              "      <td>1</td>\n",
              "      <td>0</td>\n",
              "      <td>0</td>\n",
              "      <td>0</td>\n",
              "      <td>0</td>\n",
              "      <td>1</td>\n",
              "      <td>1</td>\n",
              "      <td>0</td>\n",
              "      <td>0</td>\n",
              "      <td>0</td>\n",
              "      <td>0</td>\n",
              "      <td>0</td>\n",
              "      <td>0</td>\n",
              "      <td>2</td>\n",
              "      <td>2</td>\n",
              "      <td>0.33</td>\n",
              "      <td>0.40</td>\n",
              "      <td>0.83</td>\n",
              "      <td>1</td>\n",
              "      <td>0</td>\n",
              "      <td>0</td>\n",
              "      <td>1</td>\n",
              "      <td>0</td>\n",
              "      <td>0</td>\n",
              "      <td>1</td>\n",
              "      <td>0</td>\n",
              "      <td>0</td>\n",
              "      <td>1</td>\n",
              "      <td>0</td>\n",
              "      <td>0</td>\n",
              "      <td>1</td>\n",
              "      <td>0</td>\n",
              "      <td>0</td>\n",
              "      <td>0</td>\n",
              "      <td>0</td>\n",
              "      <td>0</td>\n",
              "      <td>0</td>\n",
              "      <td>0</td>\n",
              "      <td>1</td>\n",
              "      <td>0</td>\n",
              "      <td>0</td>\n",
              "      <td>1</td>\n",
              "      <td>0</td>\n",
              "      <td>0</td>\n",
              "      <td>0</td>\n",
              "      <td>1</td>\n",
              "      <td>0</td>\n",
              "      <td>0</td>\n",
              "      <td>0</td>\n",
              "      <td>0</td>\n",
              "      <td>0</td>\n",
              "      <td>0</td>\n",
              "      <td>0</td>\n",
              "    </tr>\n",
              "    <tr>\n",
              "      <th>201944</th>\n",
              "      <td>11</td>\n",
              "      <td>131</td>\n",
              "      <td>1488</td>\n",
              "      <td>3</td>\n",
              "      <td>30</td>\n",
              "      <td>8</td>\n",
              "      <td>9</td>\n",
              "      <td>1</td>\n",
              "      <td>0</td>\n",
              "      <td>0</td>\n",
              "      <td>0</td>\n",
              "      <td>0</td>\n",
              "      <td>0</td>\n",
              "      <td>0</td>\n",
              "      <td>0</td>\n",
              "      <td>0</td>\n",
              "      <td>0</td>\n",
              "      <td>0</td>\n",
              "      <td>0</td>\n",
              "      <td>0</td>\n",
              "      <td>0</td>\n",
              "      <td>2</td>\n",
              "      <td>2</td>\n",
              "      <td>0.38</td>\n",
              "      <td>0.33</td>\n",
              "      <td>1.12</td>\n",
              "      <td>1</td>\n",
              "      <td>0</td>\n",
              "      <td>0</td>\n",
              "      <td>1</td>\n",
              "      <td>0</td>\n",
              "      <td>0</td>\n",
              "      <td>1</td>\n",
              "      <td>0</td>\n",
              "      <td>0</td>\n",
              "      <td>1</td>\n",
              "      <td>0</td>\n",
              "      <td>0</td>\n",
              "      <td>1</td>\n",
              "      <td>0</td>\n",
              "      <td>0</td>\n",
              "      <td>0</td>\n",
              "      <td>0</td>\n",
              "      <td>0</td>\n",
              "      <td>0</td>\n",
              "      <td>0</td>\n",
              "      <td>1</td>\n",
              "      <td>0</td>\n",
              "      <td>0</td>\n",
              "      <td>1</td>\n",
              "      <td>0</td>\n",
              "      <td>0</td>\n",
              "      <td>0</td>\n",
              "      <td>1</td>\n",
              "      <td>0</td>\n",
              "      <td>0</td>\n",
              "      <td>0</td>\n",
              "      <td>0</td>\n",
              "      <td>0</td>\n",
              "      <td>0</td>\n",
              "      <td>0</td>\n",
              "    </tr>\n",
              "  </tbody>\n",
              "</table>\n",
              "</div>"
            ],
            "text/plain": [
              "             geo_level_1_id  ...  plan_configuration_u\n",
              "building_id                  ...                      \n",
              "802906                    6  ...                     0\n",
              "28830                     8  ...                     0\n",
              "94947                    21  ...                     0\n",
              "590882                   22  ...                     0\n",
              "201944                   11  ...                     0\n",
              "\n",
              "[5 rows x 61 columns]"
            ]
          },
          "metadata": {
            "tags": []
          },
          "execution_count": 15
        }
      ]
    },
    {
      "cell_type": "code",
      "metadata": {
        "id": "JJx7U1v1eo_Q"
      },
      "source": [
        "from sklearn.model_selection import train_test_split\n",
        "X_train,X_test,y_train,y_test = train_test_split(train_values_subset,train_labels,test_size=0.2,train_size=0.8)"
      ],
      "execution_count": null,
      "outputs": []
    },
    {
      "cell_type": "code",
      "metadata": {
        "colab": {
          "base_uri": "https://localhost:8080/"
        },
        "id": "lRxCmXLZes8J",
        "outputId": "d995b7a7-0637-49b8-97c1-755b1edbb713"
      },
      "source": [
        "HGS.fit(X_train,y_train)"
      ],
      "execution_count": null,
      "outputs": [
        {
          "output_type": "execute_result",
          "data": {
            "text/plain": [
              "HalvingGridSearchCV(estimator=XGBClassifier(objetive='multi:softprob',\n",
              "                                            seed=123),\n",
              "                    n_jobs=-1,\n",
              "                    param_grid={'base_score': [0.5], 'colsample_bytree': [0.6],\n",
              "                                'learning_rate': [0.1], 'max_delta_step': [1],\n",
              "                                'max_depth': [13], 'n_estimators': [150],\n",
              "                                'subsample': [0.8]},\n",
              "                    refit=<function _refit_callable at 0x7f504ae5d5f0>,\n",
              "                    scoring='f1_micro')"
            ]
          },
          "metadata": {
            "tags": []
          },
          "execution_count": 17
        }
      ]
    },
    {
      "cell_type": "code",
      "metadata": {
        "colab": {
          "base_uri": "https://localhost:8080/"
        },
        "id": "Xzwp35Er1aUc",
        "outputId": "ed107126-8eaf-4e71-efd1-ffcb6c0352cc"
      },
      "source": [
        "HGS.best_params_"
      ],
      "execution_count": null,
      "outputs": [
        {
          "output_type": "execute_result",
          "data": {
            "text/plain": [
              "{'base_score': 0.5,\n",
              " 'colsample_bytree': 0.6,\n",
              " 'learning_rate': 0.1,\n",
              " 'max_delta_step': 1,\n",
              " 'max_depth': 13,\n",
              " 'n_estimators': 150,\n",
              " 'subsample': 0.8}"
            ]
          },
          "metadata": {
            "tags": []
          },
          "execution_count": 18
        }
      ]
    },
    {
      "cell_type": "code",
      "metadata": {
        "id": "Ng79_v4_fBaC"
      },
      "source": [
        "preds = HGS.predict(X_test)"
      ],
      "execution_count": null,
      "outputs": []
    },
    {
      "cell_type": "code",
      "metadata": {
        "colab": {
          "base_uri": "https://localhost:8080/"
        },
        "id": "7MQ2S0yCfDps",
        "outputId": "ff55447c-b78c-48e0-d406-078e723ddc59"
      },
      "source": [
        "from sklearn.metrics import f1_score\n",
        "\n",
        "\n",
        "f1_score(y_test, preds, average='micro')\n"
      ],
      "execution_count": null,
      "outputs": [
        {
          "output_type": "execute_result",
          "data": {
            "text/plain": [
              "0.7474722280846492"
            ]
          },
          "metadata": {
            "tags": []
          },
          "execution_count": 34
        }
      ]
    },
    {
      "cell_type": "code",
      "metadata": {
        "id": "n38ubp3-l-Gq"
      },
      "source": [
        "\n",
        "test_values_subset = test_values[selected_features]\n",
        "test_uses = test_values[[\"has_secondary_use_agriculture\"\t,\"has_secondary_use_hotel\",\t\"has_secondary_use_rental\",\t\"has_secondary_use_institution\"\t,\"has_secondary_use_school\",\t\"has_secondary_use_industry\"\t,\"has_secondary_use_health_post\"\t,\"has_secondary_use_gov_office\",\t\"has_secondary_use_use_police\"\t,\"has_secondary_use_other\"]]\n",
        "\n",
        "test_values_subset[\"damage_use\"]= HGS_xgb_clas_use.predict(test_uses)\n",
        "test_values_subset[\"damage_geo_level\"] = HGS_xgb_clas.predict(test_values[[\"geo_level_1_id\",\"geo_level_2_id\",\"geo_level_3_id\"]])\n",
        "\n",
        "\n",
        "\n",
        "\n",
        "test_values_subset[\"age\"] = winsorize(test_values_subset[\"age\"],(0, 0.05))\n",
        "test_values_subset[\"area_percentage\"] = winsorize(test_values_subset[\"area_percentage\"],(0, 0.055))\n",
        "test_values_subset[\"height_percentage\"] = winsorize(test_values_subset[\"height_percentage\"],(0, 0.04))\n",
        "\n",
        "\n",
        "test_values_subset[\"floors/area_p\"] = test_values_subset[\"count_floors_pre_eq\"]/test_values_subset[\"area_percentage\"]\n",
        "test_values_subset[\"floors/height_p\"] = test_values_subset[\"count_floors_pre_eq\"]/test_values_subset[\"height_percentage\"]\n",
        "test_values_subset[\"height_p/area_p\"] = test_values_subset[\"height_percentage\"]/test_values_subset[\"area_percentage\"]\n",
        "\n",
        "\n",
        "test_values_subset[\"doesnt_have_secondary_use\"] = 1-test_values_subset[\"has_secondary_use\"]\n",
        "del test_values_subset[\"has_secondary_use\"]\n",
        "test_values_subset[\"has_secondary_use_other\"]  = test_values_subset[\"has_secondary_use_other\"]  |  test_values_subset[\"has_secondary_use_rental\"] |  test_values_subset[\"has_secondary_use_use_police\"] |  test_values_subset[\"has_secondary_use_institution\"]|  test_values_subset[\"has_secondary_use_school\"]|  test_values_subset[\"has_secondary_use_industry\"]|  test_values_subset[\"has_secondary_use_health_post\"]|  test_values_subset[\"has_secondary_use_gov_office\"]\n",
        "del test_values_subset[\"has_secondary_use_rental\"]\n",
        "del test_values_subset[\"has_secondary_use_institution\"]\n",
        "del test_values_subset[\"has_secondary_use_industry\"]\n",
        "del test_values_subset[\"has_secondary_use_health_post\"]\n",
        "del test_values_subset[\"has_secondary_use_gov_office\"]\n",
        "del test_values_subset[\"has_secondary_use_use_police\"]\n",
        "del test_values_subset[\"has_secondary_use_school\"]\n",
        "\n",
        "test_values_subset = pd.get_dummies(test_values_subset)\n",
        "\n",
        "\n",
        "predictions = HGS.predict(test_values_subset)"
      ],
      "execution_count": null,
      "outputs": []
    },
    {
      "cell_type": "code",
      "metadata": {
        "id": "vPcvgzVsmRMx"
      },
      "source": [
        "submission_format = pd.read_csv('submission_format.csv', encoding='latin1',sep=',', index_col='building_id')\n",
        "my_submission = pd.DataFrame(data=predictions,\n",
        "                             columns=submission_format.columns,\n",
        "                             index=submission_format.index)"
      ],
      "execution_count": null,
      "outputs": []
    },
    {
      "cell_type": "code",
      "metadata": {
        "colab": {
          "base_uri": "https://localhost:8080/",
          "height": 235
        },
        "id": "2dBm_sEcmXNr",
        "outputId": "a1996a88-2212-4188-a03a-d26c3cd65fc5"
      },
      "source": [
        "my_submission.head()"
      ],
      "execution_count": null,
      "outputs": [
        {
          "output_type": "execute_result",
          "data": {
            "text/html": [
              "<div>\n",
              "<style scoped>\n",
              "    .dataframe tbody tr th:only-of-type {\n",
              "        vertical-align: middle;\n",
              "    }\n",
              "\n",
              "    .dataframe tbody tr th {\n",
              "        vertical-align: top;\n",
              "    }\n",
              "\n",
              "    .dataframe thead th {\n",
              "        text-align: right;\n",
              "    }\n",
              "</style>\n",
              "<table border=\"1\" class=\"dataframe\">\n",
              "  <thead>\n",
              "    <tr style=\"text-align: right;\">\n",
              "      <th></th>\n",
              "      <th>damage_grade</th>\n",
              "    </tr>\n",
              "    <tr>\n",
              "      <th>building_id</th>\n",
              "      <th></th>\n",
              "    </tr>\n",
              "  </thead>\n",
              "  <tbody>\n",
              "    <tr>\n",
              "      <th>300051</th>\n",
              "      <td>3</td>\n",
              "    </tr>\n",
              "    <tr>\n",
              "      <th>99355</th>\n",
              "      <td>2</td>\n",
              "    </tr>\n",
              "    <tr>\n",
              "      <th>890251</th>\n",
              "      <td>2</td>\n",
              "    </tr>\n",
              "    <tr>\n",
              "      <th>745817</th>\n",
              "      <td>1</td>\n",
              "    </tr>\n",
              "    <tr>\n",
              "      <th>421793</th>\n",
              "      <td>3</td>\n",
              "    </tr>\n",
              "  </tbody>\n",
              "</table>\n",
              "</div>"
            ],
            "text/plain": [
              "             damage_grade\n",
              "building_id              \n",
              "300051                  3\n",
              "99355                   2\n",
              "890251                  2\n",
              "745817                  1\n",
              "421793                  3"
            ]
          },
          "metadata": {
            "tags": []
          },
          "execution_count": 41
        }
      ]
    },
    {
      "cell_type": "code",
      "metadata": {
        "colab": {
          "base_uri": "https://localhost:8080/"
        },
        "id": "KMgYa4NXmXNs",
        "outputId": "f15595a5-f660-40ed-a299-d303a50defb2"
      },
      "source": [
        "my_submission.to_csv('submission.csv')\n",
        "!head submission.csv"
      ],
      "execution_count": null,
      "outputs": [
        {
          "output_type": "stream",
          "text": [
            "building_id,damage_grade\n",
            "300051,3\n",
            "99355,2\n",
            "890251,2\n",
            "745817,1\n",
            "421793,3\n",
            "871976,2\n",
            "691228,1\n",
            "896100,3\n",
            "343471,2\n"
          ],
          "name": "stdout"
        }
      ]
    },
    {
      "cell_type": "code",
      "metadata": {
        "colab": {
          "base_uri": "https://localhost:8080/",
          "height": 17
        },
        "id": "fB2p38Rumr_c",
        "outputId": "25176019-f6aa-4dd5-fd52-639ca6456f4b"
      },
      "source": [
        "from google.colab import files\n",
        "files.download(\"submission.csv\")"
      ],
      "execution_count": null,
      "outputs": [
        {
          "output_type": "display_data",
          "data": {
            "application/javascript": [
              "\n",
              "    async function download(id, filename, size) {\n",
              "      if (!google.colab.kernel.accessAllowed) {\n",
              "        return;\n",
              "      }\n",
              "      const div = document.createElement('div');\n",
              "      const label = document.createElement('label');\n",
              "      label.textContent = `Downloading \"${filename}\": `;\n",
              "      div.appendChild(label);\n",
              "      const progress = document.createElement('progress');\n",
              "      progress.max = size;\n",
              "      div.appendChild(progress);\n",
              "      document.body.appendChild(div);\n",
              "\n",
              "      const buffers = [];\n",
              "      let downloaded = 0;\n",
              "\n",
              "      const channel = await google.colab.kernel.comms.open(id);\n",
              "      // Send a message to notify the kernel that we're ready.\n",
              "      channel.send({})\n",
              "\n",
              "      for await (const message of channel.messages) {\n",
              "        // Send a message to notify the kernel that we're ready.\n",
              "        channel.send({})\n",
              "        if (message.buffers) {\n",
              "          for (const buffer of message.buffers) {\n",
              "            buffers.push(buffer);\n",
              "            downloaded += buffer.byteLength;\n",
              "            progress.value = downloaded;\n",
              "          }\n",
              "        }\n",
              "      }\n",
              "      const blob = new Blob(buffers, {type: 'application/binary'});\n",
              "      const a = document.createElement('a');\n",
              "      a.href = window.URL.createObjectURL(blob);\n",
              "      a.download = filename;\n",
              "      div.appendChild(a);\n",
              "      a.click();\n",
              "      div.remove();\n",
              "    }\n",
              "  "
            ],
            "text/plain": [
              "<IPython.core.display.Javascript object>"
            ]
          },
          "metadata": {
            "tags": []
          }
        },
        {
          "output_type": "display_data",
          "data": {
            "application/javascript": [
              "download(\"download_ace3a1ed-e394-4f37-8dc4-2f2998b656fe\", \"submission.csv\", 777012)"
            ],
            "text/plain": [
              "<IPython.core.display.Javascript object>"
            ]
          },
          "metadata": {
            "tags": []
          }
        }
      ]
    },
    {
      "cell_type": "markdown",
      "metadata": {
        "id": "sCzqfKxBdkJS"
      },
      "source": [
        "#XGB Softmax Sin geo id, F1 baja a 0.61\n",
        "\n"
      ]
    },
    {
      "cell_type": "code",
      "metadata": {
        "id": "7EQFQq6qdkJV"
      },
      "source": [
        "#instancio el regresor\n",
        "from sklearn.experimental import enable_halving_search_cv\n",
        "from sklearn.model_selection import HalvingGridSearchCV\n",
        "\n",
        "xgb_reg = xgb.XGBClassifier(objetive=\"multi:softmax\",seed = 123)"
      ],
      "execution_count": null,
      "outputs": []
    },
    {
      "cell_type": "code",
      "metadata": {
        "id": "bpYaXWkadkJV"
      },
      "source": [
        "parameters = {'base_score':[0.5] ,\n",
        " 'colsample_bytree': [0.6],\n",
        " 'learning_rate': [0.1],\n",
        " 'max_delta_step': [1],\n",
        " 'max_depth': [13,20,25],\n",
        " 'n_estimators': [120],\n",
        " 'subsample': [0.8]}\n",
        "\n"
      ],
      "execution_count": null,
      "outputs": []
    },
    {
      "cell_type": "code",
      "metadata": {
        "id": "XBvG0xLPdkJV"
      },
      "source": [
        "HGS = HalvingGridSearchCV(xgb_reg, parameters, scoring = 'f1_micro', n_jobs=-1, cv=5)"
      ],
      "execution_count": null,
      "outputs": []
    },
    {
      "cell_type": "code",
      "metadata": {
        "colab": {
          "base_uri": "https://localhost:8080/",
          "height": 245
        },
        "id": "p9BJt9ezdkJW",
        "outputId": "c858a8cb-b368-46d7-e94f-2d9f9227e68b"
      },
      "source": [
        "from scipy.stats.mstats import winsorize\n",
        "\n",
        "selected_features = [\t\"count_floors_pre_eq\"\t,\"age\"\t,\"area_percentage\"\t,\"height_percentage\",\t\"has_superstructure_adobe_mud\"\t,\"has_superstructure_mud_mortar_stone\",\t\"has_superstructure_stone_flag\"\t,\"has_superstructure_cement_mortar_stone\",\t\"has_superstructure_mud_mortar_brick\",\t\"has_superstructure_cement_mortar_brick\",\t\"has_superstructure_timber\"\t,\"has_superstructure_bamboo\"\t,\"has_superstructure_rc_non_engineered\",\t\"has_superstructure_rc_engineered\"\t,\"has_superstructure_other\",\"land_surface_condition\",\t\"foundation_type\",\t\"roof_type\",\t\"ground_floor_type\",\t\"other_floor_type\",\t\"position\"\t,\"plan_configuration\",\"has_secondary_use\",\t\"has_secondary_use_agriculture\"\t,\"has_secondary_use_hotel\",\t\"has_secondary_use_rental\",\t\"has_secondary_use_institution\"\t,\"has_secondary_use_school\",\t\"has_secondary_use_industry\"\t,\"has_secondary_use_health_post\"\t,\"has_secondary_use_gov_office\",\t\"has_secondary_use_use_police\"\t,\"has_secondary_use_other\"]\n",
        "train_values_subset = train_values[selected_features]\n",
        "\n",
        "train_values_subset[\"age\"] = winsorize(train_values_subset[\"age\"],(0, 0.05))\n",
        "train_values_subset[\"area_percentage\"] = winsorize(train_values_subset[\"area_percentage\"],(0, 0.055))\n",
        "train_values_subset[\"height_percentage\"] = winsorize(train_values_subset[\"height_percentage\"],(0, 0.04))\n",
        "\n",
        "\n",
        "\n",
        "train_values_subset[\"floors/area_p\"] = train_values_subset[\"count_floors_pre_eq\"]/train_values_subset[\"area_percentage\"]\n",
        "train_values_subset[\"floors/height_p\"] = train_values_subset[\"count_floors_pre_eq\"]/train_values_subset[\"height_percentage\"]\n",
        "train_values_subset[\"height_p/area_p\"] = train_values_subset[\"height_percentage\"]/train_values_subset[\"area_percentage\"]\n",
        "train_values_subset[\"doesnt_have_secondary_use\"] = 1-train_values_subset[\"has_secondary_use\"]\n",
        "del train_values_subset[\"has_secondary_use\"]\n",
        "train_values_subset[\"has_secondary_use_other\"]  = train_values_subset[\"has_secondary_use_other\"]  |  train_values_subset[\"has_secondary_use_rental\"] |  train_values_subset[\"has_secondary_use_use_police\"] |  train_values_subset[\"has_secondary_use_institution\"]|  train_values_subset[\"has_secondary_use_school\"]|  train_values_subset[\"has_secondary_use_industry\"]|  train_values_subset[\"has_secondary_use_health_post\"]|  train_values_subset[\"has_secondary_use_gov_office\"]\n",
        "del train_values_subset[\"has_secondary_use_rental\"]\n",
        "del train_values_subset[\"has_secondary_use_institution\"]\n",
        "del train_values_subset[\"has_secondary_use_industry\"]\n",
        "del train_values_subset[\"has_secondary_use_health_post\"]\n",
        "del train_values_subset[\"has_secondary_use_gov_office\"]\n",
        "del train_values_subset[\"has_secondary_use_use_police\"]\n",
        "del train_values_subset[\"has_secondary_use_school\"]\n",
        "\n",
        "train_values_subset = pd.get_dummies(train_values_subset)\n",
        "train_values_subset.head()\n",
        "\n"
      ],
      "execution_count": null,
      "outputs": [
        {
          "output_type": "execute_result",
          "data": {
            "text/html": [
              "<div>\n",
              "<style scoped>\n",
              "    .dataframe tbody tr th:only-of-type {\n",
              "        vertical-align: middle;\n",
              "    }\n",
              "\n",
              "    .dataframe tbody tr th {\n",
              "        vertical-align: top;\n",
              "    }\n",
              "\n",
              "    .dataframe thead th {\n",
              "        text-align: right;\n",
              "    }\n",
              "</style>\n",
              "<table border=\"1\" class=\"dataframe\">\n",
              "  <thead>\n",
              "    <tr style=\"text-align: right;\">\n",
              "      <th></th>\n",
              "      <th>count_floors_pre_eq</th>\n",
              "      <th>age</th>\n",
              "      <th>area_percentage</th>\n",
              "      <th>height_percentage</th>\n",
              "      <th>has_superstructure_adobe_mud</th>\n",
              "      <th>has_superstructure_mud_mortar_stone</th>\n",
              "      <th>has_superstructure_stone_flag</th>\n",
              "      <th>has_superstructure_cement_mortar_stone</th>\n",
              "      <th>has_superstructure_mud_mortar_brick</th>\n",
              "      <th>has_superstructure_cement_mortar_brick</th>\n",
              "      <th>has_superstructure_timber</th>\n",
              "      <th>has_superstructure_bamboo</th>\n",
              "      <th>has_superstructure_rc_non_engineered</th>\n",
              "      <th>has_superstructure_rc_engineered</th>\n",
              "      <th>has_superstructure_other</th>\n",
              "      <th>has_secondary_use_agriculture</th>\n",
              "      <th>has_secondary_use_hotel</th>\n",
              "      <th>has_secondary_use_other</th>\n",
              "      <th>floors/area_p</th>\n",
              "      <th>floors/height_p</th>\n",
              "      <th>height_p/area_p</th>\n",
              "      <th>doesnt_have_secondary_use</th>\n",
              "      <th>land_surface_condition_n</th>\n",
              "      <th>land_surface_condition_o</th>\n",
              "      <th>land_surface_condition_t</th>\n",
              "      <th>foundation_type_h</th>\n",
              "      <th>foundation_type_i</th>\n",
              "      <th>foundation_type_r</th>\n",
              "      <th>foundation_type_u</th>\n",
              "      <th>foundation_type_w</th>\n",
              "      <th>roof_type_n</th>\n",
              "      <th>roof_type_q</th>\n",
              "      <th>roof_type_x</th>\n",
              "      <th>ground_floor_type_f</th>\n",
              "      <th>ground_floor_type_m</th>\n",
              "      <th>ground_floor_type_v</th>\n",
              "      <th>ground_floor_type_x</th>\n",
              "      <th>ground_floor_type_z</th>\n",
              "      <th>other_floor_type_j</th>\n",
              "      <th>other_floor_type_q</th>\n",
              "      <th>other_floor_type_s</th>\n",
              "      <th>other_floor_type_x</th>\n",
              "      <th>position_j</th>\n",
              "      <th>position_o</th>\n",
              "      <th>position_s</th>\n",
              "      <th>position_t</th>\n",
              "      <th>plan_configuration_a</th>\n",
              "      <th>plan_configuration_c</th>\n",
              "      <th>plan_configuration_d</th>\n",
              "      <th>plan_configuration_f</th>\n",
              "      <th>plan_configuration_m</th>\n",
              "      <th>plan_configuration_n</th>\n",
              "      <th>plan_configuration_o</th>\n",
              "      <th>plan_configuration_q</th>\n",
              "      <th>plan_configuration_s</th>\n",
              "      <th>plan_configuration_u</th>\n",
              "    </tr>\n",
              "    <tr>\n",
              "      <th>building_id</th>\n",
              "      <th></th>\n",
              "      <th></th>\n",
              "      <th></th>\n",
              "      <th></th>\n",
              "      <th></th>\n",
              "      <th></th>\n",
              "      <th></th>\n",
              "      <th></th>\n",
              "      <th></th>\n",
              "      <th></th>\n",
              "      <th></th>\n",
              "      <th></th>\n",
              "      <th></th>\n",
              "      <th></th>\n",
              "      <th></th>\n",
              "      <th></th>\n",
              "      <th></th>\n",
              "      <th></th>\n",
              "      <th></th>\n",
              "      <th></th>\n",
              "      <th></th>\n",
              "      <th></th>\n",
              "      <th></th>\n",
              "      <th></th>\n",
              "      <th></th>\n",
              "      <th></th>\n",
              "      <th></th>\n",
              "      <th></th>\n",
              "      <th></th>\n",
              "      <th></th>\n",
              "      <th></th>\n",
              "      <th></th>\n",
              "      <th></th>\n",
              "      <th></th>\n",
              "      <th></th>\n",
              "      <th></th>\n",
              "      <th></th>\n",
              "      <th></th>\n",
              "      <th></th>\n",
              "      <th></th>\n",
              "      <th></th>\n",
              "      <th></th>\n",
              "      <th></th>\n",
              "      <th></th>\n",
              "      <th></th>\n",
              "      <th></th>\n",
              "      <th></th>\n",
              "      <th></th>\n",
              "      <th></th>\n",
              "      <th></th>\n",
              "      <th></th>\n",
              "      <th></th>\n",
              "      <th></th>\n",
              "      <th></th>\n",
              "      <th></th>\n",
              "      <th></th>\n",
              "    </tr>\n",
              "  </thead>\n",
              "  <tbody>\n",
              "    <tr>\n",
              "      <th>802906</th>\n",
              "      <td>2</td>\n",
              "      <td>30</td>\n",
              "      <td>6</td>\n",
              "      <td>5</td>\n",
              "      <td>1</td>\n",
              "      <td>1</td>\n",
              "      <td>0</td>\n",
              "      <td>0</td>\n",
              "      <td>0</td>\n",
              "      <td>0</td>\n",
              "      <td>0</td>\n",
              "      <td>0</td>\n",
              "      <td>0</td>\n",
              "      <td>0</td>\n",
              "      <td>0</td>\n",
              "      <td>0</td>\n",
              "      <td>0</td>\n",
              "      <td>0</td>\n",
              "      <td>0.33</td>\n",
              "      <td>0.40</td>\n",
              "      <td>0.83</td>\n",
              "      <td>1</td>\n",
              "      <td>0</td>\n",
              "      <td>0</td>\n",
              "      <td>1</td>\n",
              "      <td>0</td>\n",
              "      <td>0</td>\n",
              "      <td>1</td>\n",
              "      <td>0</td>\n",
              "      <td>0</td>\n",
              "      <td>1</td>\n",
              "      <td>0</td>\n",
              "      <td>0</td>\n",
              "      <td>1</td>\n",
              "      <td>0</td>\n",
              "      <td>0</td>\n",
              "      <td>0</td>\n",
              "      <td>0</td>\n",
              "      <td>0</td>\n",
              "      <td>1</td>\n",
              "      <td>0</td>\n",
              "      <td>0</td>\n",
              "      <td>0</td>\n",
              "      <td>0</td>\n",
              "      <td>0</td>\n",
              "      <td>1</td>\n",
              "      <td>0</td>\n",
              "      <td>0</td>\n",
              "      <td>1</td>\n",
              "      <td>0</td>\n",
              "      <td>0</td>\n",
              "      <td>0</td>\n",
              "      <td>0</td>\n",
              "      <td>0</td>\n",
              "      <td>0</td>\n",
              "      <td>0</td>\n",
              "    </tr>\n",
              "    <tr>\n",
              "      <th>28830</th>\n",
              "      <td>2</td>\n",
              "      <td>10</td>\n",
              "      <td>8</td>\n",
              "      <td>7</td>\n",
              "      <td>0</td>\n",
              "      <td>1</td>\n",
              "      <td>0</td>\n",
              "      <td>0</td>\n",
              "      <td>0</td>\n",
              "      <td>0</td>\n",
              "      <td>0</td>\n",
              "      <td>0</td>\n",
              "      <td>0</td>\n",
              "      <td>0</td>\n",
              "      <td>0</td>\n",
              "      <td>0</td>\n",
              "      <td>0</td>\n",
              "      <td>0</td>\n",
              "      <td>0.25</td>\n",
              "      <td>0.29</td>\n",
              "      <td>0.88</td>\n",
              "      <td>1</td>\n",
              "      <td>0</td>\n",
              "      <td>1</td>\n",
              "      <td>0</td>\n",
              "      <td>0</td>\n",
              "      <td>0</td>\n",
              "      <td>1</td>\n",
              "      <td>0</td>\n",
              "      <td>0</td>\n",
              "      <td>1</td>\n",
              "      <td>0</td>\n",
              "      <td>0</td>\n",
              "      <td>0</td>\n",
              "      <td>0</td>\n",
              "      <td>0</td>\n",
              "      <td>1</td>\n",
              "      <td>0</td>\n",
              "      <td>0</td>\n",
              "      <td>1</td>\n",
              "      <td>0</td>\n",
              "      <td>0</td>\n",
              "      <td>0</td>\n",
              "      <td>0</td>\n",
              "      <td>1</td>\n",
              "      <td>0</td>\n",
              "      <td>0</td>\n",
              "      <td>0</td>\n",
              "      <td>1</td>\n",
              "      <td>0</td>\n",
              "      <td>0</td>\n",
              "      <td>0</td>\n",
              "      <td>0</td>\n",
              "      <td>0</td>\n",
              "      <td>0</td>\n",
              "      <td>0</td>\n",
              "    </tr>\n",
              "    <tr>\n",
              "      <th>94947</th>\n",
              "      <td>2</td>\n",
              "      <td>10</td>\n",
              "      <td>5</td>\n",
              "      <td>5</td>\n",
              "      <td>0</td>\n",
              "      <td>1</td>\n",
              "      <td>0</td>\n",
              "      <td>0</td>\n",
              "      <td>0</td>\n",
              "      <td>0</td>\n",
              "      <td>0</td>\n",
              "      <td>0</td>\n",
              "      <td>0</td>\n",
              "      <td>0</td>\n",
              "      <td>0</td>\n",
              "      <td>0</td>\n",
              "      <td>0</td>\n",
              "      <td>0</td>\n",
              "      <td>0.40</td>\n",
              "      <td>0.40</td>\n",
              "      <td>1.00</td>\n",
              "      <td>1</td>\n",
              "      <td>0</td>\n",
              "      <td>0</td>\n",
              "      <td>1</td>\n",
              "      <td>0</td>\n",
              "      <td>0</td>\n",
              "      <td>1</td>\n",
              "      <td>0</td>\n",
              "      <td>0</td>\n",
              "      <td>1</td>\n",
              "      <td>0</td>\n",
              "      <td>0</td>\n",
              "      <td>1</td>\n",
              "      <td>0</td>\n",
              "      <td>0</td>\n",
              "      <td>0</td>\n",
              "      <td>0</td>\n",
              "      <td>0</td>\n",
              "      <td>0</td>\n",
              "      <td>0</td>\n",
              "      <td>1</td>\n",
              "      <td>0</td>\n",
              "      <td>0</td>\n",
              "      <td>0</td>\n",
              "      <td>1</td>\n",
              "      <td>0</td>\n",
              "      <td>0</td>\n",
              "      <td>1</td>\n",
              "      <td>0</td>\n",
              "      <td>0</td>\n",
              "      <td>0</td>\n",
              "      <td>0</td>\n",
              "      <td>0</td>\n",
              "      <td>0</td>\n",
              "      <td>0</td>\n",
              "    </tr>\n",
              "    <tr>\n",
              "      <th>590882</th>\n",
              "      <td>2</td>\n",
              "      <td>10</td>\n",
              "      <td>6</td>\n",
              "      <td>5</td>\n",
              "      <td>0</td>\n",
              "      <td>1</td>\n",
              "      <td>0</td>\n",
              "      <td>0</td>\n",
              "      <td>0</td>\n",
              "      <td>0</td>\n",
              "      <td>1</td>\n",
              "      <td>1</td>\n",
              "      <td>0</td>\n",
              "      <td>0</td>\n",
              "      <td>0</td>\n",
              "      <td>0</td>\n",
              "      <td>0</td>\n",
              "      <td>0</td>\n",
              "      <td>0.33</td>\n",
              "      <td>0.40</td>\n",
              "      <td>0.83</td>\n",
              "      <td>1</td>\n",
              "      <td>0</td>\n",
              "      <td>0</td>\n",
              "      <td>1</td>\n",
              "      <td>0</td>\n",
              "      <td>0</td>\n",
              "      <td>1</td>\n",
              "      <td>0</td>\n",
              "      <td>0</td>\n",
              "      <td>1</td>\n",
              "      <td>0</td>\n",
              "      <td>0</td>\n",
              "      <td>1</td>\n",
              "      <td>0</td>\n",
              "      <td>0</td>\n",
              "      <td>0</td>\n",
              "      <td>0</td>\n",
              "      <td>0</td>\n",
              "      <td>0</td>\n",
              "      <td>0</td>\n",
              "      <td>1</td>\n",
              "      <td>0</td>\n",
              "      <td>0</td>\n",
              "      <td>1</td>\n",
              "      <td>0</td>\n",
              "      <td>0</td>\n",
              "      <td>0</td>\n",
              "      <td>1</td>\n",
              "      <td>0</td>\n",
              "      <td>0</td>\n",
              "      <td>0</td>\n",
              "      <td>0</td>\n",
              "      <td>0</td>\n",
              "      <td>0</td>\n",
              "      <td>0</td>\n",
              "    </tr>\n",
              "    <tr>\n",
              "      <th>201944</th>\n",
              "      <td>3</td>\n",
              "      <td>30</td>\n",
              "      <td>8</td>\n",
              "      <td>9</td>\n",
              "      <td>1</td>\n",
              "      <td>0</td>\n",
              "      <td>0</td>\n",
              "      <td>0</td>\n",
              "      <td>0</td>\n",
              "      <td>0</td>\n",
              "      <td>0</td>\n",
              "      <td>0</td>\n",
              "      <td>0</td>\n",
              "      <td>0</td>\n",
              "      <td>0</td>\n",
              "      <td>0</td>\n",
              "      <td>0</td>\n",
              "      <td>0</td>\n",
              "      <td>0.38</td>\n",
              "      <td>0.33</td>\n",
              "      <td>1.12</td>\n",
              "      <td>1</td>\n",
              "      <td>0</td>\n",
              "      <td>0</td>\n",
              "      <td>1</td>\n",
              "      <td>0</td>\n",
              "      <td>0</td>\n",
              "      <td>1</td>\n",
              "      <td>0</td>\n",
              "      <td>0</td>\n",
              "      <td>1</td>\n",
              "      <td>0</td>\n",
              "      <td>0</td>\n",
              "      <td>1</td>\n",
              "      <td>0</td>\n",
              "      <td>0</td>\n",
              "      <td>0</td>\n",
              "      <td>0</td>\n",
              "      <td>0</td>\n",
              "      <td>0</td>\n",
              "      <td>0</td>\n",
              "      <td>1</td>\n",
              "      <td>0</td>\n",
              "      <td>0</td>\n",
              "      <td>1</td>\n",
              "      <td>0</td>\n",
              "      <td>0</td>\n",
              "      <td>0</td>\n",
              "      <td>1</td>\n",
              "      <td>0</td>\n",
              "      <td>0</td>\n",
              "      <td>0</td>\n",
              "      <td>0</td>\n",
              "      <td>0</td>\n",
              "      <td>0</td>\n",
              "      <td>0</td>\n",
              "    </tr>\n",
              "  </tbody>\n",
              "</table>\n",
              "</div>"
            ],
            "text/plain": [
              "             count_floors_pre_eq  ...  plan_configuration_u\n",
              "building_id                       ...                      \n",
              "802906                         2  ...                     0\n",
              "28830                          2  ...                     0\n",
              "94947                          2  ...                     0\n",
              "590882                         2  ...                     0\n",
              "201944                         3  ...                     0\n",
              "\n",
              "[5 rows x 56 columns]"
            ]
          },
          "metadata": {
            "tags": []
          },
          "execution_count": 12
        }
      ]
    },
    {
      "cell_type": "code",
      "metadata": {
        "id": "YbbGlljWdkJW"
      },
      "source": [
        "from sklearn.model_selection import train_test_split\n",
        "X_train,X_test,y_train,y_test = train_test_split(train_values_subset,train_labels,test_size=0.2,train_size=0.8)"
      ],
      "execution_count": null,
      "outputs": []
    },
    {
      "cell_type": "code",
      "metadata": {
        "colab": {
          "base_uri": "https://localhost:8080/"
        },
        "id": "1GXO_c4YdkJW",
        "outputId": "aea98aff-b3a9-42d2-e7d7-6e8697e10bf3"
      },
      "source": [
        "HGS.fit(X_train,y_train)"
      ],
      "execution_count": null,
      "outputs": [
        {
          "output_type": "execute_result",
          "data": {
            "text/plain": [
              "HalvingGridSearchCV(estimator=XGBClassifier(objetive='multi:softmax', seed=123),\n",
              "                    n_jobs=-1,\n",
              "                    param_grid={'base_score': [0.5], 'colsample_bytree': [0.6],\n",
              "                                'learning_rate': [0.1], 'max_delta_step': [1],\n",
              "                                'max_depth': [13, 20, 25],\n",
              "                                'n_estimators': [120], 'subsample': [0.8]},\n",
              "                    refit=<function _refit_callable at 0x7fa795e70d40>,\n",
              "                    scoring='f1_micro')"
            ]
          },
          "metadata": {
            "tags": []
          },
          "execution_count": 14
        }
      ]
    },
    {
      "cell_type": "code",
      "metadata": {
        "colab": {
          "base_uri": "https://localhost:8080/"
        },
        "id": "KvmqEnIddkJX",
        "outputId": "c71fb1ce-f346-4748-fd6d-ccc22593814a"
      },
      "source": [
        "HGS.best_params_"
      ],
      "execution_count": null,
      "outputs": [
        {
          "output_type": "execute_result",
          "data": {
            "text/plain": [
              "{'base_score': 0.5,\n",
              " 'colsample_bytree': 0.6,\n",
              " 'learning_rate': 0.1,\n",
              " 'max_delta_step': 1,\n",
              " 'max_depth': 13,\n",
              " 'n_estimators': 120,\n",
              " 'subsample': 0.8}"
            ]
          },
          "metadata": {
            "tags": []
          },
          "execution_count": 15
        }
      ]
    },
    {
      "cell_type": "code",
      "metadata": {
        "id": "4Xykpd9bdkJX"
      },
      "source": [
        "preds = HGS.predict(X_test)"
      ],
      "execution_count": null,
      "outputs": []
    },
    {
      "cell_type": "code",
      "metadata": {
        "colab": {
          "base_uri": "https://localhost:8080/"
        },
        "id": "fe4zY5-mdkJX",
        "outputId": "b1ffd5dd-50ba-4aac-a80a-7815753cd007"
      },
      "source": [
        "from sklearn.metrics import f1_score\n",
        "f1_score(y_test, preds, average='micro')"
      ],
      "execution_count": null,
      "outputs": [
        {
          "output_type": "execute_result",
          "data": {
            "text/plain": [
              "0.617447861706414"
            ]
          },
          "metadata": {
            "tags": []
          },
          "execution_count": 17
        }
      ]
    },
    {
      "cell_type": "markdown",
      "metadata": {
        "id": "DAVAHSlTGz4w"
      },
      "source": [
        "#XGB agrego feature age*floors"
      ]
    },
    {
      "cell_type": "code",
      "metadata": {
        "id": "FAjH5ngCGz4y"
      },
      "source": [
        "#instancio el regresor\n",
        "from sklearn.experimental import enable_halving_search_cv\n",
        "from sklearn.model_selection import HalvingGridSearchCV\n",
        "\n",
        "xgb_reg = xgb.XGBClassifier(objetive=\"multi:softprob\",seed = 123)"
      ],
      "execution_count": null,
      "outputs": []
    },
    {
      "cell_type": "code",
      "metadata": {
        "id": "VWcs2U5mGz4y"
      },
      "source": [
        "parameters = {'base_score':[0.5] ,\n",
        " 'colsample_bytree': [0.6],\n",
        " 'learning_rate': [0.1],\n",
        " 'max_delta_step': [1],\n",
        " 'max_depth': [13],\n",
        " 'n_estimators': [120],\n",
        " 'subsample': [0.8]}\n",
        "\n"
      ],
      "execution_count": null,
      "outputs": []
    },
    {
      "cell_type": "code",
      "metadata": {
        "id": "Nb9FzcfQGz4y"
      },
      "source": [
        "HGS = HalvingGridSearchCV(xgb_reg, parameters, scoring = 'f1_micro', n_jobs=-1, cv=5)"
      ],
      "execution_count": null,
      "outputs": []
    },
    {
      "cell_type": "code",
      "metadata": {
        "colab": {
          "base_uri": "https://localhost:8080/",
          "height": 245
        },
        "id": "dkFxCEMHGz4z",
        "outputId": "fe73e024-9028-46cf-dceb-e1d080de5c64"
      },
      "source": [
        "from scipy.stats.mstats import winsorize\n",
        "\n",
        "selected_features = [\"geo_level_1_id\",\"geo_level_2_id\",\"geo_level_3_id\",\t\"count_floors_pre_eq\"\t,\"age\"\t,\"area_percentage\"\t,\"height_percentage\",\t\"has_superstructure_adobe_mud\"\t,\"has_superstructure_mud_mortar_stone\",\t\"has_superstructure_stone_flag\"\t,\"has_superstructure_cement_mortar_stone\",\t\"has_superstructure_mud_mortar_brick\",\t\"has_superstructure_cement_mortar_brick\",\t\"has_superstructure_timber\"\t,\"has_superstructure_bamboo\"\t,\"has_superstructure_rc_non_engineered\",\t\"has_superstructure_rc_engineered\"\t,\"has_superstructure_other\",\"land_surface_condition\",\t\"foundation_type\",\t\"roof_type\",\t\"ground_floor_type\",\t\"other_floor_type\",\t\"position\"\t,\"plan_configuration\",\"has_secondary_use\",\t\"has_secondary_use_agriculture\"\t,\"has_secondary_use_hotel\",\t\"has_secondary_use_rental\",\t\"has_secondary_use_institution\"\t,\"has_secondary_use_school\",\t\"has_secondary_use_industry\"\t,\"has_secondary_use_health_post\"\t,\"has_secondary_use_gov_office\",\t\"has_secondary_use_use_police\"\t,\"has_secondary_use_other\"]\n",
        "train_values_subset = train_values[selected_features]\n",
        "\n",
        "train_values_subset[\"age\"] = winsorize(train_values_subset[\"age\"],(0, 0.05))\n",
        "train_values_subset[\"area_percentage\"] = winsorize(train_values_subset[\"area_percentage\"],(0, 0.055))\n",
        "train_values_subset[\"height_percentage\"] = winsorize(train_values_subset[\"height_percentage\"],(0, 0.04))\n",
        "\n",
        "\n",
        "\n",
        "train_values_subset[\"floors/area_p\"] = train_values_subset[\"count_floors_pre_eq\"]/train_values_subset[\"area_percentage\"]\n",
        "train_values_subset[\"floors/height_p\"] = train_values_subset[\"count_floors_pre_eq\"]/train_values_subset[\"height_percentage\"]\n",
        "train_values_subset[\"height_p/area_p\"] = train_values_subset[\"height_percentage\"]/train_values_subset[\"area_percentage\"]\n",
        "train_values_subset[\"age*floors\"] = train_values_subset[\"age\"]*train_values_subset[\"count_floors_pre_eq\"]\n",
        "\n",
        "\n",
        "train_values_subset[\"doesnt_have_secondary_use\"] = 1-train_values_subset[\"has_secondary_use\"]\n",
        "del train_values_subset[\"has_secondary_use\"]\n",
        "train_values_subset[\"has_secondary_use_other\"]  = train_values_subset[\"has_secondary_use_other\"]  |  train_values_subset[\"has_secondary_use_rental\"] |  train_values_subset[\"has_secondary_use_use_police\"] |  train_values_subset[\"has_secondary_use_institution\"]|  train_values_subset[\"has_secondary_use_school\"]|  train_values_subset[\"has_secondary_use_industry\"]|  train_values_subset[\"has_secondary_use_health_post\"]|  train_values_subset[\"has_secondary_use_gov_office\"]\n",
        "del train_values_subset[\"has_secondary_use_rental\"]\n",
        "del train_values_subset[\"has_secondary_use_institution\"]\n",
        "del train_values_subset[\"has_secondary_use_industry\"]\n",
        "del train_values_subset[\"has_secondary_use_health_post\"]\n",
        "del train_values_subset[\"has_secondary_use_gov_office\"]\n",
        "del train_values_subset[\"has_secondary_use_use_police\"]\n",
        "del train_values_subset[\"has_secondary_use_school\"]\n",
        "\n",
        "train_values_subset = pd.get_dummies(train_values_subset)\n",
        "train_values_subset.head()\n",
        "\n",
        "\n"
      ],
      "execution_count": null,
      "outputs": [
        {
          "output_type": "execute_result",
          "data": {
            "text/html": [
              "<div>\n",
              "<style scoped>\n",
              "    .dataframe tbody tr th:only-of-type {\n",
              "        vertical-align: middle;\n",
              "    }\n",
              "\n",
              "    .dataframe tbody tr th {\n",
              "        vertical-align: top;\n",
              "    }\n",
              "\n",
              "    .dataframe thead th {\n",
              "        text-align: right;\n",
              "    }\n",
              "</style>\n",
              "<table border=\"1\" class=\"dataframe\">\n",
              "  <thead>\n",
              "    <tr style=\"text-align: right;\">\n",
              "      <th></th>\n",
              "      <th>geo_level_1_id</th>\n",
              "      <th>geo_level_2_id</th>\n",
              "      <th>geo_level_3_id</th>\n",
              "      <th>count_floors_pre_eq</th>\n",
              "      <th>age</th>\n",
              "      <th>area_percentage</th>\n",
              "      <th>height_percentage</th>\n",
              "      <th>has_superstructure_adobe_mud</th>\n",
              "      <th>has_superstructure_mud_mortar_stone</th>\n",
              "      <th>has_superstructure_stone_flag</th>\n",
              "      <th>has_superstructure_cement_mortar_stone</th>\n",
              "      <th>has_superstructure_mud_mortar_brick</th>\n",
              "      <th>has_superstructure_cement_mortar_brick</th>\n",
              "      <th>has_superstructure_timber</th>\n",
              "      <th>has_superstructure_bamboo</th>\n",
              "      <th>has_superstructure_rc_non_engineered</th>\n",
              "      <th>has_superstructure_rc_engineered</th>\n",
              "      <th>has_superstructure_other</th>\n",
              "      <th>has_secondary_use_agriculture</th>\n",
              "      <th>has_secondary_use_hotel</th>\n",
              "      <th>has_secondary_use_other</th>\n",
              "      <th>floors/area_p</th>\n",
              "      <th>floors/height_p</th>\n",
              "      <th>height_p/area_p</th>\n",
              "      <th>age*floors</th>\n",
              "      <th>doesnt_have_secondary_use</th>\n",
              "      <th>land_surface_condition_n</th>\n",
              "      <th>land_surface_condition_o</th>\n",
              "      <th>land_surface_condition_t</th>\n",
              "      <th>foundation_type_h</th>\n",
              "      <th>foundation_type_i</th>\n",
              "      <th>foundation_type_r</th>\n",
              "      <th>foundation_type_u</th>\n",
              "      <th>foundation_type_w</th>\n",
              "      <th>roof_type_n</th>\n",
              "      <th>roof_type_q</th>\n",
              "      <th>roof_type_x</th>\n",
              "      <th>ground_floor_type_f</th>\n",
              "      <th>ground_floor_type_m</th>\n",
              "      <th>ground_floor_type_v</th>\n",
              "      <th>ground_floor_type_x</th>\n",
              "      <th>ground_floor_type_z</th>\n",
              "      <th>other_floor_type_j</th>\n",
              "      <th>other_floor_type_q</th>\n",
              "      <th>other_floor_type_s</th>\n",
              "      <th>other_floor_type_x</th>\n",
              "      <th>position_j</th>\n",
              "      <th>position_o</th>\n",
              "      <th>position_s</th>\n",
              "      <th>position_t</th>\n",
              "      <th>plan_configuration_a</th>\n",
              "      <th>plan_configuration_c</th>\n",
              "      <th>plan_configuration_d</th>\n",
              "      <th>plan_configuration_f</th>\n",
              "      <th>plan_configuration_m</th>\n",
              "      <th>plan_configuration_n</th>\n",
              "      <th>plan_configuration_o</th>\n",
              "      <th>plan_configuration_q</th>\n",
              "      <th>plan_configuration_s</th>\n",
              "      <th>plan_configuration_u</th>\n",
              "    </tr>\n",
              "    <tr>\n",
              "      <th>building_id</th>\n",
              "      <th></th>\n",
              "      <th></th>\n",
              "      <th></th>\n",
              "      <th></th>\n",
              "      <th></th>\n",
              "      <th></th>\n",
              "      <th></th>\n",
              "      <th></th>\n",
              "      <th></th>\n",
              "      <th></th>\n",
              "      <th></th>\n",
              "      <th></th>\n",
              "      <th></th>\n",
              "      <th></th>\n",
              "      <th></th>\n",
              "      <th></th>\n",
              "      <th></th>\n",
              "      <th></th>\n",
              "      <th></th>\n",
              "      <th></th>\n",
              "      <th></th>\n",
              "      <th></th>\n",
              "      <th></th>\n",
              "      <th></th>\n",
              "      <th></th>\n",
              "      <th></th>\n",
              "      <th></th>\n",
              "      <th></th>\n",
              "      <th></th>\n",
              "      <th></th>\n",
              "      <th></th>\n",
              "      <th></th>\n",
              "      <th></th>\n",
              "      <th></th>\n",
              "      <th></th>\n",
              "      <th></th>\n",
              "      <th></th>\n",
              "      <th></th>\n",
              "      <th></th>\n",
              "      <th></th>\n",
              "      <th></th>\n",
              "      <th></th>\n",
              "      <th></th>\n",
              "      <th></th>\n",
              "      <th></th>\n",
              "      <th></th>\n",
              "      <th></th>\n",
              "      <th></th>\n",
              "      <th></th>\n",
              "      <th></th>\n",
              "      <th></th>\n",
              "      <th></th>\n",
              "      <th></th>\n",
              "      <th></th>\n",
              "      <th></th>\n",
              "      <th></th>\n",
              "      <th></th>\n",
              "      <th></th>\n",
              "      <th></th>\n",
              "      <th></th>\n",
              "    </tr>\n",
              "  </thead>\n",
              "  <tbody>\n",
              "    <tr>\n",
              "      <th>802906</th>\n",
              "      <td>6</td>\n",
              "      <td>487</td>\n",
              "      <td>12198</td>\n",
              "      <td>2</td>\n",
              "      <td>30</td>\n",
              "      <td>6</td>\n",
              "      <td>5</td>\n",
              "      <td>1</td>\n",
              "      <td>1</td>\n",
              "      <td>0</td>\n",
              "      <td>0</td>\n",
              "      <td>0</td>\n",
              "      <td>0</td>\n",
              "      <td>0</td>\n",
              "      <td>0</td>\n",
              "      <td>0</td>\n",
              "      <td>0</td>\n",
              "      <td>0</td>\n",
              "      <td>0</td>\n",
              "      <td>0</td>\n",
              "      <td>0</td>\n",
              "      <td>0.33</td>\n",
              "      <td>0.40</td>\n",
              "      <td>0.83</td>\n",
              "      <td>60</td>\n",
              "      <td>1</td>\n",
              "      <td>0</td>\n",
              "      <td>0</td>\n",
              "      <td>1</td>\n",
              "      <td>0</td>\n",
              "      <td>0</td>\n",
              "      <td>1</td>\n",
              "      <td>0</td>\n",
              "      <td>0</td>\n",
              "      <td>1</td>\n",
              "      <td>0</td>\n",
              "      <td>0</td>\n",
              "      <td>1</td>\n",
              "      <td>0</td>\n",
              "      <td>0</td>\n",
              "      <td>0</td>\n",
              "      <td>0</td>\n",
              "      <td>0</td>\n",
              "      <td>1</td>\n",
              "      <td>0</td>\n",
              "      <td>0</td>\n",
              "      <td>0</td>\n",
              "      <td>0</td>\n",
              "      <td>0</td>\n",
              "      <td>1</td>\n",
              "      <td>0</td>\n",
              "      <td>0</td>\n",
              "      <td>1</td>\n",
              "      <td>0</td>\n",
              "      <td>0</td>\n",
              "      <td>0</td>\n",
              "      <td>0</td>\n",
              "      <td>0</td>\n",
              "      <td>0</td>\n",
              "      <td>0</td>\n",
              "    </tr>\n",
              "    <tr>\n",
              "      <th>28830</th>\n",
              "      <td>8</td>\n",
              "      <td>900</td>\n",
              "      <td>2812</td>\n",
              "      <td>2</td>\n",
              "      <td>10</td>\n",
              "      <td>8</td>\n",
              "      <td>7</td>\n",
              "      <td>0</td>\n",
              "      <td>1</td>\n",
              "      <td>0</td>\n",
              "      <td>0</td>\n",
              "      <td>0</td>\n",
              "      <td>0</td>\n",
              "      <td>0</td>\n",
              "      <td>0</td>\n",
              "      <td>0</td>\n",
              "      <td>0</td>\n",
              "      <td>0</td>\n",
              "      <td>0</td>\n",
              "      <td>0</td>\n",
              "      <td>0</td>\n",
              "      <td>0.25</td>\n",
              "      <td>0.29</td>\n",
              "      <td>0.88</td>\n",
              "      <td>20</td>\n",
              "      <td>1</td>\n",
              "      <td>0</td>\n",
              "      <td>1</td>\n",
              "      <td>0</td>\n",
              "      <td>0</td>\n",
              "      <td>0</td>\n",
              "      <td>1</td>\n",
              "      <td>0</td>\n",
              "      <td>0</td>\n",
              "      <td>1</td>\n",
              "      <td>0</td>\n",
              "      <td>0</td>\n",
              "      <td>0</td>\n",
              "      <td>0</td>\n",
              "      <td>0</td>\n",
              "      <td>1</td>\n",
              "      <td>0</td>\n",
              "      <td>0</td>\n",
              "      <td>1</td>\n",
              "      <td>0</td>\n",
              "      <td>0</td>\n",
              "      <td>0</td>\n",
              "      <td>0</td>\n",
              "      <td>1</td>\n",
              "      <td>0</td>\n",
              "      <td>0</td>\n",
              "      <td>0</td>\n",
              "      <td>1</td>\n",
              "      <td>0</td>\n",
              "      <td>0</td>\n",
              "      <td>0</td>\n",
              "      <td>0</td>\n",
              "      <td>0</td>\n",
              "      <td>0</td>\n",
              "      <td>0</td>\n",
              "    </tr>\n",
              "    <tr>\n",
              "      <th>94947</th>\n",
              "      <td>21</td>\n",
              "      <td>363</td>\n",
              "      <td>8973</td>\n",
              "      <td>2</td>\n",
              "      <td>10</td>\n",
              "      <td>5</td>\n",
              "      <td>5</td>\n",
              "      <td>0</td>\n",
              "      <td>1</td>\n",
              "      <td>0</td>\n",
              "      <td>0</td>\n",
              "      <td>0</td>\n",
              "      <td>0</td>\n",
              "      <td>0</td>\n",
              "      <td>0</td>\n",
              "      <td>0</td>\n",
              "      <td>0</td>\n",
              "      <td>0</td>\n",
              "      <td>0</td>\n",
              "      <td>0</td>\n",
              "      <td>0</td>\n",
              "      <td>0.40</td>\n",
              "      <td>0.40</td>\n",
              "      <td>1.00</td>\n",
              "      <td>20</td>\n",
              "      <td>1</td>\n",
              "      <td>0</td>\n",
              "      <td>0</td>\n",
              "      <td>1</td>\n",
              "      <td>0</td>\n",
              "      <td>0</td>\n",
              "      <td>1</td>\n",
              "      <td>0</td>\n",
              "      <td>0</td>\n",
              "      <td>1</td>\n",
              "      <td>0</td>\n",
              "      <td>0</td>\n",
              "      <td>1</td>\n",
              "      <td>0</td>\n",
              "      <td>0</td>\n",
              "      <td>0</td>\n",
              "      <td>0</td>\n",
              "      <td>0</td>\n",
              "      <td>0</td>\n",
              "      <td>0</td>\n",
              "      <td>1</td>\n",
              "      <td>0</td>\n",
              "      <td>0</td>\n",
              "      <td>0</td>\n",
              "      <td>1</td>\n",
              "      <td>0</td>\n",
              "      <td>0</td>\n",
              "      <td>1</td>\n",
              "      <td>0</td>\n",
              "      <td>0</td>\n",
              "      <td>0</td>\n",
              "      <td>0</td>\n",
              "      <td>0</td>\n",
              "      <td>0</td>\n",
              "      <td>0</td>\n",
              "    </tr>\n",
              "    <tr>\n",
              "      <th>590882</th>\n",
              "      <td>22</td>\n",
              "      <td>418</td>\n",
              "      <td>10694</td>\n",
              "      <td>2</td>\n",
              "      <td>10</td>\n",
              "      <td>6</td>\n",
              "      <td>5</td>\n",
              "      <td>0</td>\n",
              "      <td>1</td>\n",
              "      <td>0</td>\n",
              "      <td>0</td>\n",
              "      <td>0</td>\n",
              "      <td>0</td>\n",
              "      <td>1</td>\n",
              "      <td>1</td>\n",
              "      <td>0</td>\n",
              "      <td>0</td>\n",
              "      <td>0</td>\n",
              "      <td>0</td>\n",
              "      <td>0</td>\n",
              "      <td>0</td>\n",
              "      <td>0.33</td>\n",
              "      <td>0.40</td>\n",
              "      <td>0.83</td>\n",
              "      <td>20</td>\n",
              "      <td>1</td>\n",
              "      <td>0</td>\n",
              "      <td>0</td>\n",
              "      <td>1</td>\n",
              "      <td>0</td>\n",
              "      <td>0</td>\n",
              "      <td>1</td>\n",
              "      <td>0</td>\n",
              "      <td>0</td>\n",
              "      <td>1</td>\n",
              "      <td>0</td>\n",
              "      <td>0</td>\n",
              "      <td>1</td>\n",
              "      <td>0</td>\n",
              "      <td>0</td>\n",
              "      <td>0</td>\n",
              "      <td>0</td>\n",
              "      <td>0</td>\n",
              "      <td>0</td>\n",
              "      <td>0</td>\n",
              "      <td>1</td>\n",
              "      <td>0</td>\n",
              "      <td>0</td>\n",
              "      <td>1</td>\n",
              "      <td>0</td>\n",
              "      <td>0</td>\n",
              "      <td>0</td>\n",
              "      <td>1</td>\n",
              "      <td>0</td>\n",
              "      <td>0</td>\n",
              "      <td>0</td>\n",
              "      <td>0</td>\n",
              "      <td>0</td>\n",
              "      <td>0</td>\n",
              "      <td>0</td>\n",
              "    </tr>\n",
              "    <tr>\n",
              "      <th>201944</th>\n",
              "      <td>11</td>\n",
              "      <td>131</td>\n",
              "      <td>1488</td>\n",
              "      <td>3</td>\n",
              "      <td>30</td>\n",
              "      <td>8</td>\n",
              "      <td>9</td>\n",
              "      <td>1</td>\n",
              "      <td>0</td>\n",
              "      <td>0</td>\n",
              "      <td>0</td>\n",
              "      <td>0</td>\n",
              "      <td>0</td>\n",
              "      <td>0</td>\n",
              "      <td>0</td>\n",
              "      <td>0</td>\n",
              "      <td>0</td>\n",
              "      <td>0</td>\n",
              "      <td>0</td>\n",
              "      <td>0</td>\n",
              "      <td>0</td>\n",
              "      <td>0.38</td>\n",
              "      <td>0.33</td>\n",
              "      <td>1.12</td>\n",
              "      <td>90</td>\n",
              "      <td>1</td>\n",
              "      <td>0</td>\n",
              "      <td>0</td>\n",
              "      <td>1</td>\n",
              "      <td>0</td>\n",
              "      <td>0</td>\n",
              "      <td>1</td>\n",
              "      <td>0</td>\n",
              "      <td>0</td>\n",
              "      <td>1</td>\n",
              "      <td>0</td>\n",
              "      <td>0</td>\n",
              "      <td>1</td>\n",
              "      <td>0</td>\n",
              "      <td>0</td>\n",
              "      <td>0</td>\n",
              "      <td>0</td>\n",
              "      <td>0</td>\n",
              "      <td>0</td>\n",
              "      <td>0</td>\n",
              "      <td>1</td>\n",
              "      <td>0</td>\n",
              "      <td>0</td>\n",
              "      <td>1</td>\n",
              "      <td>0</td>\n",
              "      <td>0</td>\n",
              "      <td>0</td>\n",
              "      <td>1</td>\n",
              "      <td>0</td>\n",
              "      <td>0</td>\n",
              "      <td>0</td>\n",
              "      <td>0</td>\n",
              "      <td>0</td>\n",
              "      <td>0</td>\n",
              "      <td>0</td>\n",
              "    </tr>\n",
              "  </tbody>\n",
              "</table>\n",
              "</div>"
            ],
            "text/plain": [
              "             geo_level_1_id  ...  plan_configuration_u\n",
              "building_id                  ...                      \n",
              "802906                    6  ...                     0\n",
              "28830                     8  ...                     0\n",
              "94947                    21  ...                     0\n",
              "590882                   22  ...                     0\n",
              "201944                   11  ...                     0\n",
              "\n",
              "[5 rows x 60 columns]"
            ]
          },
          "metadata": {
            "tags": []
          },
          "execution_count": 8
        }
      ]
    },
    {
      "cell_type": "code",
      "metadata": {
        "id": "Y_7eWCSxGz4z"
      },
      "source": [
        "from sklearn.model_selection import train_test_split\n",
        "X_train,X_test,y_train,y_test = train_test_split(train_values_subset,train_labels,test_size=0.2,train_size=0.8)"
      ],
      "execution_count": null,
      "outputs": []
    },
    {
      "cell_type": "code",
      "metadata": {
        "colab": {
          "base_uri": "https://localhost:8080/"
        },
        "id": "-Ve7bwUOGz4z",
        "outputId": "b139f294-12e0-4dcc-b65d-20943561876c"
      },
      "source": [
        "HGS.fit(X_train,y_train)"
      ],
      "execution_count": null,
      "outputs": [
        {
          "output_type": "execute_result",
          "data": {
            "text/plain": [
              "HalvingGridSearchCV(estimator=XGBClassifier(objetive='multi:softprob',\n",
              "                                            seed=123),\n",
              "                    n_jobs=-1,\n",
              "                    param_grid={'base_score': [0.5], 'colsample_bytree': [0.6],\n",
              "                                'learning_rate': [0.1], 'max_delta_step': [1],\n",
              "                                'max_depth': [13], 'n_estimators': [120],\n",
              "                                'subsample': [0.8]},\n",
              "                    refit=<function _refit_callable at 0x7fa7fbb0e170>,\n",
              "                    scoring='f1_micro')"
            ]
          },
          "metadata": {
            "tags": []
          },
          "execution_count": 10
        }
      ]
    },
    {
      "cell_type": "code",
      "metadata": {
        "colab": {
          "base_uri": "https://localhost:8080/"
        },
        "id": "SX__pdOkGz40",
        "outputId": "0b1bb09c-c699-411c-fee9-3eab1b1065e4"
      },
      "source": [
        "HGS.best_params_"
      ],
      "execution_count": null,
      "outputs": [
        {
          "output_type": "execute_result",
          "data": {
            "text/plain": [
              "{'base_score': 0.5,\n",
              " 'colsample_bytree': 0.6,\n",
              " 'learning_rate': 0.1,\n",
              " 'max_delta_step': 1,\n",
              " 'max_depth': 13,\n",
              " 'n_estimators': 120,\n",
              " 'subsample': 0.8}"
            ]
          },
          "metadata": {
            "tags": []
          },
          "execution_count": 11
        }
      ]
    },
    {
      "cell_type": "code",
      "metadata": {
        "id": "C1X5RZOLGz40"
      },
      "source": [
        "preds = HGS.predict(X_test)"
      ],
      "execution_count": null,
      "outputs": []
    },
    {
      "cell_type": "code",
      "metadata": {
        "colab": {
          "base_uri": "https://localhost:8080/"
        },
        "id": "jssTHkgqGz40",
        "outputId": "431d2a65-0828-45a6-e35c-4e3d19b3659c"
      },
      "source": [
        "from sklearn.metrics import f1_score\n",
        "\n",
        "\n",
        "f1_score(y_test, preds, average='micro')"
      ],
      "execution_count": null,
      "outputs": [
        {
          "output_type": "execute_result",
          "data": {
            "text/plain": [
              "0.7443448897757142"
            ]
          },
          "metadata": {
            "tags": []
          },
          "execution_count": 13
        }
      ]
    },
    {
      "cell_type": "code",
      "metadata": {
        "id": "iJyWh17MGz40"
      },
      "source": [
        "test_values_subset = test_values[selected_features]\n",
        "\n",
        "\n",
        "test_values_subset[\"age\"] = winsorize(test_values_subset[\"age\"],(0, 0.05))\n",
        "test_values_subset[\"area_percentage\"] = winsorize(test_values_subset[\"area_percentage\"],(0, 0.055))\n",
        "test_values_subset[\"height_percentage\"] = winsorize(test_values_subset[\"height_percentage\"],(0, 0.04))\n",
        "\n",
        "\n",
        "test_values_subset[\"floors/area_p\"] = test_values_subset[\"count_floors_pre_eq\"]/test_values_subset[\"area_percentage\"]\n",
        "test_values_subset[\"floors/height_p\"] = test_values_subset[\"count_floors_pre_eq\"]/test_values_subset[\"height_percentage\"]\n",
        "test_values_subset[\"height_p/area_p\"] = test_values_subset[\"height_percentage\"]/test_values_subset[\"area_percentage\"]\n",
        "test_values_subset[\"age*floors\"] = test_values_subset[\"age\"]*test_values_subset[\"count_floors_pre_eq\"]\n",
        "\n",
        "test_values_subset[\"doesnt_have_secondary_use\"] = 1-test_values_subset[\"has_secondary_use\"]\n",
        "del test_values_subset[\"has_secondary_use\"]\n",
        "test_values_subset[\"has_secondary_use_other\"]  = test_values_subset[\"has_secondary_use_other\"]  |  test_values_subset[\"has_secondary_use_rental\"] |  test_values_subset[\"has_secondary_use_use_police\"] |  test_values_subset[\"has_secondary_use_institution\"]|  test_values_subset[\"has_secondary_use_school\"]|  test_values_subset[\"has_secondary_use_industry\"]|  test_values_subset[\"has_secondary_use_health_post\"]|  test_values_subset[\"has_secondary_use_gov_office\"]\n",
        "del test_values_subset[\"has_secondary_use_rental\"]\n",
        "del test_values_subset[\"has_secondary_use_institution\"]\n",
        "del test_values_subset[\"has_secondary_use_industry\"]\n",
        "del test_values_subset[\"has_secondary_use_health_post\"]\n",
        "del test_values_subset[\"has_secondary_use_gov_office\"]\n",
        "del test_values_subset[\"has_secondary_use_use_police\"]\n",
        "del test_values_subset[\"has_secondary_use_school\"]\n",
        "\n",
        "test_values_subset = pd.get_dummies(test_values_subset)\n",
        "\n",
        "\n",
        "predictions = HGS.predict(test_values_subset)"
      ],
      "execution_count": null,
      "outputs": []
    },
    {
      "cell_type": "code",
      "metadata": {
        "id": "Vd7CyBg8Gz41"
      },
      "source": [
        "submission_format = pd.read_csv('submission_format.csv', encoding='latin1',sep=',', index_col='building_id')\n",
        "my_submission = pd.DataFrame(data=predictions,\n",
        "                             columns=submission_format.columns,\n",
        "                             index=submission_format.index)"
      ],
      "execution_count": null,
      "outputs": []
    },
    {
      "cell_type": "code",
      "metadata": {
        "colab": {
          "base_uri": "https://localhost:8080/",
          "height": 225
        },
        "id": "QbhXQiP_Gz41",
        "outputId": "d38ecd50-ddc6-45cd-f6f7-b4d3bafbe9a2"
      },
      "source": [
        "my_submission.head()"
      ],
      "execution_count": null,
      "outputs": [
        {
          "output_type": "execute_result",
          "data": {
            "text/html": [
              "<div>\n",
              "<style scoped>\n",
              "    .dataframe tbody tr th:only-of-type {\n",
              "        vertical-align: middle;\n",
              "    }\n",
              "\n",
              "    .dataframe tbody tr th {\n",
              "        vertical-align: top;\n",
              "    }\n",
              "\n",
              "    .dataframe thead th {\n",
              "        text-align: right;\n",
              "    }\n",
              "</style>\n",
              "<table border=\"1\" class=\"dataframe\">\n",
              "  <thead>\n",
              "    <tr style=\"text-align: right;\">\n",
              "      <th></th>\n",
              "      <th>damage_grade</th>\n",
              "    </tr>\n",
              "    <tr>\n",
              "      <th>building_id</th>\n",
              "      <th></th>\n",
              "    </tr>\n",
              "  </thead>\n",
              "  <tbody>\n",
              "    <tr>\n",
              "      <th>300051</th>\n",
              "      <td>3</td>\n",
              "    </tr>\n",
              "    <tr>\n",
              "      <th>99355</th>\n",
              "      <td>2</td>\n",
              "    </tr>\n",
              "    <tr>\n",
              "      <th>890251</th>\n",
              "      <td>2</td>\n",
              "    </tr>\n",
              "    <tr>\n",
              "      <th>745817</th>\n",
              "      <td>1</td>\n",
              "    </tr>\n",
              "    <tr>\n",
              "      <th>421793</th>\n",
              "      <td>3</td>\n",
              "    </tr>\n",
              "  </tbody>\n",
              "</table>\n",
              "</div>"
            ],
            "text/plain": [
              "             damage_grade\n",
              "building_id              \n",
              "300051                  3\n",
              "99355                   2\n",
              "890251                  2\n",
              "745817                  1\n",
              "421793                  3"
            ]
          },
          "metadata": {
            "tags": []
          },
          "execution_count": 16
        }
      ]
    },
    {
      "cell_type": "code",
      "metadata": {
        "colab": {
          "base_uri": "https://localhost:8080/"
        },
        "id": "sk8nAKajGz41",
        "outputId": "1545d738-cba0-4bf9-c96c-bf36ac546416"
      },
      "source": [
        "my_submission.to_csv('submission.csv')\n",
        "!head submission.csv"
      ],
      "execution_count": null,
      "outputs": [
        {
          "output_type": "stream",
          "text": [
            "building_id,damage_grade\n",
            "300051,3\n",
            "99355,2\n",
            "890251,2\n",
            "745817,1\n",
            "421793,3\n",
            "871976,3\n",
            "691228,1\n",
            "896100,3\n",
            "343471,2\n"
          ],
          "name": "stdout"
        }
      ]
    },
    {
      "cell_type": "code",
      "metadata": {
        "colab": {
          "base_uri": "https://localhost:8080/",
          "height": 17
        },
        "id": "ZkLEVH_PGz41",
        "outputId": "85df780b-d1d2-4185-82ec-9b8adb7b4c5c"
      },
      "source": [
        "from google.colab import files\n",
        "files.download(\"submission.csv\")"
      ],
      "execution_count": null,
      "outputs": [
        {
          "output_type": "display_data",
          "data": {
            "application/javascript": [
              "\n",
              "    async function download(id, filename, size) {\n",
              "      if (!google.colab.kernel.accessAllowed) {\n",
              "        return;\n",
              "      }\n",
              "      const div = document.createElement('div');\n",
              "      const label = document.createElement('label');\n",
              "      label.textContent = `Downloading \"${filename}\": `;\n",
              "      div.appendChild(label);\n",
              "      const progress = document.createElement('progress');\n",
              "      progress.max = size;\n",
              "      div.appendChild(progress);\n",
              "      document.body.appendChild(div);\n",
              "\n",
              "      const buffers = [];\n",
              "      let downloaded = 0;\n",
              "\n",
              "      const channel = await google.colab.kernel.comms.open(id);\n",
              "      // Send a message to notify the kernel that we're ready.\n",
              "      channel.send({})\n",
              "\n",
              "      for await (const message of channel.messages) {\n",
              "        // Send a message to notify the kernel that we're ready.\n",
              "        channel.send({})\n",
              "        if (message.buffers) {\n",
              "          for (const buffer of message.buffers) {\n",
              "            buffers.push(buffer);\n",
              "            downloaded += buffer.byteLength;\n",
              "            progress.value = downloaded;\n",
              "          }\n",
              "        }\n",
              "      }\n",
              "      const blob = new Blob(buffers, {type: 'application/binary'});\n",
              "      const a = document.createElement('a');\n",
              "      a.href = window.URL.createObjectURL(blob);\n",
              "      a.download = filename;\n",
              "      div.appendChild(a);\n",
              "      a.click();\n",
              "      div.remove();\n",
              "    }\n",
              "  "
            ],
            "text/plain": [
              "<IPython.core.display.Javascript object>"
            ]
          },
          "metadata": {
            "tags": []
          }
        },
        {
          "output_type": "display_data",
          "data": {
            "application/javascript": [
              "download(\"download_2ec71a18-02ca-4254-af4c-c7f64915a1c6\", \"submission.csv\", 777012)"
            ],
            "text/plain": [
              "<IPython.core.display.Javascript object>"
            ]
          },
          "metadata": {
            "tags": []
          }
        }
      ]
    },
    {
      "cell_type": "markdown",
      "metadata": {
        "id": "Zs2J_kxdJbMP"
      },
      "source": [
        "#XGB agrego 150 estimadores"
      ]
    },
    {
      "cell_type": "code",
      "metadata": {
        "id": "sIFu8ztMJbMR"
      },
      "source": [
        "#instancio el regresor\n",
        "from sklearn.experimental import enable_halving_search_cv\n",
        "from sklearn.model_selection import HalvingGridSearchCV\n",
        "\n",
        "xgb_reg = xgb.XGBClassifier(objetive=\"multi:softprob\",seed = 123)"
      ],
      "execution_count": null,
      "outputs": []
    },
    {
      "cell_type": "code",
      "metadata": {
        "id": "Rrb2p-u5JbMR"
      },
      "source": [
        "parameters = {'base_score':[0.5] ,\n",
        " 'colsample_bytree': [0.6],\n",
        " 'learning_rate': [0.1],\n",
        " 'max_delta_step': [1],\n",
        " 'max_depth': [13],\n",
        " 'n_estimators': [150],\n",
        " 'subsample': [0.8]}\n",
        "\n"
      ],
      "execution_count": null,
      "outputs": []
    },
    {
      "cell_type": "code",
      "metadata": {
        "id": "x1GbHYoFJbMR"
      },
      "source": [
        "HGS = HalvingGridSearchCV(xgb_reg, parameters, scoring = 'f1_micro', n_jobs=-1, cv=5)"
      ],
      "execution_count": null,
      "outputs": []
    },
    {
      "cell_type": "code",
      "metadata": {
        "colab": {
          "base_uri": "https://localhost:8080/",
          "height": 254
        },
        "id": "MhjW5O59JbMR",
        "outputId": "00c0ee37-6f55-447e-d54a-e0ac6b54695c"
      },
      "source": [
        "from scipy.stats.mstats import winsorize\n",
        "\n",
        "selected_features = [\"geo_level_1_id\",\"geo_level_2_id\",\"geo_level_3_id\",\t\"count_floors_pre_eq\"\t,\"age\"\t,\"area_percentage\"\t,\"height_percentage\",\t\"has_superstructure_adobe_mud\"\t,\"has_superstructure_mud_mortar_stone\",\t\"has_superstructure_stone_flag\"\t,\"has_superstructure_cement_mortar_stone\",\t\"has_superstructure_mud_mortar_brick\",\t\"has_superstructure_cement_mortar_brick\",\t\"has_superstructure_timber\"\t,\"has_superstructure_bamboo\"\t,\"has_superstructure_rc_non_engineered\",\t\"has_superstructure_rc_engineered\"\t,\"has_superstructure_other\",\"land_surface_condition\",\t\"foundation_type\",\t\"roof_type\",\t\"ground_floor_type\",\t\"other_floor_type\",\t\"position\"\t,\"plan_configuration\",\"has_secondary_use\",\t\"has_secondary_use_agriculture\"\t,\"has_secondary_use_hotel\",\t\"has_secondary_use_rental\",\t\"has_secondary_use_institution\"\t,\"has_secondary_use_school\",\t\"has_secondary_use_industry\"\t,\"has_secondary_use_health_post\"\t,\"has_secondary_use_gov_office\",\t\"has_secondary_use_use_police\"\t,\"has_secondary_use_other\"]\n",
        "train_values_subset = train_values[selected_features]\n",
        "\n",
        "train_values_subset[\"age\"] = winsorize(train_values_subset[\"age\"],(0, 0.05))\n",
        "train_values_subset[\"area_percentage\"] = winsorize(train_values_subset[\"area_percentage\"],(0, 0.055))\n",
        "train_values_subset[\"height_percentage\"] = winsorize(train_values_subset[\"height_percentage\"],(0, 0.04))\n",
        "\n",
        "\n",
        "\n",
        "train_values_subset[\"floors/area_p\"] = train_values_subset[\"count_floors_pre_eq\"]/train_values_subset[\"area_percentage\"]\n",
        "train_values_subset[\"floors/height_p\"] = train_values_subset[\"count_floors_pre_eq\"]/train_values_subset[\"height_percentage\"]\n",
        "train_values_subset[\"height_p/area_p\"] = train_values_subset[\"height_percentage\"]/train_values_subset[\"area_percentage\"]\n",
        "train_values_subset[\"age*floors\"] = train_values_subset[\"age\"]*train_values_subset[\"count_floors_pre_eq\"]\n",
        "\n",
        "\n",
        "train_values_subset[\"doesnt_have_secondary_use\"] = 1-train_values_subset[\"has_secondary_use\"]\n",
        "del train_values_subset[\"has_secondary_use\"]\n",
        "train_values_subset[\"has_secondary_use_other\"]  = train_values_subset[\"has_secondary_use_other\"]  |  train_values_subset[\"has_secondary_use_rental\"] |  train_values_subset[\"has_secondary_use_use_police\"] |  train_values_subset[\"has_secondary_use_institution\"]|  train_values_subset[\"has_secondary_use_school\"]|  train_values_subset[\"has_secondary_use_industry\"]|  train_values_subset[\"has_secondary_use_health_post\"]|  train_values_subset[\"has_secondary_use_gov_office\"]\n",
        "del train_values_subset[\"has_secondary_use_rental\"]\n",
        "del train_values_subset[\"has_secondary_use_institution\"]\n",
        "del train_values_subset[\"has_secondary_use_industry\"]\n",
        "del train_values_subset[\"has_secondary_use_health_post\"]\n",
        "del train_values_subset[\"has_secondary_use_gov_office\"]\n",
        "del train_values_subset[\"has_secondary_use_use_police\"]\n",
        "del train_values_subset[\"has_secondary_use_school\"]\n",
        "\n",
        "train_values_subset = pd.get_dummies(train_values_subset)\n",
        "train_values_subset.head()\n",
        "\n",
        "\n"
      ],
      "execution_count": null,
      "outputs": [
        {
          "output_type": "execute_result",
          "data": {
            "text/html": [
              "<div>\n",
              "<style scoped>\n",
              "    .dataframe tbody tr th:only-of-type {\n",
              "        vertical-align: middle;\n",
              "    }\n",
              "\n",
              "    .dataframe tbody tr th {\n",
              "        vertical-align: top;\n",
              "    }\n",
              "\n",
              "    .dataframe thead th {\n",
              "        text-align: right;\n",
              "    }\n",
              "</style>\n",
              "<table border=\"1\" class=\"dataframe\">\n",
              "  <thead>\n",
              "    <tr style=\"text-align: right;\">\n",
              "      <th></th>\n",
              "      <th>geo_level_1_id</th>\n",
              "      <th>geo_level_2_id</th>\n",
              "      <th>geo_level_3_id</th>\n",
              "      <th>count_floors_pre_eq</th>\n",
              "      <th>age</th>\n",
              "      <th>area_percentage</th>\n",
              "      <th>height_percentage</th>\n",
              "      <th>has_superstructure_adobe_mud</th>\n",
              "      <th>has_superstructure_mud_mortar_stone</th>\n",
              "      <th>has_superstructure_stone_flag</th>\n",
              "      <th>has_superstructure_cement_mortar_stone</th>\n",
              "      <th>has_superstructure_mud_mortar_brick</th>\n",
              "      <th>has_superstructure_cement_mortar_brick</th>\n",
              "      <th>has_superstructure_timber</th>\n",
              "      <th>has_superstructure_bamboo</th>\n",
              "      <th>has_superstructure_rc_non_engineered</th>\n",
              "      <th>has_superstructure_rc_engineered</th>\n",
              "      <th>has_superstructure_other</th>\n",
              "      <th>has_secondary_use_agriculture</th>\n",
              "      <th>has_secondary_use_hotel</th>\n",
              "      <th>has_secondary_use_other</th>\n",
              "      <th>floors/area_p</th>\n",
              "      <th>floors/height_p</th>\n",
              "      <th>height_p/area_p</th>\n",
              "      <th>age*floors</th>\n",
              "      <th>doesnt_have_secondary_use</th>\n",
              "      <th>land_surface_condition_n</th>\n",
              "      <th>land_surface_condition_o</th>\n",
              "      <th>land_surface_condition_t</th>\n",
              "      <th>foundation_type_h</th>\n",
              "      <th>foundation_type_i</th>\n",
              "      <th>foundation_type_r</th>\n",
              "      <th>foundation_type_u</th>\n",
              "      <th>foundation_type_w</th>\n",
              "      <th>roof_type_n</th>\n",
              "      <th>roof_type_q</th>\n",
              "      <th>roof_type_x</th>\n",
              "      <th>ground_floor_type_f</th>\n",
              "      <th>ground_floor_type_m</th>\n",
              "      <th>ground_floor_type_v</th>\n",
              "      <th>ground_floor_type_x</th>\n",
              "      <th>ground_floor_type_z</th>\n",
              "      <th>other_floor_type_j</th>\n",
              "      <th>other_floor_type_q</th>\n",
              "      <th>other_floor_type_s</th>\n",
              "      <th>other_floor_type_x</th>\n",
              "      <th>position_j</th>\n",
              "      <th>position_o</th>\n",
              "      <th>position_s</th>\n",
              "      <th>position_t</th>\n",
              "      <th>plan_configuration_a</th>\n",
              "      <th>plan_configuration_c</th>\n",
              "      <th>plan_configuration_d</th>\n",
              "      <th>plan_configuration_f</th>\n",
              "      <th>plan_configuration_m</th>\n",
              "      <th>plan_configuration_n</th>\n",
              "      <th>plan_configuration_o</th>\n",
              "      <th>plan_configuration_q</th>\n",
              "      <th>plan_configuration_s</th>\n",
              "      <th>plan_configuration_u</th>\n",
              "    </tr>\n",
              "    <tr>\n",
              "      <th>building_id</th>\n",
              "      <th></th>\n",
              "      <th></th>\n",
              "      <th></th>\n",
              "      <th></th>\n",
              "      <th></th>\n",
              "      <th></th>\n",
              "      <th></th>\n",
              "      <th></th>\n",
              "      <th></th>\n",
              "      <th></th>\n",
              "      <th></th>\n",
              "      <th></th>\n",
              "      <th></th>\n",
              "      <th></th>\n",
              "      <th></th>\n",
              "      <th></th>\n",
              "      <th></th>\n",
              "      <th></th>\n",
              "      <th></th>\n",
              "      <th></th>\n",
              "      <th></th>\n",
              "      <th></th>\n",
              "      <th></th>\n",
              "      <th></th>\n",
              "      <th></th>\n",
              "      <th></th>\n",
              "      <th></th>\n",
              "      <th></th>\n",
              "      <th></th>\n",
              "      <th></th>\n",
              "      <th></th>\n",
              "      <th></th>\n",
              "      <th></th>\n",
              "      <th></th>\n",
              "      <th></th>\n",
              "      <th></th>\n",
              "      <th></th>\n",
              "      <th></th>\n",
              "      <th></th>\n",
              "      <th></th>\n",
              "      <th></th>\n",
              "      <th></th>\n",
              "      <th></th>\n",
              "      <th></th>\n",
              "      <th></th>\n",
              "      <th></th>\n",
              "      <th></th>\n",
              "      <th></th>\n",
              "      <th></th>\n",
              "      <th></th>\n",
              "      <th></th>\n",
              "      <th></th>\n",
              "      <th></th>\n",
              "      <th></th>\n",
              "      <th></th>\n",
              "      <th></th>\n",
              "      <th></th>\n",
              "      <th></th>\n",
              "      <th></th>\n",
              "      <th></th>\n",
              "    </tr>\n",
              "  </thead>\n",
              "  <tbody>\n",
              "    <tr>\n",
              "      <th>802906</th>\n",
              "      <td>6</td>\n",
              "      <td>487</td>\n",
              "      <td>12198</td>\n",
              "      <td>2</td>\n",
              "      <td>30</td>\n",
              "      <td>6</td>\n",
              "      <td>5</td>\n",
              "      <td>1</td>\n",
              "      <td>1</td>\n",
              "      <td>0</td>\n",
              "      <td>0</td>\n",
              "      <td>0</td>\n",
              "      <td>0</td>\n",
              "      <td>0</td>\n",
              "      <td>0</td>\n",
              "      <td>0</td>\n",
              "      <td>0</td>\n",
              "      <td>0</td>\n",
              "      <td>0</td>\n",
              "      <td>0</td>\n",
              "      <td>0</td>\n",
              "      <td>0.33</td>\n",
              "      <td>0.40</td>\n",
              "      <td>0.83</td>\n",
              "      <td>60</td>\n",
              "      <td>1</td>\n",
              "      <td>0</td>\n",
              "      <td>0</td>\n",
              "      <td>1</td>\n",
              "      <td>0</td>\n",
              "      <td>0</td>\n",
              "      <td>1</td>\n",
              "      <td>0</td>\n",
              "      <td>0</td>\n",
              "      <td>1</td>\n",
              "      <td>0</td>\n",
              "      <td>0</td>\n",
              "      <td>1</td>\n",
              "      <td>0</td>\n",
              "      <td>0</td>\n",
              "      <td>0</td>\n",
              "      <td>0</td>\n",
              "      <td>0</td>\n",
              "      <td>1</td>\n",
              "      <td>0</td>\n",
              "      <td>0</td>\n",
              "      <td>0</td>\n",
              "      <td>0</td>\n",
              "      <td>0</td>\n",
              "      <td>1</td>\n",
              "      <td>0</td>\n",
              "      <td>0</td>\n",
              "      <td>1</td>\n",
              "      <td>0</td>\n",
              "      <td>0</td>\n",
              "      <td>0</td>\n",
              "      <td>0</td>\n",
              "      <td>0</td>\n",
              "      <td>0</td>\n",
              "      <td>0</td>\n",
              "    </tr>\n",
              "    <tr>\n",
              "      <th>28830</th>\n",
              "      <td>8</td>\n",
              "      <td>900</td>\n",
              "      <td>2812</td>\n",
              "      <td>2</td>\n",
              "      <td>10</td>\n",
              "      <td>8</td>\n",
              "      <td>7</td>\n",
              "      <td>0</td>\n",
              "      <td>1</td>\n",
              "      <td>0</td>\n",
              "      <td>0</td>\n",
              "      <td>0</td>\n",
              "      <td>0</td>\n",
              "      <td>0</td>\n",
              "      <td>0</td>\n",
              "      <td>0</td>\n",
              "      <td>0</td>\n",
              "      <td>0</td>\n",
              "      <td>0</td>\n",
              "      <td>0</td>\n",
              "      <td>0</td>\n",
              "      <td>0.25</td>\n",
              "      <td>0.29</td>\n",
              "      <td>0.88</td>\n",
              "      <td>20</td>\n",
              "      <td>1</td>\n",
              "      <td>0</td>\n",
              "      <td>1</td>\n",
              "      <td>0</td>\n",
              "      <td>0</td>\n",
              "      <td>0</td>\n",
              "      <td>1</td>\n",
              "      <td>0</td>\n",
              "      <td>0</td>\n",
              "      <td>1</td>\n",
              "      <td>0</td>\n",
              "      <td>0</td>\n",
              "      <td>0</td>\n",
              "      <td>0</td>\n",
              "      <td>0</td>\n",
              "      <td>1</td>\n",
              "      <td>0</td>\n",
              "      <td>0</td>\n",
              "      <td>1</td>\n",
              "      <td>0</td>\n",
              "      <td>0</td>\n",
              "      <td>0</td>\n",
              "      <td>0</td>\n",
              "      <td>1</td>\n",
              "      <td>0</td>\n",
              "      <td>0</td>\n",
              "      <td>0</td>\n",
              "      <td>1</td>\n",
              "      <td>0</td>\n",
              "      <td>0</td>\n",
              "      <td>0</td>\n",
              "      <td>0</td>\n",
              "      <td>0</td>\n",
              "      <td>0</td>\n",
              "      <td>0</td>\n",
              "    </tr>\n",
              "    <tr>\n",
              "      <th>94947</th>\n",
              "      <td>21</td>\n",
              "      <td>363</td>\n",
              "      <td>8973</td>\n",
              "      <td>2</td>\n",
              "      <td>10</td>\n",
              "      <td>5</td>\n",
              "      <td>5</td>\n",
              "      <td>0</td>\n",
              "      <td>1</td>\n",
              "      <td>0</td>\n",
              "      <td>0</td>\n",
              "      <td>0</td>\n",
              "      <td>0</td>\n",
              "      <td>0</td>\n",
              "      <td>0</td>\n",
              "      <td>0</td>\n",
              "      <td>0</td>\n",
              "      <td>0</td>\n",
              "      <td>0</td>\n",
              "      <td>0</td>\n",
              "      <td>0</td>\n",
              "      <td>0.40</td>\n",
              "      <td>0.40</td>\n",
              "      <td>1.00</td>\n",
              "      <td>20</td>\n",
              "      <td>1</td>\n",
              "      <td>0</td>\n",
              "      <td>0</td>\n",
              "      <td>1</td>\n",
              "      <td>0</td>\n",
              "      <td>0</td>\n",
              "      <td>1</td>\n",
              "      <td>0</td>\n",
              "      <td>0</td>\n",
              "      <td>1</td>\n",
              "      <td>0</td>\n",
              "      <td>0</td>\n",
              "      <td>1</td>\n",
              "      <td>0</td>\n",
              "      <td>0</td>\n",
              "      <td>0</td>\n",
              "      <td>0</td>\n",
              "      <td>0</td>\n",
              "      <td>0</td>\n",
              "      <td>0</td>\n",
              "      <td>1</td>\n",
              "      <td>0</td>\n",
              "      <td>0</td>\n",
              "      <td>0</td>\n",
              "      <td>1</td>\n",
              "      <td>0</td>\n",
              "      <td>0</td>\n",
              "      <td>1</td>\n",
              "      <td>0</td>\n",
              "      <td>0</td>\n",
              "      <td>0</td>\n",
              "      <td>0</td>\n",
              "      <td>0</td>\n",
              "      <td>0</td>\n",
              "      <td>0</td>\n",
              "    </tr>\n",
              "    <tr>\n",
              "      <th>590882</th>\n",
              "      <td>22</td>\n",
              "      <td>418</td>\n",
              "      <td>10694</td>\n",
              "      <td>2</td>\n",
              "      <td>10</td>\n",
              "      <td>6</td>\n",
              "      <td>5</td>\n",
              "      <td>0</td>\n",
              "      <td>1</td>\n",
              "      <td>0</td>\n",
              "      <td>0</td>\n",
              "      <td>0</td>\n",
              "      <td>0</td>\n",
              "      <td>1</td>\n",
              "      <td>1</td>\n",
              "      <td>0</td>\n",
              "      <td>0</td>\n",
              "      <td>0</td>\n",
              "      <td>0</td>\n",
              "      <td>0</td>\n",
              "      <td>0</td>\n",
              "      <td>0.33</td>\n",
              "      <td>0.40</td>\n",
              "      <td>0.83</td>\n",
              "      <td>20</td>\n",
              "      <td>1</td>\n",
              "      <td>0</td>\n",
              "      <td>0</td>\n",
              "      <td>1</td>\n",
              "      <td>0</td>\n",
              "      <td>0</td>\n",
              "      <td>1</td>\n",
              "      <td>0</td>\n",
              "      <td>0</td>\n",
              "      <td>1</td>\n",
              "      <td>0</td>\n",
              "      <td>0</td>\n",
              "      <td>1</td>\n",
              "      <td>0</td>\n",
              "      <td>0</td>\n",
              "      <td>0</td>\n",
              "      <td>0</td>\n",
              "      <td>0</td>\n",
              "      <td>0</td>\n",
              "      <td>0</td>\n",
              "      <td>1</td>\n",
              "      <td>0</td>\n",
              "      <td>0</td>\n",
              "      <td>1</td>\n",
              "      <td>0</td>\n",
              "      <td>0</td>\n",
              "      <td>0</td>\n",
              "      <td>1</td>\n",
              "      <td>0</td>\n",
              "      <td>0</td>\n",
              "      <td>0</td>\n",
              "      <td>0</td>\n",
              "      <td>0</td>\n",
              "      <td>0</td>\n",
              "      <td>0</td>\n",
              "    </tr>\n",
              "    <tr>\n",
              "      <th>201944</th>\n",
              "      <td>11</td>\n",
              "      <td>131</td>\n",
              "      <td>1488</td>\n",
              "      <td>3</td>\n",
              "      <td>30</td>\n",
              "      <td>8</td>\n",
              "      <td>9</td>\n",
              "      <td>1</td>\n",
              "      <td>0</td>\n",
              "      <td>0</td>\n",
              "      <td>0</td>\n",
              "      <td>0</td>\n",
              "      <td>0</td>\n",
              "      <td>0</td>\n",
              "      <td>0</td>\n",
              "      <td>0</td>\n",
              "      <td>0</td>\n",
              "      <td>0</td>\n",
              "      <td>0</td>\n",
              "      <td>0</td>\n",
              "      <td>0</td>\n",
              "      <td>0.38</td>\n",
              "      <td>0.33</td>\n",
              "      <td>1.12</td>\n",
              "      <td>90</td>\n",
              "      <td>1</td>\n",
              "      <td>0</td>\n",
              "      <td>0</td>\n",
              "      <td>1</td>\n",
              "      <td>0</td>\n",
              "      <td>0</td>\n",
              "      <td>1</td>\n",
              "      <td>0</td>\n",
              "      <td>0</td>\n",
              "      <td>1</td>\n",
              "      <td>0</td>\n",
              "      <td>0</td>\n",
              "      <td>1</td>\n",
              "      <td>0</td>\n",
              "      <td>0</td>\n",
              "      <td>0</td>\n",
              "      <td>0</td>\n",
              "      <td>0</td>\n",
              "      <td>0</td>\n",
              "      <td>0</td>\n",
              "      <td>1</td>\n",
              "      <td>0</td>\n",
              "      <td>0</td>\n",
              "      <td>1</td>\n",
              "      <td>0</td>\n",
              "      <td>0</td>\n",
              "      <td>0</td>\n",
              "      <td>1</td>\n",
              "      <td>0</td>\n",
              "      <td>0</td>\n",
              "      <td>0</td>\n",
              "      <td>0</td>\n",
              "      <td>0</td>\n",
              "      <td>0</td>\n",
              "      <td>0</td>\n",
              "    </tr>\n",
              "  </tbody>\n",
              "</table>\n",
              "</div>"
            ],
            "text/plain": [
              "             geo_level_1_id  ...  plan_configuration_u\n",
              "building_id                  ...                      \n",
              "802906                    6  ...                     0\n",
              "28830                     8  ...                     0\n",
              "94947                    21  ...                     0\n",
              "590882                   22  ...                     0\n",
              "201944                   11  ...                     0\n",
              "\n",
              "[5 rows x 60 columns]"
            ]
          },
          "metadata": {
            "tags": []
          },
          "execution_count": 42
        }
      ]
    },
    {
      "cell_type": "code",
      "metadata": {
        "id": "RAnKx_SIJbMS"
      },
      "source": [
        "from sklearn.model_selection import train_test_split\n",
        "X_train,X_test,y_train,y_test = train_test_split(train_values_subset,train_labels,test_size=0.2,train_size=0.8)"
      ],
      "execution_count": null,
      "outputs": []
    },
    {
      "cell_type": "code",
      "metadata": {
        "colab": {
          "base_uri": "https://localhost:8080/"
        },
        "id": "nAWft8BmJbMS",
        "outputId": "d7e8854e-ea2c-44df-d661-137dc28eca57"
      },
      "source": [
        "HGS.fit(X_train,y_train)"
      ],
      "execution_count": null,
      "outputs": [
        {
          "output_type": "execute_result",
          "data": {
            "text/plain": [
              "HalvingGridSearchCV(estimator=XGBClassifier(objetive='multi:softprob',\n",
              "                                            seed=123),\n",
              "                    n_jobs=-1,\n",
              "                    param_grid={'base_score': [0.5], 'colsample_bytree': [0.6],\n",
              "                                'learning_rate': [0.1], 'max_delta_step': [1],\n",
              "                                'max_depth': [13], 'n_estimators': [150],\n",
              "                                'subsample': [0.8]},\n",
              "                    refit=<function _refit_callable at 0x7fbe441f27a0>,\n",
              "                    scoring='f1_micro')"
            ]
          },
          "metadata": {
            "tags": []
          },
          "execution_count": 44
        }
      ]
    },
    {
      "cell_type": "code",
      "metadata": {
        "colab": {
          "base_uri": "https://localhost:8080/"
        },
        "id": "7IQ79ITqJbMT",
        "outputId": "4857565c-e76b-4326-f42b-62e6f80a5843"
      },
      "source": [
        "HGS.best_params_"
      ],
      "execution_count": null,
      "outputs": [
        {
          "output_type": "execute_result",
          "data": {
            "text/plain": [
              "{'base_score': 0.5,\n",
              " 'colsample_bytree': 0.6,\n",
              " 'learning_rate': 0.1,\n",
              " 'max_delta_step': 1,\n",
              " 'max_depth': 13,\n",
              " 'n_estimators': 150,\n",
              " 'subsample': 0.8}"
            ]
          },
          "metadata": {
            "tags": []
          },
          "execution_count": 53
        }
      ]
    },
    {
      "cell_type": "code",
      "metadata": {
        "id": "9Q2yteH7JbMT"
      },
      "source": [
        "preds = HGS.predict(X_test)"
      ],
      "execution_count": null,
      "outputs": []
    },
    {
      "cell_type": "code",
      "metadata": {
        "colab": {
          "base_uri": "https://localhost:8080/"
        },
        "id": "icxFS08eJbMT",
        "outputId": "e2f2ff53-e143-4d12-828a-b2d616c2520e"
      },
      "source": [
        "from sklearn.metrics import f1_score\n",
        "\n",
        "\n",
        "f1_score(y_test, preds, average='micro')"
      ],
      "execution_count": null,
      "outputs": [
        {
          "output_type": "execute_result",
          "data": {
            "text/plain": [
              "0.7452466376316649"
            ]
          },
          "metadata": {
            "tags": []
          },
          "execution_count": 55
        }
      ]
    },
    {
      "cell_type": "code",
      "metadata": {
        "id": "B6CfwPjsJbMT"
      },
      "source": [
        "test_values_subset = test_values[selected_features]\n",
        "\n",
        "\n",
        "test_values_subset[\"age\"] = winsorize(test_values_subset[\"age\"],(0, 0.05))\n",
        "test_values_subset[\"area_percentage\"] = winsorize(test_values_subset[\"area_percentage\"],(0, 0.055))\n",
        "test_values_subset[\"height_percentage\"] = winsorize(test_values_subset[\"height_percentage\"],(0, 0.04))\n",
        "\n",
        "\n",
        "test_values_subset[\"floors/area_p\"] = test_values_subset[\"count_floors_pre_eq\"]/test_values_subset[\"area_percentage\"]\n",
        "test_values_subset[\"floors/height_p\"] = test_values_subset[\"count_floors_pre_eq\"]/test_values_subset[\"height_percentage\"]\n",
        "test_values_subset[\"height_p/area_p\"] = test_values_subset[\"height_percentage\"]/test_values_subset[\"area_percentage\"]\n",
        "test_values_subset[\"age*floors\"] = test_values_subset[\"age\"]*test_values_subset[\"count_floors_pre_eq\"]\n",
        "\n",
        "test_values_subset[\"doesnt_have_secondary_use\"] = 1-test_values_subset[\"has_secondary_use\"]\n",
        "del test_values_subset[\"has_secondary_use\"]\n",
        "test_values_subset[\"has_secondary_use_other\"]  = test_values_subset[\"has_secondary_use_other\"]  |  test_values_subset[\"has_secondary_use_rental\"] |  test_values_subset[\"has_secondary_use_use_police\"] |  test_values_subset[\"has_secondary_use_institution\"]|  test_values_subset[\"has_secondary_use_school\"]|  test_values_subset[\"has_secondary_use_industry\"]|  test_values_subset[\"has_secondary_use_health_post\"]|  test_values_subset[\"has_secondary_use_gov_office\"]\n",
        "del test_values_subset[\"has_secondary_use_rental\"]\n",
        "del test_values_subset[\"has_secondary_use_institution\"]\n",
        "del test_values_subset[\"has_secondary_use_industry\"]\n",
        "del test_values_subset[\"has_secondary_use_health_post\"]\n",
        "del test_values_subset[\"has_secondary_use_gov_office\"]\n",
        "del test_values_subset[\"has_secondary_use_use_police\"]\n",
        "del test_values_subset[\"has_secondary_use_school\"]\n",
        "\n",
        "test_values_subset = pd.get_dummies(test_values_subset)\n",
        "\n",
        "\n",
        "predictions = HGS.predict(test_values_subset)"
      ],
      "execution_count": null,
      "outputs": []
    },
    {
      "cell_type": "code",
      "metadata": {
        "id": "82Ivh-oAJbMU"
      },
      "source": [
        "submission_format = pd.read_csv('submission_format.csv', encoding='latin1',sep=',', index_col='building_id')\n",
        "my_submission = pd.DataFrame(data=predictions,\n",
        "                             columns=submission_format.columns,\n",
        "                             index=submission_format.index)"
      ],
      "execution_count": null,
      "outputs": []
    },
    {
      "cell_type": "code",
      "metadata": {
        "colab": {
          "base_uri": "https://localhost:8080/",
          "height": 234
        },
        "id": "ftujLVBAJbMU",
        "outputId": "29151d43-9d13-478b-8dcf-695289ae989c"
      },
      "source": [
        "my_submission.head()"
      ],
      "execution_count": null,
      "outputs": [
        {
          "output_type": "execute_result",
          "data": {
            "text/html": [
              "<div>\n",
              "<style scoped>\n",
              "    .dataframe tbody tr th:only-of-type {\n",
              "        vertical-align: middle;\n",
              "    }\n",
              "\n",
              "    .dataframe tbody tr th {\n",
              "        vertical-align: top;\n",
              "    }\n",
              "\n",
              "    .dataframe thead th {\n",
              "        text-align: right;\n",
              "    }\n",
              "</style>\n",
              "<table border=\"1\" class=\"dataframe\">\n",
              "  <thead>\n",
              "    <tr style=\"text-align: right;\">\n",
              "      <th></th>\n",
              "      <th>damage_grade</th>\n",
              "    </tr>\n",
              "    <tr>\n",
              "      <th>building_id</th>\n",
              "      <th></th>\n",
              "    </tr>\n",
              "  </thead>\n",
              "  <tbody>\n",
              "    <tr>\n",
              "      <th>300051</th>\n",
              "      <td>3</td>\n",
              "    </tr>\n",
              "    <tr>\n",
              "      <th>99355</th>\n",
              "      <td>2</td>\n",
              "    </tr>\n",
              "    <tr>\n",
              "      <th>890251</th>\n",
              "      <td>2</td>\n",
              "    </tr>\n",
              "    <tr>\n",
              "      <th>745817</th>\n",
              "      <td>1</td>\n",
              "    </tr>\n",
              "    <tr>\n",
              "      <th>421793</th>\n",
              "      <td>3</td>\n",
              "    </tr>\n",
              "  </tbody>\n",
              "</table>\n",
              "</div>"
            ],
            "text/plain": [
              "             damage_grade\n",
              "building_id              \n",
              "300051                  3\n",
              "99355                   2\n",
              "890251                  2\n",
              "745817                  1\n",
              "421793                  3"
            ]
          },
          "metadata": {
            "tags": []
          },
          "execution_count": 58
        }
      ]
    },
    {
      "cell_type": "code",
      "metadata": {
        "colab": {
          "base_uri": "https://localhost:8080/"
        },
        "id": "WewhlrIWJbMU",
        "outputId": "4549a10a-8222-4a41-a41c-2612293f0879"
      },
      "source": [
        "my_submission.to_csv('submission.csv')\n",
        "!head submission.csv"
      ],
      "execution_count": null,
      "outputs": [
        {
          "output_type": "stream",
          "text": [
            "building_id,damage_grade\n",
            "300051,3\n",
            "99355,2\n",
            "890251,2\n",
            "745817,1\n",
            "421793,3\n",
            "871976,2\n",
            "691228,1\n",
            "896100,3\n",
            "343471,2\n"
          ],
          "name": "stdout"
        }
      ]
    },
    {
      "cell_type": "code",
      "metadata": {
        "colab": {
          "base_uri": "https://localhost:8080/",
          "height": 17
        },
        "id": "f__pFMqGJbMU",
        "outputId": "73f0e116-231c-4c8e-d435-1279cd39a766"
      },
      "source": [
        "from google.colab import files\n",
        "files.download(\"submission.csv\")"
      ],
      "execution_count": null,
      "outputs": [
        {
          "output_type": "display_data",
          "data": {
            "application/javascript": [
              "\n",
              "    async function download(id, filename, size) {\n",
              "      if (!google.colab.kernel.accessAllowed) {\n",
              "        return;\n",
              "      }\n",
              "      const div = document.createElement('div');\n",
              "      const label = document.createElement('label');\n",
              "      label.textContent = `Downloading \"${filename}\": `;\n",
              "      div.appendChild(label);\n",
              "      const progress = document.createElement('progress');\n",
              "      progress.max = size;\n",
              "      div.appendChild(progress);\n",
              "      document.body.appendChild(div);\n",
              "\n",
              "      const buffers = [];\n",
              "      let downloaded = 0;\n",
              "\n",
              "      const channel = await google.colab.kernel.comms.open(id);\n",
              "      // Send a message to notify the kernel that we're ready.\n",
              "      channel.send({})\n",
              "\n",
              "      for await (const message of channel.messages) {\n",
              "        // Send a message to notify the kernel that we're ready.\n",
              "        channel.send({})\n",
              "        if (message.buffers) {\n",
              "          for (const buffer of message.buffers) {\n",
              "            buffers.push(buffer);\n",
              "            downloaded += buffer.byteLength;\n",
              "            progress.value = downloaded;\n",
              "          }\n",
              "        }\n",
              "      }\n",
              "      const blob = new Blob(buffers, {type: 'application/binary'});\n",
              "      const a = document.createElement('a');\n",
              "      a.href = window.URL.createObjectURL(blob);\n",
              "      a.download = filename;\n",
              "      div.appendChild(a);\n",
              "      a.click();\n",
              "      div.remove();\n",
              "    }\n",
              "  "
            ],
            "text/plain": [
              "<IPython.core.display.Javascript object>"
            ]
          },
          "metadata": {
            "tags": []
          }
        },
        {
          "output_type": "display_data",
          "data": {
            "application/javascript": [
              "download(\"download_a156902d-f9f3-4a74-b88c-51c25f50edbe\", \"submission.csv\", 777012)"
            ],
            "text/plain": [
              "<IPython.core.display.Javascript object>"
            ]
          },
          "metadata": {
            "tags": []
          }
        }
      ]
    },
    {
      "cell_type": "code",
      "metadata": {
        "id": "_z-Pl2RGjv-4"
      },
      "source": [
        "#instancio el regresor\n",
        "from sklearn.experimental import enable_halving_search_cv\n",
        "from sklearn.model_selection import HalvingGridSearchCV\n",
        "\n",
        "xgb_reg = xgb.XGBClassifier(objetive=\"multi:softprob\",seed = 123)"
      ],
      "execution_count": null,
      "outputs": []
    },
    {
      "cell_type": "code",
      "metadata": {
        "id": "pTyMxMzzjv-5"
      },
      "source": [
        "parameters = {'base_score':[0.5] ,\n",
        " 'colsample_bytree': [0.6],\n",
        " 'learning_rate': [0.1],\n",
        " 'max_delta_step': [1],\n",
        " 'max_depth': [10,13],\n",
        " 'n_estimators': [100],\n",
        " 'subsample': [0.8]}\n",
        "\n"
      ],
      "execution_count": null,
      "outputs": []
    },
    {
      "cell_type": "code",
      "metadata": {
        "id": "RsA4-bUnjv-5"
      },
      "source": [
        "HGS = HalvingGridSearchCV(xgb_reg, parameters, scoring = 'f1_micro', n_jobs=-1, cv=5)"
      ],
      "execution_count": null,
      "outputs": []
    },
    {
      "cell_type": "code",
      "metadata": {
        "colab": {
          "base_uri": "https://localhost:8080/",
          "height": 254
        },
        "id": "X1DtlGOcjv-5",
        "outputId": "4c472e75-2ca3-4026-92a8-6afd5a9c9278"
      },
      "source": [
        "from scipy.stats.mstats import winsorize\n",
        "\n",
        "selected_features = [\"geo_level_1_id\",\"geo_level_2_id\",\"geo_level_3_id\",\t\"count_floors_pre_eq\"\t,\"age\"\t,\"area_percentage\"\t,\"height_percentage\",\t\"has_superstructure_adobe_mud\"\t,\"has_superstructure_mud_mortar_stone\",\t\"has_superstructure_stone_flag\"\t,\"has_superstructure_cement_mortar_stone\",\t\"has_superstructure_mud_mortar_brick\",\t\"has_superstructure_cement_mortar_brick\",\t\"has_superstructure_timber\"\t,\"has_superstructure_bamboo\"\t,\"has_superstructure_rc_non_engineered\",\t\"has_superstructure_rc_engineered\"\t,\"has_superstructure_other\",\"land_surface_condition\",\t\"foundation_type\",\t\"roof_type\",\t\"ground_floor_type\",\t\"other_floor_type\",\t\"position\"\t,\"plan_configuration\",\"has_secondary_use\",\t\"has_secondary_use_agriculture\"\t,\"has_secondary_use_hotel\",\t\"has_secondary_use_rental\",\t\"has_secondary_use_institution\"\t,\"has_secondary_use_school\",\t\"has_secondary_use_industry\"\t,\"has_secondary_use_health_post\"\t,\"has_secondary_use_gov_office\",\t\"has_secondary_use_use_police\"\t,\"has_secondary_use_other\"]\n",
        "train_values_subset = train_values[selected_features]\n",
        "\n",
        "train_values_subset[\"age\"] = winsorize(train_values_subset[\"age\"],(0, 0.05))\n",
        "train_values_subset[\"area_percentage\"] = winsorize(train_values_subset[\"area_percentage\"],(0, 0.055))\n",
        "train_values_subset[\"height_percentage\"] = winsorize(train_values_subset[\"height_percentage\"],(0, 0.04))\n",
        "\n",
        "\n",
        "\n",
        "train_values_subset[\"floors/area_p\"] = train_values_subset[\"count_floors_pre_eq\"]/train_values_subset[\"area_percentage\"]\n",
        "train_values_subset[\"floors/height_p\"] = train_values_subset[\"count_floors_pre_eq\"]/train_values_subset[\"height_percentage\"]\n",
        "train_values_subset[\"height_p/area_p\"] = train_values_subset[\"height_percentage\"]/train_values_subset[\"area_percentage\"]\n",
        "train_values_subset[\"age*floors\"] = train_values_subset[\"age\"]*train_values_subset[\"count_floors_pre_eq\"]\n",
        "\n",
        "\n",
        "train_values_subset[\"doesnt_have_secondary_use\"] = 1-train_values_subset[\"has_secondary_use\"]\n",
        "del train_values_subset[\"has_secondary_use\"]\n",
        "train_values_subset[\"has_secondary_use_other\"]  = train_values_subset[\"has_secondary_use_other\"]  |  train_values_subset[\"has_secondary_use_rental\"] |  train_values_subset[\"has_secondary_use_use_police\"] |  train_values_subset[\"has_secondary_use_institution\"]|  train_values_subset[\"has_secondary_use_school\"]|  train_values_subset[\"has_secondary_use_industry\"]|  train_values_subset[\"has_secondary_use_health_post\"]|  train_values_subset[\"has_secondary_use_gov_office\"]\n",
        "del train_values_subset[\"has_secondary_use_rental\"]\n",
        "del train_values_subset[\"has_secondary_use_institution\"]\n",
        "del train_values_subset[\"has_secondary_use_industry\"]\n",
        "del train_values_subset[\"has_secondary_use_health_post\"]\n",
        "del train_values_subset[\"has_secondary_use_gov_office\"]\n",
        "del train_values_subset[\"has_secondary_use_use_police\"]\n",
        "del train_values_subset[\"has_secondary_use_school\"]\n",
        "\n",
        "train_values_subset = pd.get_dummies(train_values_subset)\n",
        "train_values_subset.head()\n",
        "\n",
        "\n"
      ],
      "execution_count": null,
      "outputs": [
        {
          "output_type": "execute_result",
          "data": {
            "text/html": [
              "<div>\n",
              "<style scoped>\n",
              "    .dataframe tbody tr th:only-of-type {\n",
              "        vertical-align: middle;\n",
              "    }\n",
              "\n",
              "    .dataframe tbody tr th {\n",
              "        vertical-align: top;\n",
              "    }\n",
              "\n",
              "    .dataframe thead th {\n",
              "        text-align: right;\n",
              "    }\n",
              "</style>\n",
              "<table border=\"1\" class=\"dataframe\">\n",
              "  <thead>\n",
              "    <tr style=\"text-align: right;\">\n",
              "      <th></th>\n",
              "      <th>geo_level_1_id</th>\n",
              "      <th>geo_level_2_id</th>\n",
              "      <th>geo_level_3_id</th>\n",
              "      <th>count_floors_pre_eq</th>\n",
              "      <th>age</th>\n",
              "      <th>area_percentage</th>\n",
              "      <th>height_percentage</th>\n",
              "      <th>has_superstructure_adobe_mud</th>\n",
              "      <th>has_superstructure_mud_mortar_stone</th>\n",
              "      <th>has_superstructure_stone_flag</th>\n",
              "      <th>has_superstructure_cement_mortar_stone</th>\n",
              "      <th>has_superstructure_mud_mortar_brick</th>\n",
              "      <th>has_superstructure_cement_mortar_brick</th>\n",
              "      <th>has_superstructure_timber</th>\n",
              "      <th>has_superstructure_bamboo</th>\n",
              "      <th>has_superstructure_rc_non_engineered</th>\n",
              "      <th>has_superstructure_rc_engineered</th>\n",
              "      <th>has_superstructure_other</th>\n",
              "      <th>has_secondary_use_agriculture</th>\n",
              "      <th>has_secondary_use_hotel</th>\n",
              "      <th>has_secondary_use_other</th>\n",
              "      <th>floors/area_p</th>\n",
              "      <th>floors/height_p</th>\n",
              "      <th>height_p/area_p</th>\n",
              "      <th>age*floors</th>\n",
              "      <th>doesnt_have_secondary_use</th>\n",
              "      <th>land_surface_condition_n</th>\n",
              "      <th>land_surface_condition_o</th>\n",
              "      <th>land_surface_condition_t</th>\n",
              "      <th>foundation_type_h</th>\n",
              "      <th>foundation_type_i</th>\n",
              "      <th>foundation_type_r</th>\n",
              "      <th>foundation_type_u</th>\n",
              "      <th>foundation_type_w</th>\n",
              "      <th>roof_type_n</th>\n",
              "      <th>roof_type_q</th>\n",
              "      <th>roof_type_x</th>\n",
              "      <th>ground_floor_type_f</th>\n",
              "      <th>ground_floor_type_m</th>\n",
              "      <th>ground_floor_type_v</th>\n",
              "      <th>ground_floor_type_x</th>\n",
              "      <th>ground_floor_type_z</th>\n",
              "      <th>other_floor_type_j</th>\n",
              "      <th>other_floor_type_q</th>\n",
              "      <th>other_floor_type_s</th>\n",
              "      <th>other_floor_type_x</th>\n",
              "      <th>position_j</th>\n",
              "      <th>position_o</th>\n",
              "      <th>position_s</th>\n",
              "      <th>position_t</th>\n",
              "      <th>plan_configuration_a</th>\n",
              "      <th>plan_configuration_c</th>\n",
              "      <th>plan_configuration_d</th>\n",
              "      <th>plan_configuration_f</th>\n",
              "      <th>plan_configuration_m</th>\n",
              "      <th>plan_configuration_n</th>\n",
              "      <th>plan_configuration_o</th>\n",
              "      <th>plan_configuration_q</th>\n",
              "      <th>plan_configuration_s</th>\n",
              "      <th>plan_configuration_u</th>\n",
              "    </tr>\n",
              "    <tr>\n",
              "      <th>building_id</th>\n",
              "      <th></th>\n",
              "      <th></th>\n",
              "      <th></th>\n",
              "      <th></th>\n",
              "      <th></th>\n",
              "      <th></th>\n",
              "      <th></th>\n",
              "      <th></th>\n",
              "      <th></th>\n",
              "      <th></th>\n",
              "      <th></th>\n",
              "      <th></th>\n",
              "      <th></th>\n",
              "      <th></th>\n",
              "      <th></th>\n",
              "      <th></th>\n",
              "      <th></th>\n",
              "      <th></th>\n",
              "      <th></th>\n",
              "      <th></th>\n",
              "      <th></th>\n",
              "      <th></th>\n",
              "      <th></th>\n",
              "      <th></th>\n",
              "      <th></th>\n",
              "      <th></th>\n",
              "      <th></th>\n",
              "      <th></th>\n",
              "      <th></th>\n",
              "      <th></th>\n",
              "      <th></th>\n",
              "      <th></th>\n",
              "      <th></th>\n",
              "      <th></th>\n",
              "      <th></th>\n",
              "      <th></th>\n",
              "      <th></th>\n",
              "      <th></th>\n",
              "      <th></th>\n",
              "      <th></th>\n",
              "      <th></th>\n",
              "      <th></th>\n",
              "      <th></th>\n",
              "      <th></th>\n",
              "      <th></th>\n",
              "      <th></th>\n",
              "      <th></th>\n",
              "      <th></th>\n",
              "      <th></th>\n",
              "      <th></th>\n",
              "      <th></th>\n",
              "      <th></th>\n",
              "      <th></th>\n",
              "      <th></th>\n",
              "      <th></th>\n",
              "      <th></th>\n",
              "      <th></th>\n",
              "      <th></th>\n",
              "      <th></th>\n",
              "      <th></th>\n",
              "    </tr>\n",
              "  </thead>\n",
              "  <tbody>\n",
              "    <tr>\n",
              "      <th>802906</th>\n",
              "      <td>6</td>\n",
              "      <td>487</td>\n",
              "      <td>12198</td>\n",
              "      <td>2</td>\n",
              "      <td>30</td>\n",
              "      <td>6</td>\n",
              "      <td>5</td>\n",
              "      <td>1</td>\n",
              "      <td>1</td>\n",
              "      <td>0</td>\n",
              "      <td>0</td>\n",
              "      <td>0</td>\n",
              "      <td>0</td>\n",
              "      <td>0</td>\n",
              "      <td>0</td>\n",
              "      <td>0</td>\n",
              "      <td>0</td>\n",
              "      <td>0</td>\n",
              "      <td>0</td>\n",
              "      <td>0</td>\n",
              "      <td>0</td>\n",
              "      <td>0.33</td>\n",
              "      <td>0.40</td>\n",
              "      <td>0.83</td>\n",
              "      <td>60</td>\n",
              "      <td>1</td>\n",
              "      <td>0</td>\n",
              "      <td>0</td>\n",
              "      <td>1</td>\n",
              "      <td>0</td>\n",
              "      <td>0</td>\n",
              "      <td>1</td>\n",
              "      <td>0</td>\n",
              "      <td>0</td>\n",
              "      <td>1</td>\n",
              "      <td>0</td>\n",
              "      <td>0</td>\n",
              "      <td>1</td>\n",
              "      <td>0</td>\n",
              "      <td>0</td>\n",
              "      <td>0</td>\n",
              "      <td>0</td>\n",
              "      <td>0</td>\n",
              "      <td>1</td>\n",
              "      <td>0</td>\n",
              "      <td>0</td>\n",
              "      <td>0</td>\n",
              "      <td>0</td>\n",
              "      <td>0</td>\n",
              "      <td>1</td>\n",
              "      <td>0</td>\n",
              "      <td>0</td>\n",
              "      <td>1</td>\n",
              "      <td>0</td>\n",
              "      <td>0</td>\n",
              "      <td>0</td>\n",
              "      <td>0</td>\n",
              "      <td>0</td>\n",
              "      <td>0</td>\n",
              "      <td>0</td>\n",
              "    </tr>\n",
              "    <tr>\n",
              "      <th>28830</th>\n",
              "      <td>8</td>\n",
              "      <td>900</td>\n",
              "      <td>2812</td>\n",
              "      <td>2</td>\n",
              "      <td>10</td>\n",
              "      <td>8</td>\n",
              "      <td>7</td>\n",
              "      <td>0</td>\n",
              "      <td>1</td>\n",
              "      <td>0</td>\n",
              "      <td>0</td>\n",
              "      <td>0</td>\n",
              "      <td>0</td>\n",
              "      <td>0</td>\n",
              "      <td>0</td>\n",
              "      <td>0</td>\n",
              "      <td>0</td>\n",
              "      <td>0</td>\n",
              "      <td>0</td>\n",
              "      <td>0</td>\n",
              "      <td>0</td>\n",
              "      <td>0.25</td>\n",
              "      <td>0.29</td>\n",
              "      <td>0.88</td>\n",
              "      <td>20</td>\n",
              "      <td>1</td>\n",
              "      <td>0</td>\n",
              "      <td>1</td>\n",
              "      <td>0</td>\n",
              "      <td>0</td>\n",
              "      <td>0</td>\n",
              "      <td>1</td>\n",
              "      <td>0</td>\n",
              "      <td>0</td>\n",
              "      <td>1</td>\n",
              "      <td>0</td>\n",
              "      <td>0</td>\n",
              "      <td>0</td>\n",
              "      <td>0</td>\n",
              "      <td>0</td>\n",
              "      <td>1</td>\n",
              "      <td>0</td>\n",
              "      <td>0</td>\n",
              "      <td>1</td>\n",
              "      <td>0</td>\n",
              "      <td>0</td>\n",
              "      <td>0</td>\n",
              "      <td>0</td>\n",
              "      <td>1</td>\n",
              "      <td>0</td>\n",
              "      <td>0</td>\n",
              "      <td>0</td>\n",
              "      <td>1</td>\n",
              "      <td>0</td>\n",
              "      <td>0</td>\n",
              "      <td>0</td>\n",
              "      <td>0</td>\n",
              "      <td>0</td>\n",
              "      <td>0</td>\n",
              "      <td>0</td>\n",
              "    </tr>\n",
              "    <tr>\n",
              "      <th>94947</th>\n",
              "      <td>21</td>\n",
              "      <td>363</td>\n",
              "      <td>8973</td>\n",
              "      <td>2</td>\n",
              "      <td>10</td>\n",
              "      <td>5</td>\n",
              "      <td>5</td>\n",
              "      <td>0</td>\n",
              "      <td>1</td>\n",
              "      <td>0</td>\n",
              "      <td>0</td>\n",
              "      <td>0</td>\n",
              "      <td>0</td>\n",
              "      <td>0</td>\n",
              "      <td>0</td>\n",
              "      <td>0</td>\n",
              "      <td>0</td>\n",
              "      <td>0</td>\n",
              "      <td>0</td>\n",
              "      <td>0</td>\n",
              "      <td>0</td>\n",
              "      <td>0.40</td>\n",
              "      <td>0.40</td>\n",
              "      <td>1.00</td>\n",
              "      <td>20</td>\n",
              "      <td>1</td>\n",
              "      <td>0</td>\n",
              "      <td>0</td>\n",
              "      <td>1</td>\n",
              "      <td>0</td>\n",
              "      <td>0</td>\n",
              "      <td>1</td>\n",
              "      <td>0</td>\n",
              "      <td>0</td>\n",
              "      <td>1</td>\n",
              "      <td>0</td>\n",
              "      <td>0</td>\n",
              "      <td>1</td>\n",
              "      <td>0</td>\n",
              "      <td>0</td>\n",
              "      <td>0</td>\n",
              "      <td>0</td>\n",
              "      <td>0</td>\n",
              "      <td>0</td>\n",
              "      <td>0</td>\n",
              "      <td>1</td>\n",
              "      <td>0</td>\n",
              "      <td>0</td>\n",
              "      <td>0</td>\n",
              "      <td>1</td>\n",
              "      <td>0</td>\n",
              "      <td>0</td>\n",
              "      <td>1</td>\n",
              "      <td>0</td>\n",
              "      <td>0</td>\n",
              "      <td>0</td>\n",
              "      <td>0</td>\n",
              "      <td>0</td>\n",
              "      <td>0</td>\n",
              "      <td>0</td>\n",
              "    </tr>\n",
              "    <tr>\n",
              "      <th>590882</th>\n",
              "      <td>22</td>\n",
              "      <td>418</td>\n",
              "      <td>10694</td>\n",
              "      <td>2</td>\n",
              "      <td>10</td>\n",
              "      <td>6</td>\n",
              "      <td>5</td>\n",
              "      <td>0</td>\n",
              "      <td>1</td>\n",
              "      <td>0</td>\n",
              "      <td>0</td>\n",
              "      <td>0</td>\n",
              "      <td>0</td>\n",
              "      <td>1</td>\n",
              "      <td>1</td>\n",
              "      <td>0</td>\n",
              "      <td>0</td>\n",
              "      <td>0</td>\n",
              "      <td>0</td>\n",
              "      <td>0</td>\n",
              "      <td>0</td>\n",
              "      <td>0.33</td>\n",
              "      <td>0.40</td>\n",
              "      <td>0.83</td>\n",
              "      <td>20</td>\n",
              "      <td>1</td>\n",
              "      <td>0</td>\n",
              "      <td>0</td>\n",
              "      <td>1</td>\n",
              "      <td>0</td>\n",
              "      <td>0</td>\n",
              "      <td>1</td>\n",
              "      <td>0</td>\n",
              "      <td>0</td>\n",
              "      <td>1</td>\n",
              "      <td>0</td>\n",
              "      <td>0</td>\n",
              "      <td>1</td>\n",
              "      <td>0</td>\n",
              "      <td>0</td>\n",
              "      <td>0</td>\n",
              "      <td>0</td>\n",
              "      <td>0</td>\n",
              "      <td>0</td>\n",
              "      <td>0</td>\n",
              "      <td>1</td>\n",
              "      <td>0</td>\n",
              "      <td>0</td>\n",
              "      <td>1</td>\n",
              "      <td>0</td>\n",
              "      <td>0</td>\n",
              "      <td>0</td>\n",
              "      <td>1</td>\n",
              "      <td>0</td>\n",
              "      <td>0</td>\n",
              "      <td>0</td>\n",
              "      <td>0</td>\n",
              "      <td>0</td>\n",
              "      <td>0</td>\n",
              "      <td>0</td>\n",
              "    </tr>\n",
              "    <tr>\n",
              "      <th>201944</th>\n",
              "      <td>11</td>\n",
              "      <td>131</td>\n",
              "      <td>1488</td>\n",
              "      <td>3</td>\n",
              "      <td>30</td>\n",
              "      <td>8</td>\n",
              "      <td>9</td>\n",
              "      <td>1</td>\n",
              "      <td>0</td>\n",
              "      <td>0</td>\n",
              "      <td>0</td>\n",
              "      <td>0</td>\n",
              "      <td>0</td>\n",
              "      <td>0</td>\n",
              "      <td>0</td>\n",
              "      <td>0</td>\n",
              "      <td>0</td>\n",
              "      <td>0</td>\n",
              "      <td>0</td>\n",
              "      <td>0</td>\n",
              "      <td>0</td>\n",
              "      <td>0.38</td>\n",
              "      <td>0.33</td>\n",
              "      <td>1.12</td>\n",
              "      <td>90</td>\n",
              "      <td>1</td>\n",
              "      <td>0</td>\n",
              "      <td>0</td>\n",
              "      <td>1</td>\n",
              "      <td>0</td>\n",
              "      <td>0</td>\n",
              "      <td>1</td>\n",
              "      <td>0</td>\n",
              "      <td>0</td>\n",
              "      <td>1</td>\n",
              "      <td>0</td>\n",
              "      <td>0</td>\n",
              "      <td>1</td>\n",
              "      <td>0</td>\n",
              "      <td>0</td>\n",
              "      <td>0</td>\n",
              "      <td>0</td>\n",
              "      <td>0</td>\n",
              "      <td>0</td>\n",
              "      <td>0</td>\n",
              "      <td>1</td>\n",
              "      <td>0</td>\n",
              "      <td>0</td>\n",
              "      <td>1</td>\n",
              "      <td>0</td>\n",
              "      <td>0</td>\n",
              "      <td>0</td>\n",
              "      <td>1</td>\n",
              "      <td>0</td>\n",
              "      <td>0</td>\n",
              "      <td>0</td>\n",
              "      <td>0</td>\n",
              "      <td>0</td>\n",
              "      <td>0</td>\n",
              "      <td>0</td>\n",
              "    </tr>\n",
              "  </tbody>\n",
              "</table>\n",
              "</div>"
            ],
            "text/plain": [
              "             geo_level_1_id  ...  plan_configuration_u\n",
              "building_id                  ...                      \n",
              "802906                    6  ...                     0\n",
              "28830                     8  ...                     0\n",
              "94947                    21  ...                     0\n",
              "590882                   22  ...                     0\n",
              "201944                   11  ...                     0\n",
              "\n",
              "[5 rows x 60 columns]"
            ]
          },
          "metadata": {
            "tags": []
          },
          "execution_count": 22
        }
      ]
    },
    {
      "cell_type": "code",
      "metadata": {
        "id": "I4m85cIhjv-6"
      },
      "source": [
        "from sklearn.model_selection import train_test_split\n",
        "X_train,X_test,y_train,y_test = train_test_split(train_values_subset,train_labels,test_size=0.2,train_size=0.8)"
      ],
      "execution_count": null,
      "outputs": []
    },
    {
      "cell_type": "code",
      "metadata": {
        "colab": {
          "base_uri": "https://localhost:8080/"
        },
        "id": "joCJeAdTjv-6",
        "outputId": "de86c7d6-5a88-4183-e41c-11e32af03f4f"
      },
      "source": [
        "HGS.fit(X_train,y_train)"
      ],
      "execution_count": null,
      "outputs": [
        {
          "output_type": "execute_result",
          "data": {
            "text/plain": [
              "HalvingGridSearchCV(estimator=XGBClassifier(objetive='multi:softprob',\n",
              "                                            seed=123),\n",
              "                    n_jobs=-1,\n",
              "                    param_grid={'base_score': [0.5], 'colsample_bytree': [0.6],\n",
              "                                'learning_rate': [0.1], 'max_delta_step': [1],\n",
              "                                'max_depth': [10, 13], 'n_estimators': [100],\n",
              "                                'subsample': [0.8]},\n",
              "                    refit=<function _refit_callable at 0x7fbe441f27a0>,\n",
              "                    scoring='f1_micro')"
            ]
          },
          "metadata": {
            "tags": []
          },
          "execution_count": 24
        }
      ]
    },
    {
      "cell_type": "code",
      "metadata": {
        "colab": {
          "base_uri": "https://localhost:8080/"
        },
        "id": "zPrDPpJKjv-7",
        "outputId": "7556032a-05cd-4fe8-ac80-b83705de2fae"
      },
      "source": [
        "HGS.best_params_"
      ],
      "execution_count": null,
      "outputs": [
        {
          "output_type": "execute_result",
          "data": {
            "text/plain": [
              "{'base_score': 0.5,\n",
              " 'colsample_bytree': 0.6,\n",
              " 'learning_rate': 0.1,\n",
              " 'max_delta_step': 1,\n",
              " 'max_depth': 13,\n",
              " 'n_estimators': 100,\n",
              " 'subsample': 0.8}"
            ]
          },
          "metadata": {
            "tags": []
          },
          "execution_count": 25
        }
      ]
    },
    {
      "cell_type": "code",
      "metadata": {
        "id": "9nX3R7MHjv-7"
      },
      "source": [
        "preds = HGS.predict(X_test)"
      ],
      "execution_count": null,
      "outputs": []
    },
    {
      "cell_type": "code",
      "metadata": {
        "colab": {
          "base_uri": "https://localhost:8080/"
        },
        "id": "sZXNN3Ufjv-7",
        "outputId": "1cc0688d-5aa6-42d2-bc9c-a4d87285893d"
      },
      "source": [
        "from sklearn.metrics import f1_score\n",
        "\n",
        "\n",
        "f1_score(y_test, preds, average='micro')"
      ],
      "execution_count": null,
      "outputs": [
        {
          "output_type": "execute_result",
          "data": {
            "text/plain": [
              "0.7427140691851654"
            ]
          },
          "metadata": {
            "tags": []
          },
          "execution_count": 27
        }
      ]
    },
    {
      "cell_type": "code",
      "metadata": {
        "id": "G9Y4UQO0jv-7"
      },
      "source": [
        "test_values_subset = test_values[selected_features]\n",
        "\n",
        "\n",
        "test_values_subset[\"age\"] = winsorize(test_values_subset[\"age\"],(0, 0.05))\n",
        "test_values_subset[\"area_percentage\"] = winsorize(test_values_subset[\"area_percentage\"],(0, 0.055))\n",
        "test_values_subset[\"height_percentage\"] = winsorize(test_values_subset[\"height_percentage\"],(0, 0.04))\n",
        "\n",
        "\n",
        "test_values_subset[\"floors/area_p\"] = test_values_subset[\"count_floors_pre_eq\"]/test_values_subset[\"area_percentage\"]\n",
        "test_values_subset[\"floors/height_p\"] = test_values_subset[\"count_floors_pre_eq\"]/test_values_subset[\"height_percentage\"]\n",
        "test_values_subset[\"height_p/area_p\"] = test_values_subset[\"height_percentage\"]/test_values_subset[\"area_percentage\"]\n",
        "test_values_subset[\"age*floors\"] = test_values_subset[\"age\"]*test_values_subset[\"count_floors_pre_eq\"]\n",
        "\n",
        "test_values_subset[\"doesnt_have_secondary_use\"] = 1-test_values_subset[\"has_secondary_use\"]\n",
        "del test_values_subset[\"has_secondary_use\"]\n",
        "test_values_subset[\"has_secondary_use_other\"]  = test_values_subset[\"has_secondary_use_other\"]  |  test_values_subset[\"has_secondary_use_rental\"] |  test_values_subset[\"has_secondary_use_use_police\"] |  test_values_subset[\"has_secondary_use_institution\"]|  test_values_subset[\"has_secondary_use_school\"]|  test_values_subset[\"has_secondary_use_industry\"]|  test_values_subset[\"has_secondary_use_health_post\"]|  test_values_subset[\"has_secondary_use_gov_office\"]\n",
        "del test_values_subset[\"has_secondary_use_rental\"]\n",
        "del test_values_subset[\"has_secondary_use_institution\"]\n",
        "del test_values_subset[\"has_secondary_use_industry\"]\n",
        "del test_values_subset[\"has_secondary_use_health_post\"]\n",
        "del test_values_subset[\"has_secondary_use_gov_office\"]\n",
        "del test_values_subset[\"has_secondary_use_use_police\"]\n",
        "del test_values_subset[\"has_secondary_use_school\"]\n",
        "\n",
        "test_values_subset = pd.get_dummies(test_values_subset)\n",
        "\n",
        "\n",
        "predictions = HGS.predict(test_values_subset)"
      ],
      "execution_count": null,
      "outputs": []
    },
    {
      "cell_type": "code",
      "metadata": {
        "id": "f8nscAp3jv-8"
      },
      "source": [
        "submission_format = pd.read_csv('submission_format.csv', encoding='latin1',sep=',', index_col='building_id')\n",
        "my_submission = pd.DataFrame(data=predictions,\n",
        "                             columns=submission_format.columns,\n",
        "                             index=submission_format.index)"
      ],
      "execution_count": null,
      "outputs": []
    },
    {
      "cell_type": "code",
      "metadata": {
        "colab": {
          "base_uri": "https://localhost:8080/",
          "height": 234
        },
        "id": "KpdbwUTbjv-8",
        "outputId": "0c9e9011-af4a-45b6-8e2d-68a0e39bb8c4"
      },
      "source": [
        "my_submission.head()"
      ],
      "execution_count": null,
      "outputs": [
        {
          "output_type": "execute_result",
          "data": {
            "text/html": [
              "<div>\n",
              "<style scoped>\n",
              "    .dataframe tbody tr th:only-of-type {\n",
              "        vertical-align: middle;\n",
              "    }\n",
              "\n",
              "    .dataframe tbody tr th {\n",
              "        vertical-align: top;\n",
              "    }\n",
              "\n",
              "    .dataframe thead th {\n",
              "        text-align: right;\n",
              "    }\n",
              "</style>\n",
              "<table border=\"1\" class=\"dataframe\">\n",
              "  <thead>\n",
              "    <tr style=\"text-align: right;\">\n",
              "      <th></th>\n",
              "      <th>damage_grade</th>\n",
              "    </tr>\n",
              "    <tr>\n",
              "      <th>building_id</th>\n",
              "      <th></th>\n",
              "    </tr>\n",
              "  </thead>\n",
              "  <tbody>\n",
              "    <tr>\n",
              "      <th>300051</th>\n",
              "      <td>3</td>\n",
              "    </tr>\n",
              "    <tr>\n",
              "      <th>99355</th>\n",
              "      <td>2</td>\n",
              "    </tr>\n",
              "    <tr>\n",
              "      <th>890251</th>\n",
              "      <td>2</td>\n",
              "    </tr>\n",
              "    <tr>\n",
              "      <th>745817</th>\n",
              "      <td>1</td>\n",
              "    </tr>\n",
              "    <tr>\n",
              "      <th>421793</th>\n",
              "      <td>3</td>\n",
              "    </tr>\n",
              "  </tbody>\n",
              "</table>\n",
              "</div>"
            ],
            "text/plain": [
              "             damage_grade\n",
              "building_id              \n",
              "300051                  3\n",
              "99355                   2\n",
              "890251                  2\n",
              "745817                  1\n",
              "421793                  3"
            ]
          },
          "metadata": {
            "tags": []
          },
          "execution_count": 30
        }
      ]
    },
    {
      "cell_type": "code",
      "metadata": {
        "colab": {
          "base_uri": "https://localhost:8080/"
        },
        "id": "Mkw40gqYjv-8",
        "outputId": "6bb2ab51-31db-4687-d440-c794f73c0568"
      },
      "source": [
        "my_submission.to_csv('submission.csv')\n",
        "!head submission.csv"
      ],
      "execution_count": null,
      "outputs": [
        {
          "output_type": "stream",
          "text": [
            "building_id,damage_grade\n",
            "300051,3\n",
            "99355,2\n",
            "890251,2\n",
            "745817,1\n",
            "421793,3\n",
            "871976,3\n",
            "691228,1\n",
            "896100,3\n",
            "343471,2\n"
          ],
          "name": "stdout"
        }
      ]
    },
    {
      "cell_type": "code",
      "metadata": {
        "colab": {
          "base_uri": "https://localhost:8080/",
          "height": 17
        },
        "id": "9EvqZcgTjv-8",
        "outputId": "a114e213-cf77-4c02-ca5d-95cb65684176"
      },
      "source": [
        "from google.colab import files\n",
        "files.download(\"submission.csv\")"
      ],
      "execution_count": null,
      "outputs": [
        {
          "output_type": "display_data",
          "data": {
            "application/javascript": [
              "\n",
              "    async function download(id, filename, size) {\n",
              "      if (!google.colab.kernel.accessAllowed) {\n",
              "        return;\n",
              "      }\n",
              "      const div = document.createElement('div');\n",
              "      const label = document.createElement('label');\n",
              "      label.textContent = `Downloading \"${filename}\": `;\n",
              "      div.appendChild(label);\n",
              "      const progress = document.createElement('progress');\n",
              "      progress.max = size;\n",
              "      div.appendChild(progress);\n",
              "      document.body.appendChild(div);\n",
              "\n",
              "      const buffers = [];\n",
              "      let downloaded = 0;\n",
              "\n",
              "      const channel = await google.colab.kernel.comms.open(id);\n",
              "      // Send a message to notify the kernel that we're ready.\n",
              "      channel.send({})\n",
              "\n",
              "      for await (const message of channel.messages) {\n",
              "        // Send a message to notify the kernel that we're ready.\n",
              "        channel.send({})\n",
              "        if (message.buffers) {\n",
              "          for (const buffer of message.buffers) {\n",
              "            buffers.push(buffer);\n",
              "            downloaded += buffer.byteLength;\n",
              "            progress.value = downloaded;\n",
              "          }\n",
              "        }\n",
              "      }\n",
              "      const blob = new Blob(buffers, {type: 'application/binary'});\n",
              "      const a = document.createElement('a');\n",
              "      a.href = window.URL.createObjectURL(blob);\n",
              "      a.download = filename;\n",
              "      div.appendChild(a);\n",
              "      a.click();\n",
              "      div.remove();\n",
              "    }\n",
              "  "
            ],
            "text/plain": [
              "<IPython.core.display.Javascript object>"
            ]
          },
          "metadata": {
            "tags": []
          }
        },
        {
          "output_type": "display_data",
          "data": {
            "application/javascript": [
              "download(\"download_666adf21-b442-4f67-b369-1fab15de81f1\", \"submission.csv\", 777012)"
            ],
            "text/plain": [
              "<IPython.core.display.Javascript object>"
            ]
          },
          "metadata": {
            "tags": []
          }
        }
      ]
    }
  ]
}